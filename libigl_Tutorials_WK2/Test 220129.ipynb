{
 "cells": [
  {
   "cell_type": "markdown",
   "metadata": {},
   "source": [
    "# Notebook test 220129"
   ]
  },
  {
   "cell_type": "code",
   "execution_count": 1,
   "metadata": {},
   "outputs": [],
   "source": [
    "fileName = \"part1_Mesh.off\"\n",
    "## MUST put model in 'data' folder"
   ]
  },
  {
   "cell_type": "code",
   "execution_count": 2,
   "metadata": {},
   "outputs": [],
   "source": [
    "import igl\n",
    "import scipy as sp\n",
    "import numpy as np\n",
    "from meshplot import plot, subplot, interact\n",
    "\n",
    "import os\n",
    "root_folder = os.getcwd()"
   ]
  },
  {
   "cell_type": "code",
   "execution_count": 3,
   "metadata": {},
   "outputs": [
    {
     "name": "stdout",
     "output_type": "stream",
     "text": [
      "Vertices:  76027\n",
      "Faces:  151765\n"
     ]
    }
   ],
   "source": [
    "## Load a mesh in OFF format\n",
    "v, f = igl.read_triangle_mesh(os.path.join(root_folder, \"data\", fileName))\n",
    "\n",
    "## Print the vertices and faces matrices \n",
    "print(\"Vertices: \", len(v))\n",
    "print(\"Faces: \", len(f))"
   ]
  },
  {
   "attachments": {},
   "cell_type": "markdown",
   "metadata": {},
   "source": [
    "tutorial = https://libigl.github.io/libigl-python-bindings/tut-chapter1/"
   ]
  },
  {
   "attachments": {},
   "cell_type": "markdown",
   "metadata": {},
   "source": [
    "# Gaussian Curvature (tutorial)"
   ]
  },
  {
   "cell_type": "code",
   "execution_count": 4,
   "metadata": {},
   "outputs": [
    {
     "data": {
      "application/vnd.jupyter.widget-view+json": {
       "model_id": "992d3c384f9c44b7b78592227d59aea0",
       "version_major": 2,
       "version_minor": 0
      },
      "text/plain": [
       "Renderer(camera=PerspectiveCamera(children=(DirectionalLight(color='white', intensity=0.6, position=(0.0, -30.…"
      ]
     },
     "metadata": {},
     "output_type": "display_data"
    },
    {
     "data": {
      "text/plain": [
       "<meshplot.Viewer.Viewer at 0x7fd23a681e80>"
      ]
     },
     "execution_count": 4,
     "metadata": {},
     "output_type": "execute_result"
    }
   ],
   "source": [
    "k = igl.gaussian_curvature(v, f)\n",
    "plot(v, f, k)"
   ]
  },
  {
   "attachments": {},
   "cell_type": "markdown",
   "metadata": {},
   "source": [
    "\"compute the massmatrix and divide the gaussian curvature values by area to get the integral average\""
   ]
  },
  {
   "cell_type": "code",
   "execution_count": 5,
   "metadata": {},
   "outputs": [
    {
     "data": {
      "application/vnd.jupyter.widget-view+json": {
       "model_id": "146f0d1fb03841c58d5acdbd10a0ef50",
       "version_major": 2,
       "version_minor": 0
      },
      "text/plain": [
       "Renderer(camera=PerspectiveCamera(children=(DirectionalLight(color='white', intensity=0.6, position=(0.0, -30.…"
      ]
     },
     "metadata": {},
     "output_type": "display_data"
    },
    {
     "data": {
      "text/plain": [
       "<meshplot.Viewer.Viewer at 0x7fd23a69f310>"
      ]
     },
     "execution_count": 5,
     "metadata": {},
     "output_type": "execute_result"
    }
   ],
   "source": [
    "m = igl.massmatrix(v, f, igl.MASSMATRIX_TYPE_VORONOI)\n",
    "minv = sp.sparse.diags(1 / m.diagonal())\n",
    "kn = minv.dot(k)\n",
    "plot(v, f, kn)"
   ]
  },
  {
   "attachments": {},
   "cell_type": "markdown",
   "metadata": {},
   "source": [
    "# Curvature directions (tutorial)"
   ]
  },
  {
   "cell_type": "code",
   "execution_count": 6,
   "metadata": {},
   "outputs": [
    {
     "data": {
      "application/vnd.jupyter.widget-view+json": {
       "model_id": "37bd056422bd46fb805516e190956338",
       "version_major": 2,
       "version_minor": 0
      },
      "text/plain": [
       "Renderer(camera=PerspectiveCamera(children=(DirectionalLight(color='white', intensity=0.6, position=(0.0, -30.…"
      ]
     },
     "metadata": {},
     "output_type": "display_data"
    },
    {
     "data": {
      "text/plain": [
       "<meshplot.Viewer.Viewer at 0x7fd248808fd0>"
      ]
     },
     "execution_count": 6,
     "metadata": {},
     "output_type": "execute_result"
    }
   ],
   "source": [
    "l = igl.cotmatrix(v, f)\n",
    "m = igl.massmatrix(v, f, igl.MASSMATRIX_TYPE_VORONOI)\n",
    "\n",
    "minv = sp.sparse.diags(1 / m.diagonal())\n",
    "\n",
    "hn = -minv.dot(l.dot(v))\n",
    "h = np.linalg.norm(hn, axis=1)\n",
    "plot(v, f, h)"
   ]
  },
  {
   "attachments": {},
   "cell_type": "markdown",
   "metadata": {},
   "source": [
    "\"determining principal curvatures is via quadric fitting\""
   ]
  },
  {
   "cell_type": "code",
   "execution_count": 7,
   "metadata": {},
   "outputs": [
    {
     "data": {
      "application/vnd.jupyter.widget-view+json": {
       "model_id": "6f6b11f69e88413b9059dad07e375017",
       "version_major": 2,
       "version_minor": 0
      },
      "text/plain": [
       "Renderer(camera=PerspectiveCamera(children=(DirectionalLight(color='white', intensity=0.6, position=(0.0, -30.…"
      ]
     },
     "metadata": {},
     "output_type": "display_data"
    },
    {
     "data": {
      "text/plain": [
       "2"
      ]
     },
     "execution_count": 7,
     "metadata": {},
     "output_type": "execute_result"
    }
   ],
   "source": [
    "v1, v2, k1, k2 = igl.principal_curvature(v, f)\n",
    "h2 = 0.5 * (k1 + k2)\n",
    "p = plot(v, f, h2, shading={\"wireframe\": False}, return_plot=True)\n",
    "\n",
    "avg = igl.avg_edge_length(v, f) / 2.0\n",
    "p.add_lines(v + v1 * avg, v - v1 * avg, shading={\"line_color\": \"red\"})\n",
    "p.add_lines(v + v2 * avg, v - v2 * avg, shading={\"line_color\": \"green\"})"
   ]
  },
  {
   "attachments": {},
   "cell_type": "markdown",
   "metadata": {},
   "source": [
    "# Laplacian (Tutorial)"
   ]
  },
  {
   "cell_type": "code",
   "execution_count": 8,
   "metadata": {},
   "outputs": [
    {
     "data": {
      "application/vnd.jupyter.widget-view+json": {
       "model_id": "4e14b7dc83d040efac23375d0f9488c4",
       "version_major": 2,
       "version_minor": 0
      },
      "text/plain": [
       "HBox(children=(Output(), Output(), Output(), Output()))"
      ]
     },
     "metadata": {},
     "output_type": "display_data"
    }
   ],
   "source": [
    "from scipy.sparse.linalg import spsolve\n",
    "\n",
    "v, f = igl.read_triangle_mesh(os.path.join(root_folder, \"data\", fileName))\n",
    "l = igl.cotmatrix(v, f)\n",
    "\n",
    "n = igl.per_vertex_normals(v, f)*0.5+0.5\n",
    "c = np.linalg.norm(n, axis=1)\n",
    "\n",
    "\n",
    "vs = [v]\n",
    "cs = [c]\n",
    "for i in range(10):\n",
    "    m = igl.massmatrix(v, f, igl.MASSMATRIX_TYPE_BARYCENTRIC)\n",
    "    s = (m - 0.001 * l)\n",
    "    b = m.dot(v)\n",
    "    v = spsolve(s, m.dot(v))\n",
    "    n = igl.per_vertex_normals(v, f)*0.5+0.5\n",
    "    c = np.linalg.norm(n, axis=1)\n",
    "    vs.append(v)\n",
    "    cs.append(c)\n",
    "\n",
    "\n",
    "p = subplot(vs[0], f, c, shading={\"wireframe\": False}, s=[1, 4, 0])\n",
    "subplot(vs[3], f, c, shading={\"wireframe\": False}, s=[1, 4, 1], data=p)\n",
    "subplot(vs[6], f, c, shading={\"wireframe\": False}, s=[1, 4, 2], data=p)\n",
    "subplot(vs[9], f, c, shading={\"wireframe\": False}, s=[1, 4, 3], data=p)"
   ]
  }
 ],
 "metadata": {
  "kernelspec": {
   "display_name": "base",
   "language": "python",
   "name": "python3"
  },
  "language_info": {
   "codemirror_mode": {
    "name": "ipython",
    "version": 3
   },
   "file_extension": ".py",
   "mimetype": "text/x-python",
   "name": "python",
   "nbconvert_exporter": "python",
   "pygments_lexer": "ipython3",
   "version": "3.9.13"
  },
  "orig_nbformat": 4,
  "vscode": {
   "interpreter": {
    "hash": "965bd926a585e7a707780cf489a5aa234b5edeb61e436163a73c6bef09da54c9"
   }
  }
 },
 "nbformat": 4,
 "nbformat_minor": 2
}
