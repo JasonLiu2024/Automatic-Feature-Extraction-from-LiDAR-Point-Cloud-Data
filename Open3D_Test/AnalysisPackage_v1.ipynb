{
 "cells": [
  {
   "attachments": {},
   "cell_type": "markdown",
   "metadata": {},
   "source": [
    "# This is Version 1 of our visualization tool\n",
    "I use the following code to display feature lines (detected by CrestCODE based on curvature)"
   ]
  },
  {
   "cell_type": "code",
   "execution_count": 85,
   "metadata": {},
   "outputs": [],
   "source": [
    "import os\n",
    "import numpy as np\n",
    "import open3d as o3d\n",
    "import igl\n",
    "import meshplot as mp"
   ]
  },
  {
   "cell_type": "code",
   "execution_count": 113,
   "metadata": {},
   "outputs": [],
   "source": [
    "MESHNAME = \"tbk_crop_230328_depth=12_correctNormals_crop_1_p1\"\n",
    "MESHFILE = \"../Open3D_Test/\" + MESHNAME + \".ply\"\n",
    "PSEUDO_PLY2 = 'ply2.txt'\n",
    "NEWLINE = '\\n'\n",
    "NEIGHBOR = 6\n",
    "CRESTLINE = 1 # 0 means NO Crest line, 1 means YES Crest line\n",
    "TXT = \".txt\"\n",
    "RIDGES = \"Ridge_\" + \"k=\" + str(NEIGHBOR) + \"_\" + MESHNAME + TXT\n",
    "RAVINES = \"Ravine_\" + \"k=\" + str(NEIGHBOR) + \"_\" + MESHNAME + TXT\n",
    "OUTPUT_rename = \"Output_\" + MESHNAME + TXT\n",
    "PLY2_rename = \"PLY2_\" + MESHNAME + TXT\n",
    "PLY = \".ply\""
   ]
  },
  {
   "cell_type": "code",
   "execution_count": 142,
   "metadata": {},
   "outputs": [],
   "source": [
    "# read in mesh file\n",
    "def get_mesh(path):\n",
    "    mesh = o3d.io.read_triangle_mesh(MESHFILE)\n",
    "    print(mesh)\n",
    "    verts = np.asarray(mesh.vertices)\n",
    "    faces = np.asarray(mesh.triangles)\n",
    "    return verts, faces\n",
    "\n",
    "# turn meshfile to Pseudo_PLY2 file\n",
    "def to_pseudo_PLY2(name, neighbor, crestline, verts, faces):\n",
    "    NEWLINE = '\\n'\n",
    "    verts_count = len(verts)\n",
    "    faces_count = len(faces)\n",
    "    with open(name, 'w') as f:\n",
    "        # num vertices\n",
    "        f.write(str(verts_count) + NEWLINE)\n",
    "        # num triangles\n",
    "        f.write(str(faces_count) + NEWLINE)\n",
    "        # neighborhood size\n",
    "        f.write(str(neighbor) + NEWLINE)\n",
    "        # Crestline Y/N\n",
    "        f.write(str(crestline) + NEWLINE)\n",
    "        # vertices (coordinates)\n",
    "        for i in range(verts_count):\n",
    "            f.write(\" \".join(map(str, verts[i])) + NEWLINE)\n",
    "        # faces (vertex IDs)\n",
    "        for j in range(faces_count):\n",
    "            f.write(\" \".join(map(str, faces[j])) + NEWLINE)\n",
    "\n",
    "# get data from Ridges.txt OR Ravines.txt\n",
    "def RawData(FILE):\n",
    "    f = open(FILE, 'r')\n",
    "    V = int(f.readline()) # num of vertices\n",
    "    E = int(f.readline()) # num of edges\n",
    "    N = int(f.readline()) # num of connected components\n",
    "    # vertices: [x, y, z, connected cmp ID]\n",
    "    vertices = np.zeros(shape = (V, 4)) # index = vtx ID\n",
    "    for i in range(V): \n",
    "        #index = pointID\n",
    "        line = f.readline()\n",
    "        vertices[i] = [float(n) for n in line.split()]\n",
    "    # connected components: [Ridgeness, Sphericalness, Cyclideness]\n",
    "    connected_cmp = np.zeros(shape = (N, 3)) # index = connected cmp ID\n",
    "    for j in range(N):\n",
    "        line = f.readline()\n",
    "        connected_cmp[j] = [float(n) for n in line.split()]\n",
    "    # edges (u,v): [vtx ID of u, vtx ID of v, triangle ID]\n",
    "    edges = np.zeros(shape = (E, 3), dtype=int) # index = edge ID\n",
    "    for k in range(E):\n",
    "        line = f.readline()\n",
    "        edges[k] = [n for n in line.split()]\n",
    "    return V, N, E, vertices, connected_cmp, edges\n",
    "\n",
    "# get vtx pair for Crest Line edges!\n",
    "def DisplayData(V, N, E, vertices, connected_cmp, edges):\n",
    "    # tuple: [V(0), N(1), E(2), vertices(3), connected components(4), edges(5)]\n",
    "    Stt_Vtx = np.zeros(shape = (E, 3))\n",
    "    End_Vtx = np.zeros(shape = (E, 3))\n",
    "    for i in range(tuple[0]):\n",
    "        Stt_Vtx[i] = vertices[3][edges[5][i, 0]][0:3]\n",
    "        End_Vtx[i] = vertices[3][edges[5][i, 1]][0:3]\n",
    "    Triangle_indices = edges[:,2]\n",
    "    return Stt_Vtx, End_Vtx, Triangle_indices\n",
    "\n",
    "def show(ridges, ravines, verts, faces):\n",
    "    p = mp.plot(verts, faces, return_plot=True)\n",
    "    RI_S, RI_T, RI_Tri = DisplayData(RawData(ridges))\n",
    "    p.add_lines(RI_S, RI_T, shading={\"line_color\": \"red\", \"line_width\": 10.0})\n",
    "    RA_S, RA_T, RA_Tri = DisplayData(RawData(ravines))\n",
    "    p.add_lines(RA_S, RA_T, shading={\"line_color\": \"blue\", \"line_width\": 10.0})\n",
    "    p.save(\"Ridge&Ravine_\" + MESHNAME)\n",
    "\n",
    "def ridges(ridges, verts, faces):\n",
    "    p = mp.plot(verts, faces, return_plot=True)\n",
    "    RI_S, RI_T, RI_Tri = DisplayData(RawData(ridges))\n",
    "    p.add_lines(RI_S, RI_T, shading={\"line_color\": \"red\", \"line_width\": 10.0})\n",
    "    p.save(\"Ridge_\" + MESHNAME)\n",
    "\n",
    "def ravines(ravines, verts, faces):\n",
    "    p = mp.plot(verts, faces, return_plot=True)\n",
    "    RA_S, RA_T, RA_Tri = DisplayData(RawData(ravines))\n",
    "    p.add_lines(RA_S, RA_T, shading={\"line_color\": \"blue\", \"line_width\": 10.0})\n",
    "    p.save(\"Ravine_\" + MESHNAME)\n"
   ]
  },
  {
   "cell_type": "code",
   "execution_count": 148,
   "metadata": {},
   "outputs": [
    {
     "data": {
      "text/plain": [
       "4"
      ]
     },
     "execution_count": 148,
     "metadata": {},
     "output_type": "execute_result"
    }
   ],
   "source": [
    "def F():\n",
    "    A = 1\n",
    "    B = 2\n",
    "    C = 3\n",
    "    return (A, B, C)\n",
    "def G(tuple={\"A\", \"B\", \"C\"}):\n",
    "    D = 4\n",
    "    return D\n",
    "G(F())"
   ]
  },
  {
   "cell_type": "code",
   "execution_count": 137,
   "metadata": {},
   "outputs": [
    {
     "name": "stdout",
     "output_type": "stream",
     "text": [
      "TriangleMesh with 32104 points and 63500 triangles.\n"
     ]
    }
   ],
   "source": [
    "verts, faces = get_mesh(MESHFILE)"
   ]
  },
  {
   "cell_type": "code",
   "execution_count": 119,
   "metadata": {},
   "outputs": [],
   "source": [
    "to_pseudo_PLY2(PSEUDO_PLY2, NEIGHBOR, CRESTLINE, verts, faces)"
   ]
  },
  {
   "attachments": {},
   "cell_type": "markdown",
   "metadata": {},
   "source": [
    "# BOOM! You ran CrestCODE and got your .txt outputs!\n",
    "<br>You ran command in the CrestCODE folder (through Terminal) and got .txt files for: output, ravines, ridges\n",
    ">the input: ./setCurvature ply2.txt output.txt\n",
    "><br>Note that 'ply2.txt' corresponds to (the value of) PSEUDO_PLY2\n",
    "\n",
    "<br>The .txt show up in the CrestCODE folder\n",
    "<br>You moved those files Back to Open3D_Test!"
   ]
  },
  {
   "cell_type": "code",
   "execution_count": 114,
   "metadata": {},
   "outputs": [],
   "source": [
    "#cleaning up!\n",
    "os.rename(\"ridges.txt\", RIDGES)\n",
    "os.rename(\"ravines.txt\", RAVINES)\n",
    "os.rename(\"output.txt\", OUTPUT_rename)\n",
    "os.rename(\"ply2.txt\", PLY2_rename)"
   ]
  },
  {
   "cell_type": "code",
   "execution_count": 218,
   "metadata": {},
   "outputs": [
    {
     "name": "stdout",
     "output_type": "stream",
     "text": [
      "TriangleMesh with 32104 points and 63500 triangles.\n",
      "(63500, 1)\n",
      "[4867.]\n",
      "[ 1.522417  2.35012  -0.171785]\n",
      "[ 1.522818  2.350347 -0.171724]\n"
     ]
    },
    {
     "data": {
      "application/vnd.jupyter.widget-view+json": {
       "model_id": "d7166851709f4fb3b5b294236facf87f",
       "version_major": 2,
       "version_minor": 0
      },
      "text/plain": [
       "Renderer(camera=PerspectiveCamera(children=(DirectionalLight(color='white', intensity=0.6, position=(1.6551961…"
      ]
     },
     "metadata": {},
     "output_type": "display_data"
    },
    {
     "name": "stdout",
     "output_type": "stream",
     "text": [
      "Plot saved to file TEST_Ravine_tbk_crop_230328_depth=12_correctNormals_crop_1_p1.html.\n"
     ]
    }
   ],
   "source": [
    "verts, faces = get_mesh(MESHFILE)\n",
    "# get data from Ridges.txt OR Ravines.txt\n",
    "def RawData(FILE, vertices, faces):\n",
    "    f = open(FILE, 'r')\n",
    "    V = int(f.readline())\n",
    "    E = int(f.readline())\n",
    "    N = int(f.readline()) # num of connected components\n",
    "    # vertices: [x, y, z, connected cmp ID]\n",
    "    vertices = np.zeros(shape = (V, 4)) # index = vtx ID\n",
    "    for i in range(V): \n",
    "        #index = pointID\n",
    "        line = f.readline()\n",
    "        vertices[i] = [float(n) for n in line.split()]\n",
    "    # connected components: [Ridgeness, Sphericalness, Cyclideness]\n",
    "    connected_cmp = np.zeros(shape = (N, 3)) # index = connected cmp ID\n",
    "    for j in range(N):\n",
    "        line = f.readline()\n",
    "        connected_cmp[j] = [float(n) for n in line.split()]\n",
    "    # edges (u,v): [vtx ID of u, vtx ID of v, triangle ID]\n",
    "    edges = np.zeros(shape = (E, 3), dtype=int) # index = edge ID\n",
    "    for k in range(E):\n",
    "        line = f.readline()\n",
    "        edges[k] = [n for n in line.split()]\n",
    "    Edge_U = np.zeros(shape = (E, 3))\n",
    "    Edge_V = np.zeros(shape = (E, 3))\n",
    "    for i in range(E):\n",
    "        Edge_U[i] = vertices[edges[i][0]][0:3]\n",
    "        Edge_V[i] = vertices[edges[i][1]][0:3]\n",
    "    Triangle_indices = edges[:,2]\n",
    "    F = len(faces)  \n",
    "    faces_bool = np.zeros(shape=(F,1))\n",
    "    for e in range(E):\n",
    "        if (edges[e][2] != -1):\n",
    "            faces_bool[edges[e]] = 1\n",
    "    return Edge_U, Edge_V, Triangle_indices, E, edges\n",
    "start, finish, Triangle_indices, E, edges = RawData(RAVINES, verts, faces)\n",
    "F = len(faces)\n",
    "faces_bool = np.zeros(shape=(F,1))\n",
    "for e in range(E):\n",
    "    if (Triangle_indices[e] != -1):\n",
    "        faces_bool[Triangle_indices[e]] = 1\n",
    "print(faces_bool.shape)\n",
    "print(np.sum(faces_bool, axis=0))\n",
    "faces_to_show = []\n",
    "for i in range(F):\n",
    "    if(faces_bool[i] >= 1):\n",
    "        faces_to_show.append(faces[i])\n",
    "print(start[1])\n",
    "print(finish[1])\n",
    "p = mp.plot(v=verts, f=np.asarray(faces_to_show), return_plot=True)\n",
    "p.add_lines(start, finish, shading={\"line_color\": \"red\", \"line_width\": 10.0})\n",
    "p.save(\"TEST_Ravine_\" + MESHNAME)"
   ]
  },
  {
   "cell_type": "code",
   "execution_count": 200,
   "metadata": {},
   "outputs": [
    {
     "name": "stdout",
     "output_type": "stream",
     "text": [
      "[[0. 1. 2. 0.]]\n"
     ]
    }
   ],
   "source": [
    "\"\"\"#Example# get: faces; from: face index\"\"\"\n",
    "F = np.asarray([0,1,2])\n",
    "G = np.zeros(shape=(1,4))\n",
    "G[:,0:3] = F\n",
    "print(G)\n",
    "# got: \n",
    "# [edge_u_index, edge_v_index, face_index] <- edges\n",
    "# [a_index, b_index, c_index] @ face_index\n",
    "# [x, y, z] @ a_index\n",
    "# want:\n",
    "# select faces by index\n",
    "# tally appearance count for ea face"
   ]
  },
  {
   "cell_type": "code",
   "execution_count": 198,
   "metadata": {},
   "outputs": [
    {
     "name": "stdout",
     "output_type": "stream",
     "text": [
      "[7 8]\n",
      "[[5. 6.]]\n",
      "[[7. 8.]]\n"
     ]
    }
   ],
   "source": [
    "\"\"\"#Example# get: vertices; from: vertex index\"\"\"\n",
    "A = np.asarray([[0, 1, 2]]) # edges, form: (u index, v index)\n",
    "B = np.asarray([[5,6,0],[7,8,0],[9,10,0]]) # verts, form: (x, y, z)\n",
    "# want: C = [5,6], D = [7,8] <- selected verts by indices; indices from edges\n",
    "C = np.zeros(shape=(A.shape[0],2))\n",
    "D = np.zeros(shape=(A.shape[0],2))\n",
    "for i in range(len(A)):\n",
    "    C[i] = B[A[i][0]][0:2]\n",
    "    D[i] = B[A[i][1]][0:2]\n",
    "print(B[1][0:2])\n",
    "print(C)\n",
    "print(D)"
   ]
  },
  {
   "cell_type": "code",
   "execution_count": 138,
   "metadata": {},
   "outputs": [
    {
     "data": {
      "text/plain": [
       "array([14., 13.,  3.,  0.])"
      ]
     },
     "execution_count": 138,
     "metadata": {},
     "output_type": "execute_result"
    }
   ],
   "source": [
    "(V, N, E, CL_vertices, connected_cmp, edges) = RawData(RAVINES)\n",
    "selected_faces = np.zeros((faces.shape[0],4))\n",
    "selected_faces[:,0:3] = faces\n",
    "selected_faces[1]\n",
    "\n"
   ]
  },
  {
   "cell_type": "code",
   "execution_count": 135,
   "metadata": {},
   "outputs": [
    {
     "name": "stdout",
     "output_type": "stream",
     "text": [
      "[28474. 28472. 24778.     0.]\n"
     ]
    }
   ],
   "source": [
    "triangle_indices = edges[:,2]\n",
    "for i in range(len(triangle_indices)):\n",
    "    if(i != -1):\n",
    "        selected_faces[3] += 1\n",
    "print(selected_faces[55498])"
   ]
  },
  {
   "cell_type": "code",
   "execution_count": 143,
   "metadata": {},
   "outputs": [
    {
     "data": {
      "application/vnd.jupyter.widget-view+json": {
       "model_id": "5ad5bd1d2aa74030999bcca9dfe144ee",
       "version_major": 2,
       "version_minor": 0
      },
      "text/plain": [
       "Renderer(camera=PerspectiveCamera(children=(DirectionalLight(color='white', intensity=0.6, position=(1.6551961…"
      ]
     },
     "metadata": {},
     "output_type": "display_data"
    },
    {
     "ename": "TypeError",
     "evalue": "DisplayData() missing 5 required positional arguments: 'N', 'E', 'vertices', 'connected_cmp', and 'edges'",
     "output_type": "error",
     "traceback": [
      "\u001b[0;31m---------------------------------------------------------------------------\u001b[0m",
      "\u001b[0;31mTypeError\u001b[0m                                 Traceback (most recent call last)",
      "\u001b[0;32m/var/folders/z1/t38_cd9125ngc2v909d5fkh80000gn/T/ipykernel_4781/596658013.py\u001b[0m in \u001b[0;36m<module>\u001b[0;34m\u001b[0m\n\u001b[1;32m      1\u001b[0m \u001b[0;31m# show ravines (very nice)\u001b[0m\u001b[0;34m\u001b[0m\u001b[0;34m\u001b[0m\u001b[0m\n\u001b[0;32m----> 2\u001b[0;31m \u001b[0mravines\u001b[0m\u001b[0;34m(\u001b[0m\u001b[0mRAVINES\u001b[0m\u001b[0;34m,\u001b[0m \u001b[0mverts\u001b[0m\u001b[0;34m,\u001b[0m \u001b[0mfaces\u001b[0m\u001b[0;34m)\u001b[0m\u001b[0;34m\u001b[0m\u001b[0;34m\u001b[0m\u001b[0m\n\u001b[0m",
      "\u001b[0;32m/var/folders/z1/t38_cd9125ngc2v909d5fkh80000gn/T/ipykernel_4781/342063161.py\u001b[0m in \u001b[0;36mravines\u001b[0;34m(ravines, verts, faces)\u001b[0m\n\u001b[1;32m     79\u001b[0m \u001b[0;32mdef\u001b[0m \u001b[0mravines\u001b[0m\u001b[0;34m(\u001b[0m\u001b[0mravines\u001b[0m\u001b[0;34m,\u001b[0m \u001b[0mverts\u001b[0m\u001b[0;34m,\u001b[0m \u001b[0mfaces\u001b[0m\u001b[0;34m)\u001b[0m\u001b[0;34m:\u001b[0m\u001b[0;34m\u001b[0m\u001b[0;34m\u001b[0m\u001b[0m\n\u001b[1;32m     80\u001b[0m     \u001b[0mp\u001b[0m \u001b[0;34m=\u001b[0m \u001b[0mmp\u001b[0m\u001b[0;34m.\u001b[0m\u001b[0mplot\u001b[0m\u001b[0;34m(\u001b[0m\u001b[0mverts\u001b[0m\u001b[0;34m,\u001b[0m \u001b[0mfaces\u001b[0m\u001b[0;34m,\u001b[0m \u001b[0mreturn_plot\u001b[0m\u001b[0;34m=\u001b[0m\u001b[0;32mTrue\u001b[0m\u001b[0;34m)\u001b[0m\u001b[0;34m\u001b[0m\u001b[0;34m\u001b[0m\u001b[0m\n\u001b[0;32m---> 81\u001b[0;31m     \u001b[0mRA_S\u001b[0m\u001b[0;34m,\u001b[0m \u001b[0mRA_T\u001b[0m\u001b[0;34m,\u001b[0m \u001b[0mRA_Tri\u001b[0m \u001b[0;34m=\u001b[0m \u001b[0mDisplayData\u001b[0m\u001b[0;34m(\u001b[0m\u001b[0mRawData\u001b[0m\u001b[0;34m(\u001b[0m\u001b[0mravines\u001b[0m\u001b[0;34m)\u001b[0m\u001b[0;34m)\u001b[0m\u001b[0;34m\u001b[0m\u001b[0;34m\u001b[0m\u001b[0m\n\u001b[0m\u001b[1;32m     82\u001b[0m     \u001b[0mp\u001b[0m\u001b[0;34m.\u001b[0m\u001b[0madd_lines\u001b[0m\u001b[0;34m(\u001b[0m\u001b[0mRA_S\u001b[0m\u001b[0;34m,\u001b[0m \u001b[0mRA_T\u001b[0m\u001b[0;34m,\u001b[0m \u001b[0mshading\u001b[0m\u001b[0;34m=\u001b[0m\u001b[0;34m{\u001b[0m\u001b[0;34m\"line_color\"\u001b[0m\u001b[0;34m:\u001b[0m \u001b[0;34m\"blue\"\u001b[0m\u001b[0;34m,\u001b[0m \u001b[0;34m\"line_width\"\u001b[0m\u001b[0;34m:\u001b[0m \u001b[0;36m10.0\u001b[0m\u001b[0;34m}\u001b[0m\u001b[0;34m)\u001b[0m\u001b[0;34m\u001b[0m\u001b[0;34m\u001b[0m\u001b[0m\n\u001b[1;32m     83\u001b[0m     \u001b[0mp\u001b[0m\u001b[0;34m.\u001b[0m\u001b[0msave\u001b[0m\u001b[0;34m(\u001b[0m\u001b[0;34m\"Ravine_\"\u001b[0m \u001b[0;34m+\u001b[0m \u001b[0mMESHNAME\u001b[0m\u001b[0;34m)\u001b[0m\u001b[0;34m\u001b[0m\u001b[0;34m\u001b[0m\u001b[0m\n",
      "\u001b[0;31mTypeError\u001b[0m: DisplayData() missing 5 required positional arguments: 'N', 'E', 'vertices', 'connected_cmp', and 'edges'"
     ]
    }
   ],
   "source": [
    "# show ravines (very nice)\n",
    "ravines(RAVINES, verts, faces)"
   ]
  },
  {
   "cell_type": "code",
   "execution_count": null,
   "metadata": {},
   "outputs": [],
   "source": [
    "# show entire mesh (no nothing)\n",
    "p = mp.plot(verts, faces, return_plot=True)"
   ]
  },
  {
   "cell_type": "code",
   "execution_count": 52,
   "metadata": {},
   "outputs": [
    {
     "name": "stdout",
     "output_type": "stream",
     "text": [
      "Plot saved to file FeatureLines_tbk_crop_230328_depth=12_correctNormals_crop_2_neighbor=6.html.\n"
     ]
    }
   ],
   "source": [
    "# Save\n",
    "p.save(\"FeatureLines_\" + MESHNAME + \"_neighbor=\" + str(NEIGHBOR))"
   ]
  },
  {
   "cell_type": "code",
   "execution_count": 103,
   "metadata": {},
   "outputs": [
    {
     "name": "stdout",
     "output_type": "stream",
     "text": [
      "Writing PLY: [========================================] 100%\n"
     ]
    },
    {
     "data": {
      "text/plain": [
       "True"
      ]
     },
     "execution_count": 103,
     "metadata": {},
     "output_type": "execute_result"
    }
   ],
   "source": [
    "# Reference: \n",
    "# http://www.open3d.org/docs/0.11.1/tutorial/visualization/visualization.html\n",
    "(V, N, E, vertices, connected_cmp, edges) = RawData(RAVINES)\n",
    "points = vertices[:,:3]\n",
    "lines = edges[:,:2]\n",
    "colors = [[1, 0, 0] for i in range(E)]\n",
    "line_set = o3d.geometry.LineSet(\n",
    "    points=o3d.utility.Vector3dVector(points),\n",
    "    lines=o3d.utility.Vector2iVector(lines),\n",
    ")\n",
    "line_set.colors = o3d.utility.Vector3dVector(colors)\n",
    "o3d.io.write_line_set(RAVINES + PLY, line_set, print_progress=True)\n",
    "#test"
   ]
  },
  {
   "cell_type": "code",
   "execution_count": null,
   "metadata": {},
   "outputs": [],
   "source": [
    "# all feature lines\n",
    "show(RIDGES, RAVINES, verts, faces)\n",
    "# just show ridges (not very useful)\n",
    "ridges(RIDGES, verts, faces)"
   ]
  }
 ],
 "metadata": {
  "kernelspec": {
   "display_name": "base",
   "language": "python",
   "name": "python3"
  },
  "language_info": {
   "codemirror_mode": {
    "name": "ipython",
    "version": 3
   },
   "file_extension": ".py",
   "mimetype": "text/x-python",
   "name": "python",
   "nbconvert_exporter": "python",
   "pygments_lexer": "ipython3",
   "version": "3.9.13"
  },
  "orig_nbformat": 4,
  "vscode": {
   "interpreter": {
    "hash": "965bd926a585e7a707780cf489a5aa234b5edeb61e436163a73c6bef09da54c9"
   }
  }
 },
 "nbformat": 4,
 "nbformat_minor": 2
}
