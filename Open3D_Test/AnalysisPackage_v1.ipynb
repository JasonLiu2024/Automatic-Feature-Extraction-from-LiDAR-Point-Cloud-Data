{
 "cells": [
  {
   "attachments": {},
   "cell_type": "markdown",
   "metadata": {},
   "source": [
    "# This is Version 1 of our visualization tool\n",
    "I use the following code to display feature lines (detected by CrestCODE based on curvature)"
   ]
  },
  {
   "cell_type": "code",
   "execution_count": 571,
   "metadata": {},
   "outputs": [],
   "source": [
    "import os\n",
    "import numpy as np\n",
    "import open3d as o3d\n",
    "import igl\n",
    "import meshplot as mp\n",
    "from matplotlib import pyplot as plt\n",
    "from matplotlib import cm\n",
    "import math\n",
    "import json"
   ]
  },
  {
   "cell_type": "code",
   "execution_count": 317,
   "metadata": {},
   "outputs": [],
   "source": [
    "# extensions\n",
    "PLY = \".ply\"\n",
    "TXT = \".txt\"\n",
    "# utility\n",
    "NEIGHBOR = 6\n",
    "MESHNAME = \"tbk_crop_230328_depth=12_correctNormals_radarArchitectureONLY_smaller\"\n",
    "MESHFILE = \"../Open3D_Test/\" + MESHNAME + PLY\n",
    "PSEUDO_PLY2 = \"ply2\" + TXT\n",
    "NEWLINE = '\\n'\n",
    "MAX_neighbor = 10\n",
    "CRESTLINE = 1 # 0 means NO Crest line, 1 means YES Crest line\n",
    "# renaming CrestCode output!\n",
    "RIDGES = \"Ridge_\" + \"k=\" + str(NEIGHBOR) + \"_\" + MESHNAME + TXT\n",
    "RAVINES = \"Ravine_\" + \"k=\" + str(NEIGHBOR) + \"_\" + MESHNAME + TXT\n",
    "OUTPUT_rename = \"Output_\" + \"k=\" + str(NEIGHBOR) + \"_\" + MESHNAME + TXT\n",
    "PLY2_rename = \"PLY2_\" + \"k=\" + str(NEIGHBOR) + \"_\" + MESHNAME + TXT"
   ]
  },
  {
   "cell_type": "code",
   "execution_count": 724,
   "metadata": {},
   "outputs": [],
   "source": [
    "\"\"\"Functions: for raw .ply input!\"\"\"\n",
    "# input: mesh file (path)\n",
    "# output1: vertices (N, 3) array; x y z coordinates\n",
    "# output2: faces (F, 3) array, format: [a id, b id, c id]\n",
    "def get_mesh(path):\n",
    "    mesh = o3d.io.read_triangle_mesh(path)\n",
    "    print(mesh)\n",
    "    verts = np.asarray(mesh.vertices)\n",
    "    faces = np.asarray(mesh.triangles)\n",
    "    return verts, faces\n",
    "# input: output file name, neighbor (k), crestline (1 = yes, 0 = no), vertices (array), faces (array)\n",
    "# does: txt file <- for CrestCODE\n",
    "def to_pseudo_PLY2(name, neighbor, crestline, verts, faces):\n",
    "    NEWLINE = '\\n'\n",
    "    verts_count = len(verts)\n",
    "    faces_count = len(faces)\n",
    "    with open(name, 'w') as f:\n",
    "        f.write(str(verts_count) + NEWLINE)\n",
    "        f.write(str(faces_count) + NEWLINE)\n",
    "        f.write(str(neighbor) + NEWLINE)\n",
    "        f.write(str(crestline) + NEWLINE)\n",
    "        for i in range(verts_count): # all vertices x y z coordinates\n",
    "            f.write(\" \".join(map(str, verts[i])) + NEWLINE)\n",
    "        for j in range(faces_count): # all faces a b c vertices ids\n",
    "            f.write(\" \".join(map(str, faces[j])) + NEWLINE)\n",
    "    print(f\"Success: {PSEUDO_PLY2}\")"
   ]
  },
  {
   "cell_type": "code",
   "execution_count": 316,
   "metadata": {},
   "outputs": [
    {
     "name": "stdout",
     "output_type": "stream",
     "text": [
      "TriangleMesh with 3035835 points and 6064854 triangles.\n",
      "Success: ply2.txt\n"
     ]
    }
   ],
   "source": [
    "mesh_verts, mesh_faces = get_mesh(MESHFILE)\n",
    "to_pseudo_PLY2(PSEUDO_PLY2, NEIGHBOR, CRESTLINE, mesh_verts, mesh_faces)"
   ]
  },
  {
   "attachments": {},
   "cell_type": "markdown",
   "metadata": {},
   "source": [
    "# BOOM! You ran CrestCODE and got your .txt outputs!\n",
    "<br>You ran command in the CrestCODE folder (through Terminal) and got .txt files for: output, ravines, ridges\n",
    ">the input: ./setCurvature ply2.txt output.txt\n",
    "><br>Note that 'ply2.txt' corresponds to (the value of) PSEUDO_PLY2\n",
    "\n",
    "<br>The .txt show up in the CrestCODE folder\n",
    "<br>You moved those files Back to Open3D_Test!"
   ]
  },
  {
   "cell_type": "code",
   "execution_count": 318,
   "metadata": {},
   "outputs": [],
   "source": [
    "#cleaning up!\n",
    "os.rename(\"ridges.txt\", RIDGES)\n",
    "os.rename(\"ravines.txt\", RAVINES)\n",
    "os.rename(\"output.txt\", OUTPUT_rename)\n",
    "os.rename(\"ply2.txt\", PLY2_rename)"
   ]
  },
  {
   "cell_type": "code",
   "execution_count": 254,
   "metadata": {},
   "outputs": [],
   "source": [
    "\"\"\"Functions: for CrestCODE output\"\"\"\n",
    "# get data from Ridges.txt OR Ravines.txt\n",
    "# input: meshfile name, mesh vertices, mesh faces\n",
    "# output1: crest line vertices (V, 4) array, format: [x coordinate, y coordinate, z coordinate, connected component]\n",
    "# output2: connected components (N, 3) array, format: [Ridgeness, Sphericalness, Cyclideness]\n",
    "# output3: crest line edges (E, 3) array, format: [u vertex index, v vertex index, triangle ID]\n",
    "def ReadCrestLine(filename):\n",
    "    f = open(filename, 'r')\n",
    "    V = int(f.readline())\n",
    "    E = int(f.readline())\n",
    "    N = int(f.readline()) # num of connected components;\n",
    "    crestline_vertices = np.zeros(shape = (V, 4)) # crest line vertices\n",
    "    for i in range(V): \n",
    "        line = f.readline()\n",
    "        crestline_vertices[i] = [float(n) for n in line.split()]\n",
    "    crestline_connected_cmp = np.zeros(shape = (N, 3)) # index = connected cmp ID\n",
    "    for j in range(N):\n",
    "        line = f.readline()\n",
    "        crestline_connected_cmp[j] = [float(n) for n in line.split()]\n",
    "    # edges (u,v): [vtx ID of u, vtx ID of v, triangle ID]\n",
    "    crestline_edges = np.zeros(shape = (E, 3), dtype=int) # index = edge ID\n",
    "    for k in range(E):\n",
    "        line = f.readline()\n",
    "        crestline_edges[k] = [n for n in line.split()]\n",
    "    return V, crestline_vertices, E, crestline_edges, N, crestline_connected_cmp\n",
    "# input1: crestline edges (E, 3) array, format: [u vertex index, v vertex index, triangle ID],\n",
    "# input2: crestline vertices (V, 4) array, format: [x coordinate, y coordinate, z coordinate, connected component]\n",
    "# output1: vertex U (E, 3) array, format: [x coordinate, y coordinate, z coordinate]\n",
    "# output2: vertex V (E, 3) array, format: [x coordinate, y coordinate, z coordinate]\n",
    "# edge E[i] = (U[i], V[i])\n",
    "def getVertex_Pairs(crestline_edges, crestline_vertices):\n",
    "    E = len(crestline_edges)\n",
    "    V = len(crestline_vertices)\n",
    "    U = np.zeros(shape=(E, 3))\n",
    "    V = np.zeros(shape=(E, 3))\n",
    "    U = np.zeros(shape = (E, 3))\n",
    "    V = np.zeros(shape = (E, 3))\n",
    "    for i in range(E): # use crestline_edges to find vertex index, only take first 3 numbers\n",
    "        # if E[i] = a b c, this means that E[i] = (U[a], v[b])\n",
    "        U[i] = crestline_vertices[crestline_edges[i][0]][0:3]\n",
    "        V[i] = crestline_vertices[crestline_edges[i][1]][0:3]\n",
    "    return U, V # can feed directly into meshplot :)\n",
    "# input1: crestline edges (E, 3) array, format: [u vertex index, v vertex index, triangle ID],\n",
    "# input2: faces frequency (F, max(k)) array, format: [face_id, frequency] <- by reference, exists outside this function\n",
    "# input3: neighbor (k)\n",
    "# does: add frequency values to: faces frequency array, in the column corresponding to k\n",
    "def getTriangles(crestline_edges, faces_frequency, neighbor):\n",
    "    # to find faces we want, we need to check edges!\n",
    "    column = neighbor - 1\n",
    "    E = len(crestline_edges)\n",
    "    for e in range(E):\n",
    "        face_id = crestline_edges[e][2]\n",
    "        if(face_id != -1):\n",
    "            faces_frequency[face_id][column] = 1    \n",
    "# input: faces_frequency (F, max(k)) array, format: [face_id, frequency] <- by reference, exists outside this function\n",
    "# output: faces_color_crestline (F, 3) array, format: [R, G, B], where each in [0, 1] float\n",
    "def colorize_by_strength(faces_frequency):\n",
    "    faces_frequency_total = np.sum(faces_frequency, axis=1)\n",
    "    faces_color_crestline = np.ones(shape=(len(mesh_faces), 3))\n",
    "    max_frequency = np.max(faces_frequency_total)\n",
    "    for f in range(len(mesh_faces)):\n",
    "        subtract = faces_frequency_total[f]/max_frequency\n",
    "        faces_color_crestline[f][0] -= subtract\n",
    "    return faces_color_crestline"
   ]
  },
  {
   "attachments": {},
   "cell_type": "markdown",
   "metadata": {},
   "source": [
    "## **Visualization**\n"
   ]
  },
  {
   "cell_type": "code",
   "execution_count": 192,
   "metadata": {},
   "outputs": [],
   "source": [
    "\"\"\"run ONCE\"\"\"\n",
    "faces_frequency = np.zeros(shape=(len(mesh_faces), 6))"
   ]
  },
  {
   "cell_type": "code",
   "execution_count": null,
   "metadata": {},
   "outputs": [],
   "source": [
    "V, crestline_vertices, E, crestline_edges, N, crestline_connected_cmp = ReadCrestLine(filename=RAVINES)\n",
    "U, V = getVertex_Pairs(crestline_edges=crestline_edges, crestline_vertices=crestline_vertices)\n",
    "getTriangles(crestline_edges=crestline_edges, faces_frequency=faces_frequency, neighbor=NEIGHBOR)\n",
    "faces_color_crestline = colorize_by_strength(faces_frequency=faces_frequency)\n",
    "p = mp.plot(v=mesh_verts, f=mesh_faces, c=faces_color_crestline)\n",
    "# p.add_lines(U, V, shading={\"line_color\": \"red\", \"line_width\": 100.0})\n",
    "# p.save(\"TEST_Ravine_\" + MESHNAME)\n"
   ]
  },
  {
   "cell_type": "code",
   "execution_count": 222,
   "metadata": {},
   "outputs": [
    {
     "data": {
      "text/plain": [
       "8"
      ]
     },
     "execution_count": 222,
     "metadata": {},
     "output_type": "execute_result"
    }
   ],
   "source": [
    "NEIGHBOR"
   ]
  },
  {
   "cell_type": "code",
   "execution_count": 677,
   "metadata": {},
   "outputs": [],
   "source": [
    "class LiDAR:\n",
    "    def __init__(self, mesh_3d_vertices, mesh_3d_faces, \n",
    "                 mesh_3d_crestlines_vertices, mesh_3d_crestlines_edges, \n",
    "                 mesh_2d_vertices, color):\n",
    "        self.mesh_3d_vertices = mesh_3d_vertices\n",
    "        self.mesh_faces = mesh_3d_faces\n",
    "        self.mesh_3d_crestlines_vertices = mesh_3d_crestlines_vertices\n",
    "\n",
    "        self.mesh_2d_vertices = mesh_2d_vertices\n",
    "\n",
    "        self.color = color\n",
    "\n",
    "        self.crestline_edges = mesh_3d_crestlines_edges\n",
    "        self.mesh_V = mesh_3d_vertices.shape[0]\n",
    "        self.mesh_F = mesh_3d_faces.shape[0]\n",
    "        self.mesh_crestline_V = mesh_3d_crestlines_vertices.shape[0]\n",
    "\n",
    "        self.mesh_2d_crestlines_vertices = self.Move_3D_vertices_to_2D() # want to find\n",
    "    def collinear(self, a, b, c):\n",
    "        # use matrix rank to determine colinearity (no work, needs exact equal)\n",
    "        # Reference: https://stackoverflow.com/questions/9608148/python-script-to-determine-if-x-y-coordinates-are-colinear\n",
    "        # -getting-some-e#:~:text=You%20can%20use%20the%20rank,i.e.%20any%20number%20of%20points).\n",
    "\n",
    "        # added tolerance\n",
    "        vector_ab = a - b\n",
    "        vector_ac = a - c\n",
    "        cross_product = np.cross(vector_ab, vector_ac)\n",
    "        edge_length_ab = np.sqrt(vector_ab.dot(vector_ab))\n",
    "        return np.sqrt(cross_product.dot(cross_product)) < edge_length_ab/100\n",
    "    # v can be on line (a, b), (a, c), or (b, c)\n",
    "    def FindVertexIndex(self, a, b, c, a_index, b_index, c_index, v):\n",
    "        #print(f\"checking colinearity of: {a, b} and {v}\") \n",
    "        if(self.collinear(a, b, v)): \n",
    "            return a_index, b_index\n",
    "        \n",
    "        #print(f\"checking colinearity of: {a, c} and {v}\") \n",
    "        if(self.collinear(a, c, v)): \n",
    "            return a_index, c_index\n",
    "        \n",
    "        #print(f\"checking colinearity of: {b, c} and {v}\") \n",
    "        if(self.collinear(b, c, v)): \n",
    "            return b_index, c_index\n",
    "        #print(\"no colinearity found!\")\n",
    "    # input: mesh vertices a and b; vertex v that lies on edge (a, b)\n",
    "    # return alpha: from a to v on edge (a, b)\n",
    "    def getAlpha(self, a, b, v):\n",
    "        va = a - v\n",
    "        ab = b - a\n",
    "        va_length = np.sqrt(va.dot(va))\n",
    "        ab_length = np.sqrt(ab.dot(ab))\n",
    "        alpha = va_length / ab_length\n",
    "        return alpha\n",
    "    # input1: crestline vertices crestline_V\n",
    "    # input2: crestline edges crestline_E, format: [u vertex index, v vertex index, triangle ID],\n",
    "    # input3: mesh vertices mesh_V\n",
    "    # input4: mesh edges mesh_E\n",
    "    # output: augmentation, \n",
    "    # <- format: u1, u2, alpha_u, v1, v2, alpha_v\n",
    "        # ith entry tells us: ith edge is made of CrestLine vertices u, v. \n",
    "        # u lies between MESH vertices u1, u2, with alpha value (from u1) of alpha_u\n",
    "        # same for v\n",
    "    def LinearInterpolate(self):\n",
    "        # crestline_V: (V_crest, 4) <- 4 columns because, CrestCODE output appends 'connected component' information\n",
    "        # crestline_E: (E_crest, 4)\n",
    "        # mesh_V (V, 3)\n",
    "        # mesh_F (F, 3)\n",
    "        crestline_V = self.mesh_3d_crestlines_vertices\n",
    "        crestline_E = self.crestline_edges\n",
    "        mesh_V = self.mesh_3d_vertices\n",
    "        mesh_F = self.mesh_faces\n",
    "        V = mesh_V.shape[0]\n",
    "        V_crest = crestline_V.shape[0]\n",
    "        E_crest = crestline_E.shape[0]\n",
    "        crestline_vertices = crestline_V[:,0:3]\n",
    "        num_crestline_vertices = crestline_vertices.shape[0]\n",
    "        augmentation = np.zeros(shape=(V_crest, 3))\n",
    "        for e in range(E_crest): # consider crestline edge (u, v)\n",
    "            u_index, v_index, face_index = crestline_E[e]\n",
    "            #print(f\"edge information: {u_index} {v_index} {face_index}\")\n",
    "            if(face_index != -1): # when face_index == -1, there's NO triangle associated w/ crestline edge\n",
    "                face_vertex_a_index, face_vertex_b_index, face_vertex_c_index = mesh_F[face_index]\n",
    "                #print(f\"checking face: {face_vertex_a_index} {face_vertex_b_index} {face_vertex_c_index}\")\n",
    "                # edge lies on triangle (a, b, c) <- these are MESH vertices\n",
    "                a = mesh_V[face_vertex_a_index]\n",
    "                b = mesh_V[face_vertex_b_index]\n",
    "                c = mesh_V[face_vertex_c_index]\n",
    "                #print(f\"which are: \\n{a}, \\n{b}, \\n{c}\")\n",
    "                \n",
    "                \"\"\"for the two vertices in (u, v), do:\"\"\" # <- u, v are CRESTLINE vertices\n",
    "                # u is on edge (u1, u2)\n",
    "                u = crestline_vertices[u_index] # u can be on any of the 3 edges of the face\n",
    "                #print(f\"checking crestline vertex: {u} at index {u_index}\")\n",
    "                u1, u2 = self.FindVertexIndex(a, b, c, face_vertex_a_index, face_vertex_b_index, face_vertex_c_index, u)\n",
    "                alpha_u = self.getAlpha(a=mesh_V[u1], b=mesh_V[u2], v=u)\n",
    "                # for mesh vertex index@ u1, write down it's: (index) u2, alpha value\n",
    "                augmentation[u_index][0] = u1\n",
    "                augmentation[u_index][1] = u2\n",
    "                augmentation[u_index][2] = alpha_u\n",
    "\n",
    "                # v is on edge (v1, v2)\n",
    "                v = crestline_vertices[v_index] # u can be on any of the 3 edges of the face\n",
    "                v1, v2 = self.FindVertexIndex(a, b, c, face_vertex_a_index, face_vertex_b_index, face_vertex_c_index, v)\n",
    "                alpha_v = self.getAlpha(a=mesh_V[v1], b=mesh_V[v2], v=v)\n",
    "                # for mesh vertex index@ v1, write down its: (index) v2, alpha value\n",
    "                augmentation[v_index][0] = v1\n",
    "                augmentation[v_index][1] = v2\n",
    "                augmentation[v_index][2] = alpha_v\n",
    "        return augmentation\n",
    "    # input: mesh vertices a, b\n",
    "    # return: point v, which lies on edge (a, b)\n",
    "    # assumption: alpha refers to: length of edge (v, a) / lendth of edge (b, a)\n",
    "    def Recover(self, a, b, alpha):\n",
    "        segment = b - a\n",
    "        v = alpha * (b - a) + a\n",
    "        return v\n",
    "    # input1: crestline vertices crestline_V\n",
    "    # input2: crestline edges crestline_E, format: [u vertex index, v vertex index, triangle ID],\n",
    "    # input3: mesh vertices mesh_2d_V: vertices from flattened mesh (all z-coordinates are 0)\n",
    "    # input4: augmentation <- we can use this information to recover crestline vertices\n",
    "    # output: crestline vertices for the flattened ('2d')  mesh\n",
    "    def Move_3D_vertices_to_2D(self):\n",
    "        crestline_V = self.mesh_3d_crestlines_vertices\n",
    "        crestline_E = self.crestline_edges\n",
    "        mesh_2d_V = self.mesh_2d_vertices\n",
    "        augmentation = self.LinearInterpolate()\n",
    "        # mesh_vertices_2d (V, 3)\n",
    "        # crestline_vertices_3d (V_crest, 3)\n",
    "        E_crest = crestline_E.shape[0]\n",
    "        V_crest = crestline_V.shape[0]\n",
    "        crestline_V_2d = np.zeros(shape=(V_crest, 3))\n",
    "        for e in range(E_crest): # for all mesh vertices:\n",
    "            # use 3d crestline vertices + augmentation to find 2d creatline vertices\n",
    "            u_index, v_index, face_index = crestline_E[e]\n",
    "\n",
    "            u1_index = augmentation[u_index][0].astype(int)\n",
    "            u2_index = augmentation[u_index][1].astype(int)\n",
    "            u_alpha = augmentation[u_index][2]\n",
    "            u1 = mesh_2d_V[u1_index]\n",
    "            u2 = mesh_2d_V[u2_index]\n",
    "            u_2d = self.Recover(u1, u2, u_alpha)\n",
    "            crestline_V_2d[u_index] = u_2d\n",
    "            # print(f\"processing point number {u_index + 1}, alpha: {u_alpha}, output: {u_2d}\")\n",
    "            # print(f\"    this vertex lies on edge between {u1} and {u2}\")\n",
    "\n",
    "            v1_index = augmentation[v_index][0].astype(int)\n",
    "            v2_index = augmentation[v_index][1].astype(int)\n",
    "            v_alpha = augmentation[v_index][2]\n",
    "            v1 = mesh_2d_V[v1_index]\n",
    "            v2 = mesh_2d_V[v2_index]\n",
    "            v_2d = self.Recover(v1, v2, v_alpha)\n",
    "            crestline_V_2d[v_index] = v_2d \n",
    "            # print(f\"processing point number {v_index + 1}, alpha: {v_alpha}, output: {v_2d}\")\n",
    "            # print(f\"    this vertex lies on edge between {v1} and {v2}\")\n",
    "        return crestline_V_2d\n",
    "        "
   ]
  },
  {
   "cell_type": "code",
   "execution_count": null,
   "metadata": {},
   "outputs": [],
   "source": [
    "\"\"\"Toy Mesh: 3D\"\"\"\n",
    "# layout:\n",
    "#   v3  v6  v9\n",
    "#   v2  v5  v8\n",
    "#   v1  v4  v7\n",
    "# 2 faces\n",
    "v1 = (0.0, 0.0, 1.0) # index = 0\n",
    "v2 = (0.0, 1.0, 0.0) # index = 1\n",
    "v3 = (0.0, 2.0, 1.0) # index = 2\n",
    "v4 = (1.0, 0.0, 0.0)\n",
    "v5 = (1.0, 1.0, 1.0)\n",
    "v6 = (1.0, 2.0, 0.0)\n",
    "v7 = (2.0, 0.0, 1.0)\n",
    "v8 = (2.0, 1.0, 0.0)\n",
    "v9 = (2.0, 2.0, 1.0)\n",
    "color_A = [1.0, 1.0, 0.1]\n",
    "color_B = [0.1, 1.0, 0.1]\n",
    "toy_mesh_color = np.asarray([color_A,  # <- color of face 1 \n",
    "                               color_B,\n",
    "                               color_A,\n",
    "                               color_B,\n",
    "                               color_B,\n",
    "                               color_A,\n",
    "                               color_B,\n",
    "                               color_A\n",
    "                               ]) # <- color of face 2\n",
    "toy_mesh_V = np.asarray([v1, v2, v3, v4, v5, v6, v7, v8, v9])\n",
    "toy_mesh_F = np.asarray([[3, 1, 0],\n",
    "                         [3, 4, 1],\n",
    "                         [5, 2, 1],\n",
    "                         [4, 5, 1],\n",
    "                         [7, 5, 4],\n",
    "                         [7, 8, 5],\n",
    "                         [7, 4, 3],\n",
    "                         [7, 3, 6]])\n",
    "# 2 feature lines, 3 endpoints\n",
    "l1 = (0.5, 2.0, 0.5) # lies on edge (v1, v2)\n",
    "l2 = (0.4, 0.4 + 1, 0.0) # lies on edge (v1, v3)\n",
    "l3 = (1.0, 1.2, 0.8)\n",
    "l4 = (1.1, 2.0, 0.1) # lies on edge (v1, v4)\n",
    "l5 = (1.7, 1.3, 0.0)\n",
    "toy_mesh_lines_V = np.asarray([l1, l2, l3, l4, l5])\n",
    "toy_mesh_lines_E = np.asarray([[0, 1, 2], \n",
    "                               [1, 2, 3],\n",
    "                               [2, 3, -1],\n",
    "                               [3, 4, 5]])\n",
    "toy = mp.plot(v=toy_mesh_V, f=toy_mesh_F, c=toy_mesh_color)\n",
    "toy.add_edges(vertices=toy_mesh_lines_V, edges=toy_mesh_lines_E)\n",
    "\n",
    "\"\"\"Toy Mesh: 2D <- actuall 3d, but with z-coordinate = 0\"\"\"\n",
    "# 2 faces\n",
    "v1_2d = (0.0, 0.0, 0.0) # index = 0\n",
    "v2_2d = (0.0, 1.0, 0.0) # index = 1\n",
    "v3_2d = (0.0, 2.0, 0.0) # index = 2\n",
    "v4_2d = (1.0, 0.0, 0.0)\n",
    "v5_2d = (1.0, 1.0, 0.0)\n",
    "v6_2d = (1.0, 2.0, 0.0)\n",
    "v7_2d = (2.0, 0.0, 0.0)\n",
    "v8_2d = (2.0, 1.0, 0.0)\n",
    "v9_2d = (2.0, 2.0, 0.0)\n",
    "toy_mesh_V_2d = np.asarray([v1_2d, v2_2d, v3_2d, v4_2d, v5_2d, v6_2d, v7_2d, v8_2d, v9_2d])\n",
    "toy_mesh_F_2d = toy_mesh_F\n",
    "toy_2d = mp.plot(v=toy_mesh_V_2d, f=toy_mesh_F_2d, c=toy_mesh_color)\n",
    "\n",
    "toy_object = LiDAR(mesh_3d_vertices=toy_mesh_V, mesh_3d_faces=toy_mesh_F, \n",
    "            mesh_3d_crestlines_vertices=toy_mesh_lines_V, mesh_3d_crestlines_edges=toy_mesh_lines_E, \n",
    "            mesh_2d_vertices=toy_mesh_V_2d, color=toy_mesh_color)\n",
    "toy_object_plot = mp.plot(v=toy_object.mesh_2d_vertices, f=toy_object.mesh_faces, c=toy_object.color)\n",
    "toy_object_plot.add_edges(vertices=toy_object.mesh_2d_crestlines_vertices, \n",
    "                          edges=toy_object.crestline_edges, \n",
    "                          shading={\"line_color\": \"green\"})"
   ]
  },
  {
   "cell_type": "code",
   "execution_count": 765,
   "metadata": {},
   "outputs": [
    {
     "data": {
      "application/vnd.jupyter.widget-view+json": {
       "model_id": "865aaaf391114a218a0d198664d7d71e",
       "version_major": 2,
       "version_minor": 0
      },
      "text/plain": [
       "Renderer(camera=PerspectiveCamera(children=(DirectionalLight(color='white', intensity=0.6, position=(2.0, 1.0,…"
      ]
     },
     "metadata": {},
     "output_type": "display_data"
    },
    {
     "data": {
      "application/vnd.jupyter.widget-view+json": {
       "model_id": "200734e215354318babf702a32bfdc1b",
       "version_major": 2,
       "version_minor": 0
      },
      "text/plain": [
       "Renderer(camera=PerspectiveCamera(children=(DirectionalLight(color='white', intensity=0.6, position=(2.0, 1.0,…"
      ]
     },
     "metadata": {},
     "output_type": "display_data"
    }
   ],
   "source": [
    "\"\"\"example 2: wavy_\"\"\"\n",
    "\n",
    "\"\"\"Toy Mesh: 3D\"\"\"\n",
    "wavy_v1 = (0.0, 0.0, 0.0) # index = 0\n",
    "wavy_v2 = (0.0, 1.0, 0.0) # index = 1\n",
    "wavy_v3 = (0.0, 2.0, 0.0) # index = 2\n",
    "\n",
    "wavy_v4 = (1.0, 0.0, 1.0)\n",
    "wavy_v5 = (1.0, 1.0, 1.0)\n",
    "wavy_v6 = (1.0, 2.0, 1.0)\n",
    "\n",
    "wavy_v7 = (2.0, 0.0, 0.0)\n",
    "wavy_v8 = (2.0, 1.0, 0.0)\n",
    "wavy_v9 = (2.0, 2.0, 0.0)\n",
    "\n",
    "wavy_v10 = (3.0, 0.0, 1.0)\n",
    "wavy_v11 = (3.0, 1.0, 1.0)\n",
    "wavy_v12 = (3.0, 2.0, 1.0)\n",
    "\n",
    "wavy_v13 = (4.0, 0.0, 0.0)\n",
    "wavy_v14 = (4.0, 1.0, 0.0)\n",
    "wavy_v15 = (4.0, 2.0, 0.0)\n",
    "\n",
    "wavy_color_A = [1.0, 1.0, 0.1]\n",
    "wavy_color_B = [0.1, 1.0, 0.1]\n",
    "wavy_color = np.asarray([wavy_color_A, #1\n",
    "                             wavy_color_B,\n",
    "                             wavy_color_A, #2\n",
    "                             wavy_color_B,\n",
    "\n",
    "                             wavy_color_A, #3\n",
    "                             wavy_color_B,\n",
    "                             wavy_color_A, #4\n",
    "                             wavy_color_B,\n",
    "\n",
    "                             wavy_color_A, #5\n",
    "                             wavy_color_B,\n",
    "                             wavy_color_A, #6\n",
    "                             wavy_color_B,\n",
    "\n",
    "                             wavy_color_A, #7\n",
    "                             wavy_color_B,\n",
    "                             wavy_color_B, #8\n",
    "                             wavy_color_B\n",
    "                               ])\n",
    "wavy_3d_V = np.asarray([wavy_v1, wavy_v2, wavy_v3, wavy_v4, wavy_v5, \n",
    "                         wavy_v6, wavy_v7, wavy_v8, wavy_v9, wavy_v10,\n",
    "                         wavy_v11, wavy_v12, wavy_v13, wavy_v14, wavy_v15])\n",
    "wavy_F = np.asarray([[3, 4, 0],\n",
    "                         [0, 4, 1],\n",
    "                         [4, 5, 1],\n",
    "                         [5, 2, 1],\n",
    "\n",
    "                         [6, 4, 3],\n",
    "                         [6, 7, 4],\n",
    "                         [7, 5, 4],\n",
    "                         [7, 8, 5],\n",
    "\n",
    "                         [9, 10, 6],\n",
    "                         [6, 10, 7],\n",
    "                         [10, 11, 7],\n",
    "                         [11, 8, 7],\n",
    "\n",
    "                         [12, 10, 9],\n",
    "                         [12, 13, 10],\n",
    "                         [13, 11, 10],\n",
    "                         [13, 14, 11]\n",
    "                         ])\n",
    "# 2 feature lines, 3 endpoints\n",
    "wavy_l1 = (0.0, 0.8, 0.0) # lies on edge (v1, v2)\n",
    "wavy_l2 = (0.5, 0.5, 0.5) # lies on edge (v1, v3)\n",
    "wavy_l3 = (1.5, 0.5, 0.5)\n",
    "wavy_l4 = (2.0, 0.1, 0.0) # lies on edge (v1, v4)\n",
    "wavy_l5 = (2.5, 1.5, 0.5)\n",
    "wavy_l6 = (2.0, 1.3, 0.0)\n",
    "\n",
    "wavy_l7 = (3.0, 0.3, 1.0)\n",
    "wavy_l8 = (3.5, 0.5, 0.5)\n",
    "wavy_l9 = (4.0, 0.8, 0.0)\n",
    "wavy_lines_V = np.asarray([wavy_l1, wavy_l2, wavy_l3, \n",
    "                               wavy_l4, wavy_l5, wavy_l6,\n",
    "                               wavy_l7, wavy_l8, wavy_l9])\n",
    "wavy_lines_E = np.asarray([[0, 1, 1], \n",
    "                               [1, 2, -1],\n",
    "                               [2, 3, 5],\n",
    "                               [3, 4, -1],\n",
    "                               [4, 5, 11],\n",
    "\n",
    "                               [6, 7, 12],\n",
    "                               [7, 8, 13]\n",
    "                               ])\n",
    "wavy_3d_test = mp.plot(v=wavy_3d_V, f=wavy_F, c=wavy_color)\n",
    "wavy_3d_test.add_edges(vertices=wavy_lines_V, edges=wavy_lines_E)\n",
    "\n",
    "\"\"\"Toy Mesh: 2D <- actuall 3d, but with z-coordinate = 0\"\"\"\n",
    "wavy_2d_v1 = (0.0, 0.0, 0.0) # index = 0\n",
    "wavy_2d_v2 = (0.0, 1.0, 0.0) # index = 1\n",
    "wavy_2d_v3 = (0.0, 2.0, 0.0) # index = 2\n",
    "\n",
    "wavy_2d_v4 = (1.0, 0.0, 0.0)\n",
    "wavy_2d_v5 = (1.0, 1.0, 0.0)\n",
    "wavy_2d_v6 = (1.0, 2.0, 0.0)\n",
    "\n",
    "wavy_2d_v7 = (2.0, 0.0, 0.0)\n",
    "wavy_2d_v8 = (2.0, 1.0, 0.0)\n",
    "wavy_2d_v9 = (2.0, 2.0, 0.0)\n",
    "\n",
    "wavy_2d_v10 = (3.0, 0.0, 0.0)\n",
    "wavy_2d_v11 = (3.0, 1.0, 0.0)\n",
    "wavy_2d_v12 = (3.0, 2.0, 0.0)\n",
    "\n",
    "wavy_2d_v13 = (4.0, 0.0, 0.0)\n",
    "wavy_2d_v14 = (4.0, 1.0, 0.0)\n",
    "wavy_2d_v15 = (4.0, 2.0, 0.0)\n",
    "\n",
    "wavy_2d_V = np.asarray([wavy_2d_v1, wavy_2d_v2, wavy_2d_v3, wavy_2d_v4, wavy_2d_v5, \n",
    "                         wavy_2d_v6, wavy_2d_v7, wavy_2d_v8, wavy_2d_v9, wavy_2d_v10,\n",
    "                         wavy_2d_v11, wavy_2d_v12, wavy_2d_v13, wavy_2d_v14, wavy_2d_v15])\n",
    "wavy_2d_test = mp.plot(v=wavy_2d_V, f=wavy_F, c=wavy_color)"
   ]
  },
  {
   "cell_type": "code",
   "execution_count": 730,
   "metadata": {},
   "outputs": [
    {
     "data": {
      "application/vnd.jupyter.widget-view+json": {
       "model_id": "8fb7f773183b40c4b29d7f3161a6f386",
       "version_major": 2,
       "version_minor": 0
      },
      "text/plain": [
       "Renderer(camera=PerspectiveCamera(children=(DirectionalLight(color='white', intensity=0.6, position=(2.0, 1.0,…"
      ]
     },
     "metadata": {},
     "output_type": "display_data"
    },
    {
     "data": {
      "text/plain": [
       "1"
      ]
     },
     "execution_count": 730,
     "metadata": {},
     "output_type": "execute_result"
    }
   ],
   "source": [
    "wavy_object = LiDAR(mesh_3d_vertices=wavy_3d_V, mesh_3d_faces=wavy_F, \n",
    "            mesh_3d_crestlines_vertices=wavy_lines_V, mesh_3d_crestlines_edges=wavy_lines_E, \n",
    "            mesh_2d_vertices=wavy_2d_V, color=wavy_color)\n",
    "wavy_object_plot = mp.plot(v=wavy_object.mesh_2d_vertices, f=wavy_object.mesh_faces, c=wavy_object.color)\n",
    "wavy_object_plot.add_edges(vertices=wavy_object.mesh_2d_crestlines_vertices, \n",
    "                          edges=wavy_object.crestline_edges, \n",
    "                          shading={\"line_color\": \"green\"})"
   ]
  },
  {
   "cell_type": "code",
   "execution_count": 735,
   "metadata": {},
   "outputs": [
    {
     "data": {
      "application/vnd.jupyter.widget-view+json": {
       "model_id": "fd492f9107a740489cb5d2aa6c2d2999",
       "version_major": 2,
       "version_minor": 0
      },
      "text/plain": [
       "Renderer(camera=PerspectiveCamera(children=(DirectionalLight(color='white', intensity=0.6, position=(4.5, 4.49…"
      ]
     },
     "metadata": {},
     "output_type": "display_data"
    },
    {
     "name": "stdout",
     "output_type": "stream",
     "text": [
      "[[ 3  4  0]\n",
      " [ 0  4  1]\n",
      " [ 4  5  1]\n",
      " [ 5  2  1]\n",
      " [ 6  4  3]\n",
      " [ 6  7  4]\n",
      " [ 7  5  4]\n",
      " [ 7  8  5]\n",
      " [ 9 10  6]\n",
      " [ 6 10  7]\n",
      " [10 11  7]\n",
      " [11  8  7]\n",
      " [12 10  9]\n",
      " [12 13 10]\n",
      " [13 11 10]\n",
      " [13 14 11]]\n",
      "[[ 3  4  0]\n",
      " [ 0  4  1]\n",
      " [ 4  5  1]\n",
      " [ 5  2  1]\n",
      " [ 6  4  3]\n",
      " [ 6  7  4]\n",
      " [ 7  5  4]\n",
      " [ 7  8  5]\n",
      " [ 9 10  6]\n",
      " [ 6 10  7]\n",
      " [10 11  7]\n",
      " [11  8  7]\n",
      " [12 10  9]\n",
      " [12 13 10]\n",
      " [13 11 10]\n",
      " [13 14 11]]\n"
     ]
    }
   ],
   "source": [
    "def Handles(mesh_vertices, mesh_faces, affected_vertex_ids, target_positions, iterations):\n",
    "    mesh = o3d.geometry.TriangleMesh(o3d.utility.Vector3dVector(mesh_vertices),\n",
    "                                 o3d.utility.Vector3iVector(mesh_faces))\n",
    "    # constraint_ids = o3d.utility.IntVector(affected_vertex_ids)\n",
    "    # constraint_pos = o3d.utility.Vector3dVector(target_positions)\n",
    "    deform = mesh.deform_as_rigid_as_possible(constraint_vertex_indices=o3d.utility.IntVector(affected_vertex_ids), \n",
    "                                     constraint_vertex_positions=o3d.utility.Vector3dVector(target_positions), \n",
    "                                     max_iter=iterations)\n",
    "    return np.asarray(deform.vertices), np.asarray(deform.triangles)\n",
    "wavy_handle_ids = [0, 7, 14]\n",
    "wavy_handle_pos = [[0.0, 0.0, 0.0],\n",
    "                    [4.0, 4.0, 0.0],\n",
    "                    [9.0, 9.0, 0.0]]\n",
    "wavy_deform_vertices, wavy_deform_faces = Handles(mesh_vertices=wavy_object.mesh_3d_vertices, \n",
    "                                                  mesh_faces=wavy_object.mesh_faces,\n",
    "                                                  affected_vertex_ids=wavy_handle_ids,\n",
    "                                                  target_positions=wavy_handle_pos,\n",
    "                                                  iterations=10)\n",
    "wavy_deform_plot = mp.plot(v=wavy_deform_vertices, f=wavy_deform_faces, c=wavy_object.color)\n",
    "print(wavy_object.mesh_faces)\n",
    "print(wavy_deform_faces)"
   ]
  },
  {
   "cell_type": "code",
   "execution_count": 695,
   "metadata": {},
   "outputs": [],
   "source": [
    "def Save_mesh(vertices, faces, filename, format):\n",
    "    mesh = o3d.geometry.TriangleMesh(o3d.utility.Vector3dVector(vertices),\n",
    "                                 o3d.utility.Vector3iVector(faces))\n",
    "    o3d.io.write_triangle_mesh(filename + \".\" + format, mesh)\n",
    "Save_mesh(vertices=wavy_object.mesh_3d_vertices, faces=wavy_object.mesh_faces, filename=\"wavy_object\", format=\"obj\")"
   ]
  },
  {
   "cell_type": "code",
   "execution_count": 715,
   "metadata": {},
   "outputs": [],
   "source": [
    "Save_mesh(vertices=wavy_deform_vertices, faces=wavy_deform_faces, filename=\"wavy_deform\", format=\"obj\")"
   ]
  },
  {
   "cell_type": "code",
   "execution_count": 716,
   "metadata": {},
   "outputs": [],
   "source": [
    "#wavy_object\n",
    "def ToJson(vertices_3d, faces_3d, vertices_deform_3d, handles, filename):\n",
    "    # restV = vertices of 3D mesh\n",
    "    # initV = initial vertices of 2D mesh\n",
    "    # F: triangles of 3D mesh\n",
    "    # handles: control points\n",
    "    dictionary = {}\n",
    "    dictionary['restV'] = vertices_3d.tolist()\n",
    "    dictionary['initV'] = vertices_deform_3d[:,0:2].tolist()\n",
    "    dictionary['F'] = faces_3d.tolist()\n",
    "    dictionary['handles'] = handles.tolist()\n",
    "    with open(filename, \"w\") as output:\n",
    "        json.dump(dictionary, output)\n",
    "# ToJson(vertices_3d=wavy_object.mesh_3d_vertices, faces_3d=wavy_object.mesh_faces, handles=np.asarray([]), filename=\"wavy_example.json\")"
   ]
  },
  {
   "cell_type": "code",
   "execution_count": 720,
   "metadata": {},
   "outputs": [],
   "source": [
    "ToJson(vertices_3d=wavy_object.mesh_3d_vertices, \n",
    "       faces_3d=wavy_object.mesh_faces, \n",
    "       vertices_deform_3d=wavy_deform_vertices,\n",
    "       handles=np.asarray([0, 7, 4]), \n",
    "       filename=\"wavy_example_deformed.json\")"
   ]
  },
  {
   "cell_type": "code",
   "execution_count": 804,
   "metadata": {},
   "outputs": [
    {
     "data": {
      "application/vnd.jupyter.widget-view+json": {
       "model_id": "2336622b628443ca83cd400fa212bb3b",
       "version_major": 2,
       "version_minor": 0
      },
      "text/plain": [
       "Renderer(camera=PerspectiveCamera(children=(DirectionalLight(color='white', intensity=0.6, position=(4.5, 4.49…"
      ]
     },
     "metadata": {},
     "output_type": "display_data"
    },
    {
     "name": "stdout",
     "output_type": "stream",
     "text": [
      "[[ 3  4  0]\n",
      " [ 0  4  1]\n",
      " [ 4  5  1]\n",
      " [ 5  2  1]\n",
      " [ 6  4  3]\n",
      " [ 6  7  4]\n",
      " [ 7  5  4]\n",
      " [ 7  8  5]\n",
      " [ 9 10  6]\n",
      " [ 6 10  7]\n",
      " [10 11  7]\n",
      " [11  8  7]\n",
      " [12 10  9]\n",
      " [12 13 10]\n",
      " [13 11 10]\n",
      " [13 14 11]]\n",
      "[[ 3  4  0]\n",
      " [ 0  4  1]\n",
      " [ 4  5  1]\n",
      " [ 5  2  1]\n",
      " [ 6  4  3]\n",
      " [ 6  7  4]\n",
      " [ 7  5  4]\n",
      " [ 7  8  5]\n",
      " [ 9 10  6]\n",
      " [ 6 10  7]\n",
      " [10 11  7]\n",
      " [11  8  7]\n",
      " [12 10  9]\n",
      " [12 13 10]\n",
      " [13 11 10]\n",
      " [13 14 11]]\n"
     ]
    }
   ],
   "source": [
    "import copy\n",
    "def ReadOBJ(filename):\n",
    "    vertices = []\n",
    "    faces = []\n",
    "    with open(filename, 'r') as obj:\n",
    "        content = obj.read()\n",
    "    lines = content.splitlines()\n",
    "    for l in lines:\n",
    "        line_content = l.split()\n",
    "        if line_content[0] == 'v':\n",
    "            # print(np.asarray((line_content[1:])))\n",
    "            vertices.append([float(n) for n in line_content[1:]])\n",
    "        if line_content[0] == 'f':\n",
    "            # print(np.asarray((line_content[1:])))\n",
    "            faces.append([int(n) for n in line_content[1:]])\n",
    "    return np.asarray(vertices), np.asarray(faces) - 1\n",
    "\n",
    "wavy_deform_vertices_read, wavy_deform_faces_read = ReadOBJ('wavy_deform.obj')\n",
    "wavy_color_checker = copy.deepcopy(wavy_color)\n",
    "# print(wavy_color)\n",
    "wavy_color_checker[0] = [0.33839342, 1.0, 0.62934851]\n",
    "# print(wavy_color_checker)\n",
    "test_plot_deform = mp.plot(v=wavy_deform_vertices_read, \n",
    "                                  f=wavy_deform_faces_read, \n",
    "                                  c=wavy_color_checker)\n",
    "print(wavy_deform_faces)\n",
    "print(wavy_deform_faces_read)"
   ]
  },
  {
   "cell_type": "code",
   "execution_count": 810,
   "metadata": {},
   "outputs": [
    {
     "data": {
      "application/vnd.jupyter.widget-view+json": {
       "model_id": "56c22d2257aa4de9a568285fd40d3162",
       "version_major": 2,
       "version_minor": 0
      },
      "text/plain": [
       "Renderer(camera=PerspectiveCamera(children=(DirectionalLight(color='white', intensity=0.6, position=(0.0, 0.0,…"
      ]
     },
     "metadata": {},
     "output_type": "display_data"
    },
    {
     "name": "stdout",
     "output_type": "stream",
     "text": [
      "[14259 12542  2273]\n",
      "[14259 12542  2273]\n",
      "Invalid color array given! Supported are numpy arrays. <class 'numpy.ndarray'>\n"
     ]
    },
    {
     "data": {
      "application/vnd.jupyter.widget-view+json": {
       "model_id": "441746a10d3d4c28b8282e1778541db5",
       "version_major": 2,
       "version_minor": 0
      },
      "text/plain": [
       "Renderer(camera=PerspectiveCamera(children=(DirectionalLight(color='white', intensity=0.6, position=(-0.099240…"
      ]
     },
     "metadata": {},
     "output_type": "display_data"
    },
    {
     "data": {
      "text/plain": [
       "1"
      ]
     },
     "execution_count": 810,
     "metadata": {},
     "output_type": "execute_result"
    }
   ],
   "source": [
    "\"\"\"read json file & test statue example from Charles Du\"\"\"\n",
    "with open('duplicate.json') as j:\n",
    "    dictionary = json.load(j)\n",
    "# DOES: turn 'rest mesh' (3D) to 2D target mesh\n",
    "# restV = vertices of 3D mesh\n",
    "# initV = initial vertices of 2D mesh\n",
    "# F: triangles of 3D mesh\n",
    "# handles: control points\n",
    "statue_3d_vertices = np.asarray(dictionary['restV'])\n",
    "statue_init_vertices = np.asarray(dictionary['initV'])\n",
    "statue_3d_faces= np.asarray(dictionary['F'])\n",
    "statue_handles = np.asarray(dictionary['handles'])\n",
    "\n",
    "statue_3d_crestline_V, statue_3d_crestline_vertices, statue_3d_crestline_E, statue_3d_crestline_edges, _, _ = ReadCrestLine(filename=\"ravines_statue.txt\")\n",
    "input_3D_plot = mp.plot(v=statue_3d_vertices, \n",
    "                        f=statue_3d_faces)\n",
    "input_3D_plot.add_edges(vertices=statue_3d_crestline_vertices[:,0:3], edges=statue_3d_crestline_edges[:,0:2], shading={\"line_color\": \"green\"})\n",
    "\n",
    "statue_2d_vertices, statue_2d_faces = ReadOBJ(filename='result.obj')\n",
    "print(statue_2d_faces[0])\n",
    "print(statue_3d_faces[0])\n",
    "statue_object = LiDAR(mesh_3d_vertices=statue_3d_vertices, \n",
    "                                mesh_3d_faces=statue_3d_faces, \n",
    "                                mesh_3d_crestlines_vertices=statue_3d_crestline_vertices, \n",
    "                                mesh_3d_crestlines_edges=statue_3d_crestline_edges, \n",
    "                                mesh_2d_vertices=statue_2d_vertices, \n",
    "                                color=np.asarray([]))\n",
    "statue_plot = mp.plot(v=statue_object.mesh_2d_vertices, \n",
    "                    f=statue_object.mesh_faces, \n",
    "                    c=np.asarray([]))\n",
    "statue_plot.add_edges(vertices=statue_object.mesh_2d_crestlines_vertices, \n",
    "                    edges=statue_object.crestline_edges, \n",
    "                    shading={\"line_color\": \"green\"})"
   ]
  },
  {
   "cell_type": "code",
   "execution_count": 830,
   "metadata": {},
   "outputs": [
    {
     "data": {
      "text/plain": [
       "array([[4., 5., 6.],\n",
       "       [1., 2., 3.],\n",
       "       [1., 2., 3.],\n",
       "       [1., 2., 3.]])"
      ]
     },
     "execution_count": 830,
     "metadata": {},
     "output_type": "execute_result"
    }
   ],
   "source": [
    "t = np.asarray([1, 2, 3])\n",
    "e = np.asarray([4, 5, 6])\n",
    "q = np.zeros(shape=(4, 3))\n",
    "q[:,:] = t\n",
    "q[0] = e\n",
    "q"
   ]
  },
  {
   "cell_type": "code",
   "execution_count": null,
   "metadata": {},
   "outputs": [],
   "source": [
    "d = mp.subplot(v=, \n",
    "               c=v[:, 1], \n",
    "               s=[1, 2, 0], \n",
    "               shading={\"point_size\": 0.03})\n",
    "p.add_points(v_box, shading={\"point_color\": \"green\"})"
   ]
  },
  {
   "cell_type": "code",
   "execution_count": 943,
   "metadata": {},
   "outputs": [
    {
     "name": "stdout",
     "output_type": "stream",
     "text": [
      "TriangleMesh with 2460 points and 4723 triangles.\n",
      "check first vertex: \t [ 1.58087349  2.17264581 -0.15502262]\n",
      "check first face: \t [29 28 27]\n",
      "Success: ply2.txt\n"
     ]
    },
    {
     "data": {
      "application/vnd.jupyter.widget-view+json": {
       "model_id": "254598071b464bdc949492e535529cae",
       "version_major": 2,
       "version_minor": 0
      },
      "text/plain": [
       "Renderer(camera=PerspectiveCamera(children=(DirectionalLight(color='white', intensity=0.6, position=(1.6059260…"
      ]
     },
     "metadata": {},
     "output_type": "display_data"
    },
    {
     "name": "stdout",
     "output_type": "stream",
     "text": [
      "largest x value: 1.646010160446167\n",
      "largest y value: 2.2535526752471924\n",
      "\n",
      "our handles are: \n",
      "red dot is at:   [ 1.5942347   2.19843698 -0.15306687], it will be at [1.6, 2.205, 0.0]\n",
      "green dot is at: [ 1.56751204  2.24019122 -0.15251827], it will be at [1.568, 2.24, 0.0]\n",
      "blue dot is at:  [ 1.63264894  2.18173528 -0.15140247], it will be at [1.63, 2.18, 0.0]\n",
      "\n",
      "RED line: Y-direction\n",
      "GREEN line: X-direction\n",
      "x range: 1.5658419132232666 to 1.646010160446167\n",
      "y range: 2.163363218307495 to 2.2535526752471924\n"
     ]
    },
    {
     "data": {
      "application/vnd.jupyter.widget-view+json": {
       "model_id": "c84afddf5a6040d88b4d2fb952c18585",
       "version_major": 2,
       "version_minor": 0
      },
      "text/plain": [
       "Renderer(camera=PerspectiveCamera(children=(DirectionalLight(color='white', intensity=0.6, position=(1.6078166…"
      ]
     },
     "metadata": {},
     "output_type": "display_data"
    },
    {
     "data": {
      "application/vnd.jupyter.widget-view+json": {
       "model_id": "d86a7bbe63884d45928c78568a98a7a3",
       "version_major": 2,
       "version_minor": 0
      },
      "text/plain": [
       "Renderer(camera=PerspectiveCamera(children=(DirectionalLight(color='white', intensity=0.6, position=(21.387249…"
      ]
     },
     "metadata": {},
     "output_type": "display_data"
    },
    {
     "data": {
      "text/plain": [
       "1"
      ]
     },
     "execution_count": 943,
     "metadata": {},
     "output_type": "execute_result"
    }
   ],
   "source": [
    "# read LiDAR data (3D) from PLY file\n",
    "super_tiny_3d_vertices, super_tiny_3d_faces = get_mesh(\"super_tiny_eg.ply\")\n",
    "print(f\"check first vertex: \\t {super_tiny_3d_vertices[0]}\")\n",
    "print(f\"check first face: \\t {super_tiny_3d_faces[0]}\")\n",
    "\n",
    "# turn into pseudo-ply\n",
    "to_pseudo_PLY2(name=\"ply2.txt\",\n",
    "               neighbor=6, \n",
    "               crestline=1, \n",
    "               verts=super_tiny_3d_vertices, \n",
    "               faces=super_tiny_3d_faces)\n",
    "\n",
    "super_tiny_3d_V = super_tiny_3d_vertices.shape[0]\n",
    "super_tiny_3d_F = super_tiny_3d_faces.shape[0]\n",
    "\n",
    "purple = np.array([1.0, 0.1, 1.0]) # purple\n",
    "turquoise = np.array([0.1, 1.0, 0.1]) # turquoise\n",
    "blue = np.array([0.1, 0.1, 1.0]) # blue\n",
    "green = np.array([0.1, 1.0, 0.1]) # green\n",
    "yellow = np.array([1.0, 1.0, 0.1]) # yellow\n",
    "red = np.array([1.0, 0.1, 0.1]) # red\n",
    "black = np.array([0, 0, 0]) # black\n",
    "\n",
    "# turquoise = np.array([0.33839342, 1.0, 0.62934851])\n",
    "super_tiny_color = np.zeros(shape=(super_tiny_3d_F, 3))\n",
    "super_tiny_color[:, :] = yellow\n",
    "super_tiny_color[0] = turquoise\n",
    "\n",
    "# move pseudo-ply to CrestCODE folder, run: ./setCurvature ply2.txt output.txt\n",
    "# we get four files: ply2.txt, output.txt, ridges.txt, ravines.txt <- ravines.txt is useful\n",
    "super_tiny_3d_crestline_V, super_tiny_3d_crestline_vertices, super_tiny_3d_crestline_E, super_tiny_3d_crestline_edges, _, _ = ReadCrestLine(filename=\"ravines.txt\")\n",
    "super_tiny_3D_plot = mp.plot(v=super_tiny_3d_vertices, \n",
    "                            f=super_tiny_3d_faces,\n",
    "                            c=super_tiny_color)\n",
    "super_tiny_3D_plot.add_edges(vertices=super_tiny_3d_crestline_vertices[:,0:3], \n",
    "                             edges=super_tiny_3d_crestline_edges[:,0:2], \n",
    "                             shading={\"line_color\": \"blue\"})\n",
    "\n",
    "# transform with handles\n",
    "\n",
    "print(f\"largest x value: {max(super_tiny_3d_vertices[:, 0])}\")\n",
    "print(f\"largest y value: {max(super_tiny_3d_vertices[:, 1])}\")\n",
    "super_tiny_handle_ids = [1000, 1500, 2000]\n",
    "super_tiny_handle_pos = [\n",
    "                    [1.60, 2.205, 0.0],\n",
    "                    [1.568, 2.24, 0.0],\n",
    "                    [1.63, 2.18, 0.0]]\n",
    "super_tiny_handle_current_pos = np.asarray([\n",
    "    super_tiny_3d_vertices[1000],\n",
    "    super_tiny_3d_vertices[1500],\n",
    "    super_tiny_3d_vertices[2000]\n",
    "# red dot is at:   [ 1.5942347   2.19843698 -0.15306687]\n",
    "# green dot is at: [ 1.56751204  2.24019122 -0.15251827]\n",
    "# blue dot is at:  [ 1.63264894  2.18173528 -0.15140247]\n",
    "\n",
    "])\n",
    "super_tiny_handle_color = np.asarray([\n",
    "    red, green, blue\n",
    "])\n",
    "print(f\"\\nour handles are: \")\n",
    "print(f\"red dot is at:   {super_tiny_handle_current_pos[0]}, it will be at {super_tiny_handle_pos[0]}\")\n",
    "print(f\"green dot is at: {super_tiny_handle_current_pos[1]}, it will be at {super_tiny_handle_pos[1]}\")\n",
    "print(f\"blue dot is at:  {super_tiny_handle_current_pos[2]}, it will be at {super_tiny_handle_pos[2]}\")\n",
    "print(f\"\\nRED line: Y-direction\")\n",
    "print(f\"GREEN line: X-direction\")\n",
    "\n",
    "# x range: 1.5658419132232666 to 1.646010160446167\n",
    "# y range: 2.163363218307495 to 2.2535526752471924\n",
    "\n",
    "super_tiny_3D_plot.add_points(points= super_tiny_handle_current_pos, # <- small points: where the handles refer to\n",
    "                              c=super_tiny_handle_color,\n",
    "                              shading={\"point_size\": 0.02})\n",
    "super_tiny_3D_plot.add_points(points= np.asarray(super_tiny_handle_pos), # <- big points: where the small points WILL BE\n",
    "                              c=super_tiny_handle_color,\n",
    "                              shading={\"point_size\": 1})\n",
    "\n",
    "x_min_extent = min(super_tiny_3d_vertices[:, 0])\n",
    "x_max_extent = max(super_tiny_3d_vertices[:, 0])\n",
    "y_min_extent = min(super_tiny_3d_vertices[:, 1])\n",
    "y_max_extent = max(super_tiny_3d_vertices[:, 1])\n",
    "z_min_extent = min(super_tiny_3d_vertices[:, 2])\n",
    "pseudo_origin = [x_min_extent, y_min_extent, z_min_extent]\n",
    "x_endpoint = [x_max_extent, y_min_extent, z_min_extent]\n",
    "y_endpoint = [x_min_extent, y_max_extent, z_min_extent]\n",
    "print(f\"x range: {x_min_extent} to {x_max_extent}\")\n",
    "print(f\"y range: {y_min_extent} to {y_max_extent}\")\n",
    "\n",
    "x_axis_vertices = np.asarray([pseudo_origin, x_endpoint])\n",
    "y_axis_vertices = np.asarray([pseudo_origin, y_endpoint])\n",
    "super_tiny_3D_plot.add_edges(vertices=x_axis_vertices,\n",
    "                             edges=np.asarray([[0, 1]]),\n",
    "                             shading={\"line_color\": \"green\"})\n",
    "super_tiny_3D_plot.add_edges(vertices=y_axis_vertices,\n",
    "                             edges=np.asarray([[0, 1]]),\n",
    "                             shading={\"line_color\": \"red\"})\n",
    "\n",
    "super_tiny_deform_vertices, super_tiny_deform_faces = Handles(\n",
    "                                                mesh_vertices=super_tiny_3d_vertices, \n",
    "                                                mesh_faces=super_tiny_3d_faces,\n",
    "                                                affected_vertex_ids=super_tiny_handle_ids,\n",
    "                                                target_positions=super_tiny_handle_pos,\n",
    "                                                iterations=10)\n",
    "super_tiny_deform_plot = mp.plot(v=super_tiny_deform_vertices, \n",
    "                                 f=super_tiny_deform_faces, \n",
    "                                 c=super_tiny_color)\n",
    "super_tiny_deform_plot.add_points(points= np.asarray(super_tiny_handle_pos), # <- big points: where the small points WILL BE\n",
    "                              c=super_tiny_handle_color,\n",
    "                              shading={\"point_size\": 1})\n",
    "\n",
    "# turn into JSON file\n",
    "ToJson(vertices_3d=super_tiny_3d_vertices, \n",
    "       faces_3d=super_tiny_3d_faces, \n",
    "       vertices_deform_3d=super_tiny_deform_vertices,\n",
    "       handles=np.asarray(super_tiny_handle_ids), \n",
    "       filename=\"super_tiny_deformed.json\")\n",
    "\n",
    "# get 2d vertices\n",
    "super_tiny_2d_vertices, super_tiny_2d_faces = ReadOBJ(filename=\"super_tiny_result.obj\")\n",
    "\n",
    "# move 3d crestlines to 2d\n",
    "super_tiny_object = LiDAR(mesh_3d_vertices=super_tiny_3d_vertices,\n",
    "                          mesh_3d_faces=super_tiny_3d_faces,\n",
    "                          mesh_3d_crestlines_vertices=super_tiny_3d_crestline_vertices,\n",
    "                          mesh_3d_crestlines_edges=super_tiny_3d_crestline_edges,\n",
    "                          mesh_2d_vertices=super_tiny_2d_vertices,\n",
    "                          color=super_tiny_color)\n",
    "\n",
    "super_tiny_2d_plot = mp.plot(v=super_tiny_object.mesh_2d_vertices, \n",
    "                    f=super_tiny_object.mesh_faces, \n",
    "                    c=super_tiny_object.color)\n",
    "super_tiny_2d_plot.add_points(points=super_tiny_object.mesh_2d_crestlines_vertices, shading={\"point_size\": 0.03})\n",
    "# omitting lines, because it makes display super tiny!\n",
    "# super_tiny_2d_plot.add_edges(vertices=super_tiny_object.mesh_2d_crestlines_vertices, \n",
    "#                       edges=super_tiny_object.crestline_edges, \n",
    "#                       shading={\"line_color\": \"green\"})\n",
    "\n",
    "# super_tiny_2d_plot.add_points(points= np.asarray(super_tiny_handle_pos), # <- big points: where the small points WILL BE\n",
    "#                               c=super_tiny_handle_color,\n",
    "#                               shading={\"point_size\": 1})"
   ]
  },
  {
   "cell_type": "code",
   "execution_count": 980,
   "metadata": {},
   "outputs": [],
   "source": [
    "def find_coordinate_range(points):\n",
    "    min_x = min(points[:, 0])\n",
    "    max_x = max(points[:, 0])\n",
    "    print(f\"\\tX: {min_x}~{max_x}, range: {max_x - min_x}\")\n",
    "    min_y = min(points[:, 1])\n",
    "    max_y = max(points[:, 1])\n",
    "    print(f\"\\tY: {min_y}~{max_y}, range: {max_y - min_y}\")\n",
    "    min_z = min(points[:, 2])\n",
    "    max_z = max(points[:, 2])\n",
    "    print(f\"\\tZ: {min_z}~{max_z}, range: {max_z - min_z}\")\n"
   ]
  },
  {
   "cell_type": "code",
   "execution_count": 985,
   "metadata": {},
   "outputs": [
    {
     "name": "stdout",
     "output_type": "stream",
     "text": [
      "start_vertex_1: [21.2683 29.3103  0.    ]\n",
      "range of given 2d points\n",
      "\tX: 20.8429~21.9316, range: 1.0886999999999993\n",
      "\tY: 28.8177~29.9836, range: 1.1659000000000006\n",
      "\tZ: 0.0~0.0, range: 0.0\n",
      "range of original mesh points\n",
      "\tX: 1.5658419132232666~1.646010160446167, range: 0.08016824722290039\n",
      "\tY: 2.163363218307495~2.2535526752471924, range: 0.09018945693969727\n",
      "\tZ: -0.15560364723205566~-0.14977240562438965, range: 0.005831241607666016\n",
      "after moving: [1.6   2.205 0.   ]\n",
      "goal_vertex_1: [1.6   2.205 0.   ]\n",
      "range of the new 2d points\n",
      "\tX: 1.5680007023875153~1.6498945324550098, range: 0.08189383006749451\n",
      "\tY: 2.1679458062907613~2.255646749136074, range: 0.08770094284531282\n",
      "\tZ: 0.0~0.0, range: 0.0\n",
      "range of the new crestline points\n",
      "\tX: 1.5714844013253562~1.6436558609562877, range: 0.07217145963093152\n",
      "\tY: 2.1734323703113514~2.2517797787009606, range: 0.07834740838960919\n",
      "\tZ: 0.0~0.0, range: 0.0\n"
     ]
    },
    {
     "data": {
      "application/vnd.jupyter.widget-view+json": {
       "model_id": "c38f662619d7470fb0851b6969ed31cd",
       "version_major": 2,
       "version_minor": 0
      },
      "text/plain": [
       "Renderer(camera=PerspectiveCamera(children=(DirectionalLight(color='white', intensity=0.6, position=(1.6089475…"
      ]
     },
     "metadata": {},
     "output_type": "display_data"
    },
    {
     "data": {
      "text/plain": [
       "2"
      ]
     },
     "execution_count": 985,
     "metadata": {},
     "output_type": "execute_result"
    }
   ],
   "source": [
    "# start: mesh output from IsoNrg\n",
    "# goal: (back to) original mesh scaling\n",
    "goal_vertex_1 = np.asarray(super_tiny_handle_pos[0])\n",
    "goal_vertex_2 = np.asarray(super_tiny_handle_pos[1])\n",
    "start_vertex_1 = super_tiny_object.mesh_2d_vertices[1000]\n",
    "print(f\"start_vertex_1: {start_vertex_1}\")\n",
    "start_vertex_2 = super_tiny_object.mesh_2d_vertices[1500]\n",
    "\n",
    "print(\"range of given 2d points\")\n",
    "find_coordinate_range(super_tiny_object.mesh_2d_vertices)\n",
    "print(\"range of original mesh points\")\n",
    "find_coordinate_range(super_tiny_object.mesh_3d_vertices)\n",
    "\n",
    "goal_vector = goal_vertex_1 - goal_vertex_2\n",
    "goal_displacement = np.sqrt(goal_vector.dot(goal_vector))\n",
    "start_vector = start_vertex_1 - start_vertex_2\n",
    "start_displacement = np.sqrt(start_vector.dot(start_vector))\n",
    "\n",
    "factor = goal_displacement / start_displacement # <- how much to scale start, so that it matches goal\n",
    "\n",
    "scaled_vertices = super_tiny_object.mesh_2d_vertices * factor\n",
    "scaled_crestline_vertices = super_tiny_object.mesh_2d_crestlines_vertices * factor\n",
    "\n",
    "goal_vertex_1_prime = scaled_vertices[1000]\n",
    "move_vector = goal_vertex_1 - goal_vertex_1_prime\n",
    "\n",
    "new_vertices = scaled_vertices + move_vector\n",
    "print(f\"after moving: {new_vertices[1000]}\")\n",
    "print(f\"goal_vertex_1: {goal_vertex_1}\")\n",
    "new_crestline_vertices = scaled_crestline_vertices + move_vector\n",
    "\n",
    "print(\"range of the new 2d points\")\n",
    "find_coordinate_range(new_vertices)\n",
    "print(\"range of the new crestline points\")\n",
    "find_coordinate_range(new_crestline_vertices)\n",
    "\n",
    "translate = mp.plot(v=new_vertices, f=super_tiny_object.mesh_faces, c=super_tiny_object.color)\n",
    "translate.add_points(points= np.asarray(super_tiny_handle_pos), # <- big points: where the small points WILL BE\n",
    "                               c=super_tiny_handle_color,\n",
    "                               shading={\"point_size\": 1})\n",
    "translate.add_edges(vertices=new_crestline_vertices, \n",
    "                      edges=super_tiny_object.crestline_edges, \n",
    "                      shading={\"line_color\": \"green\"})"
   ]
  },
  {
   "cell_type": "code",
   "execution_count": 928,
   "metadata": {},
   "outputs": [
    {
     "data": {
      "text/plain": [
       "[0, 0, 1]"
      ]
     },
     "execution_count": 928,
     "metadata": {},
     "output_type": "execute_result"
    }
   ],
   "source": [
    "a = np.asarray([0, 0, 1])\n",
    "list(a)"
   ]
  },
  {
   "cell_type": "code",
   "execution_count": 936,
   "metadata": {},
   "outputs": [
    {
     "data": {
      "text/plain": [
       "array([[6, 5],\n",
       "       [7, 8]])"
      ]
     },
     "execution_count": 936,
     "metadata": {},
     "output_type": "execute_result"
    }
   ],
   "source": [
    "super_tiny_object.crestline_edges[4:6,0:2]"
   ]
  },
  {
   "cell_type": "code",
   "execution_count": 938,
   "metadata": {},
   "outputs": [
    {
     "data": {
      "text/plain": [
       "array([[  0,   1,  88],\n",
       "       [  2,   3, 158]])"
      ]
     },
     "execution_count": 938,
     "metadata": {},
     "output_type": "execute_result"
    }
   ],
   "source": [
    "super_tiny_object.crestline_edges[:,0:2]"
   ]
  },
  {
   "cell_type": "code",
   "execution_count": 939,
   "metadata": {},
   "outputs": [
    {
     "name": "stdout",
     "output_type": "stream",
     "text": [
      "Writing PLY: [========================================] 100%\n"
     ]
    }
   ],
   "source": [
    "def export_lines(vertices, edges, filename):\n",
    "    line_set = o3d.geometry.LineSet(\n",
    "        points=o3d.utility.Vector3dVector(vertices),\n",
    "        lines=o3d.utility.Vector2iVector(edges),\n",
    "    )\n",
    "    o3d.io.write_line_set(filename, line_set, print_progress=True)\n",
    "def export_lines_1(vertices, edges, filename):\n",
    "    line_set = o3d.geometry.LineSet(\n",
    "        points=vertices,\n",
    "        lines=edges,\n",
    "    )\n",
    "    o3d.io.write_line_set(filename, line_set, print_progress=True)\n",
    "export_lines(vertices=super_tiny_object.mesh_2d_crestlines_vertices,\n",
    "             edges=super_tiny_object.crestline_edges[:,0:2].astype(int),\n",
    "             filename=\"super_tiny_edges.ply\")"
   ]
  },
  {
   "cell_type": "code",
   "execution_count": 921,
   "metadata": {},
   "outputs": [
    {
     "name": "stdout",
     "output_type": "stream",
     "text": [
      "x range: 20.889212439294894 to 21.848662840325563\n",
      "y range: 28.890638611422784 to 29.932192333399982\n",
      "z range: 0.0 to 0.0\n",
      "x range: 20.8429 to 21.9316\n",
      "y range: 28.8177 to 29.9836\n",
      "z range: 0.0 to 0.0\n"
     ]
    }
   ],
   "source": [
    "super_tiny_object.mesh_2d_crestlines_vertices.shape\n",
    "\n",
    "x_min = min(super_tiny_object.mesh_2d_crestlines_vertices[:, 0])\n",
    "x_max = max(super_tiny_object.mesh_2d_crestlines_vertices[:, 0])\n",
    "y_min = min(super_tiny_object.mesh_2d_crestlines_vertices[:, 1])\n",
    "y_max = max(super_tiny_object.mesh_2d_crestlines_vertices[:, 1])\n",
    "z_min = min(super_tiny_object.mesh_2d_crestlines_vertices[:, 2])\n",
    "z_max = max(super_tiny_object.mesh_2d_crestlines_vertices[:, 2])\n",
    "# z_min = min(super_tiny_3d_vertices[:, 2])\n",
    "# pseudo_origin = [x_min_extent, y_min_extent, z_min_extent]\n",
    "# x_endpoint = [x_max_extent, y_min_extent, z_min_extent]\n",
    "# y_endpoint = [x_min_extent, y_max_extent, z_min_extent]\n",
    "print(f\"x range: {x_min} to {x_max}\")\n",
    "print(f\"y range: {y_min} to {y_max}\")\n",
    "print(f\"z range: {z_min} to {z_max}\")\n",
    "\n",
    "x_v_min = min(super_tiny_object.mesh_2d_vertices[:, 0])\n",
    "x_v_max = max(super_tiny_object.mesh_2d_vertices[:, 0])\n",
    "y_v_min = min(super_tiny_object.mesh_2d_vertices[:, 1])\n",
    "y_v_max = max(super_tiny_object.mesh_2d_vertices[:, 1])\n",
    "z_v_min = min(super_tiny_object.mesh_2d_vertices[:, 2])\n",
    "z_v_max = max(super_tiny_object.mesh_2d_vertices[:, 2])\n",
    "# z_min = min(super_tiny_3d_vertices[:, 2])\n",
    "# pseudo_origin = [x_min_extent, y_min_extent, z_min_extent]\n",
    "# x_endpoint = [x_max_extent, y_min_extent, z_min_extent]\n",
    "# y_endpoint = [x_min_extent, y_max_extent, z_min_extent]\n",
    "print(f\"x range: {x_v_min} to {x_v_max}\")\n",
    "print(f\"y range: {y_v_min} to {y_v_max}\")\n",
    "print(f\"z range: {z_v_min} to {z_v_max}\")"
   ]
  },
  {
   "cell_type": "code",
   "execution_count": null,
   "metadata": {},
   "outputs": [],
   "source": [
    "\"\"\"export lines\"\"\"\n",
    "def export_lines(vertices, edges, filename):\n",
    "    line_set = o3d.geometry.LineSet(\n",
    "        points=o3d.utility.Vector3dVector(vertices),\n",
    "        lines=o3d.utility.Vector2iVector(edges),\n",
    "    )\n",
    "    o3d.io.write_line_set(filename, line_set, print_progress=True)\n",
    "line_set.colors = o3d.utility.Vector3dVector(colors)\n",
    "o3d.io.write_line_set(RAVINES + PLY, line_set, print_progress=True)"
   ]
  },
  {
   "attachments": {},
   "cell_type": "markdown",
   "metadata": {},
   "source": [
    "# **new algorithm idea**"
   ]
  },
  {
   "cell_type": "code",
   "execution_count": null,
   "metadata": {},
   "outputs": [],
   "source": [
    "# input1: maximum neighbor (k)\n",
    "# input2: mesh_faces (F, 3) array\n",
    "# output: faces_frequency (F, max(k)) array, \n",
    "#   format: faces_frequency[i][j] = 1 means ith face contains crestlines for neighbor = j; 0 otherwise\n",
    "def read_ravine_multiple(max_neighbor, mesh_faces):\n",
    "    faces_freq = np.zeros(shape=(len(mesh_faces), max_neighbor))\n",
    "    for n in range(1, NEIGHBOR + 1):\n",
    "        filename = RAVINES = \"Ravine_\" + \"k=\" + str(n) + \"_\" + MESHNAME + TXT\n",
    "        print(f\"reading {filename}\")\n",
    "        V, crestline_vertices, E, crestline_edges, N, crestline_connected_cmp = ReadCrestLine(filename=RAVINES)\n",
    "        getTriangles(crestline_edges=crestline_edges, faces_frequency=faces_freq, neighbor=n)\n",
    "    return faces_freq\n",
    "# input: faces_frequency (F, max(k)) array\n",
    "# output: faces_colorful_crestline (F, 3) array, format: [R, G, B], where each in [0, 1] float\n",
    "#   [small, 1, 1] = turquoise\n",
    "#   [1, small, 1] = purple\n",
    "#   [1, 1, small] = yellow\n",
    "#   [1, small, small] = red\n",
    "#   [small, small, 1] = blue\n",
    "#   [small, 1, small] = green\n",
    "colors = {\n",
    "    '1': np.array([1.0, 0.1, 1.0]), # purple\n",
    "    '2': np.array([0.1, 1.0, 0.1]), # turquoise\n",
    "    '3': np.array([0.1, 0.1, 1.0]), # blue\n",
    "    '4': np.array([0.1, 1.0, 0.1]), # green\n",
    "    '5': np.array([1.0, 1.0, 0.1]), # yellow\n",
    "    '6': np.array([1.0, 0.1, 0.1]), # red\n",
    "    'threshold': np.array([0, 0, 0]) # black\n",
    "    }\n",
    "def colorful_by_strength(freq):\n",
    "    tally = np.sum(freq, axis=1)\n",
    "    faces_color = np.ones(shape=(len(freq), 3))\n",
    "    for f in range(len(freq)):\n",
    "        if(tally[f] == 6):\n",
    "            faces_color[f] = colors['6']\n",
    "        elif(tally[f] == 5):\n",
    "            faces_color[f] = colors['5']\n",
    "        elif(tally[f] == 4):\n",
    "            faces_color[f] = colors['4']\n",
    "        elif(tally[f] == 3):\n",
    "            faces_color[f] = colors['3']\n",
    "        elif(tally[f] == 2):\n",
    "            faces_color[f] = colors['2']\n",
    "        elif(tally[f] == 1):\n",
    "            faces_color[f] = colors['1']\n",
    "        else:\n",
    "            faces_color[f] = np.ones(3)\n",
    "    return faces_color\n",
    "# input1: faces_frequency (F, max(k)) array\n",
    "# input2: threshold\n",
    "# output: strongest_color (F, 3) array, format: [R, G, B], where each in [0, 1] float\n",
    "#   ONLY keep color of \n",
    "def colorful_by_strongest(freq_, threshold):\n",
    "    tally = np.sum(freq_, axis=1)\n",
    "    faces_color = np.ones(shape=(len(freq_), 3))\n",
    "    for f in range(len(freq_)):\n",
    "        if(tally[f] >= threshold):\n",
    "            faces_color[f] = colors['threshold']\n",
    "        else:\n",
    "            faces_color[f] = np.ones(3)\n",
    "    return faces_color\n",
    "# input: generic array\n",
    "# output: length of longest subarray, where entries are != 0 throughout\n",
    "def longest_continuous(array):\n",
    "    count = 0\n",
    "    best = 0\n",
    "    for n in array:\n",
    "        if(n == 0):\n",
    "            count = 0\n",
    "        else:\n",
    "            count += 1\n",
    "            best = max(count, best)\n",
    "    return best\n",
    "# input1: faces_frequency (F, max(k)) array\n",
    "# input2: threshold\n",
    "# output: strongest_color (F, 3) array, format: [R, G, B], where each in [0, 1] float\n",
    "#   ONLY keep color of \n",
    "def colorful_by_strongest_continuous(freq_, threshold):\n",
    "    faces_color = np.ones(shape=(len(freq_), 3))\n",
    "    for f in range(len(freq_)):\n",
    "        longest = longest_continuous(freq_[f])\n",
    "        if(longest >= threshold):\n",
    "            faces_color[f] = colors['threshold']\n",
    "        else:\n",
    "            faces_color[f] = np.ones(3)\n",
    "    return faces_color\n",
    "# getJetColor()\n",
    "# input: frequency_value in [1, MAX_neighbor]\n",
    "#   frequency_value = 0 is given white color RGB = [1, 1, 1]\n",
    "# output: ndarray (3,) of RGB = [R, G, B]\n",
    "def getJetColor(frequency_value):\n",
    "    jet = cm.get_cmap('jet') # extract 'jet' colormap from matplotlib; type: matplotlib.colors.LinearSegmentedColormap\n",
    "    jet_custom = jet(np.linspace(0, 1, MAX_neighbor)) # get evenly-spaced colors, type: ndarray\n",
    "    # if frequency is 0, \n",
    "    frequency_index = frequency_value - 1\n",
    "    return jet_custom[frequency_index][0:3]\n",
    "# colorful_by_strongest_continuous_jet\n",
    "# input1: faces_frequency (F, max(k)) array\n",
    "# input2: threshold\n",
    "# output: strongest JET color (F, 3) array, format: [R, G, B], where each in [0, 1] float\n",
    "#   ONLY keep color of \n",
    "def colorful_by_strongest_continuous_jet(freq_):\n",
    "    faces_color = np.ones(shape=(len(freq_), 3))\n",
    "    for f in range(len(freq_)):\n",
    "        longest = longest_continuous(freq_[f])\n",
    "        if(longest > 0):\n",
    "            faces_color[f] = getJetColor(longest)\n",
    "        else:\n",
    "            faces_color[f] = np.ones(3) # frequency = 0 -> white color!\n",
    "    return faces_color\n",
    "\n",
    "\n",
    "freqency = read_ravine_multiple(max_neighbor=MAX_neighbor, mesh_faces=mesh_faces)\n",
    "# colorful = colorful_by_strength(freq=freq)\n",
    "color_threshold_continuous_jet = colorful_by_strongest_continuous_jet(freq_=freqency)\n",
    "color_threshold_continuous = colorful_by_strongest_continuous(freq_=freqency, threshold=5)\n",
    "color_threshold = colorful_by_strongest(freq_=freqency, threshold=6)\n",
    "q = mp.plot(v=mesh_verts, f=mesh_faces, c=color_threshold_continuous_jet)"
   ]
  },
  {
   "cell_type": "code",
   "execution_count": 312,
   "metadata": {},
   "outputs": [
    {
     "name": "stdout",
     "output_type": "stream",
     "text": [
      "Plot saved to file k[1,9]_frequency>=5_not_persistence.html.\n"
     ]
    }
   ],
   "source": [
    "q.save(filename=\"k[1,9]_frequency>=5_not_persistence\")"
   ]
  },
  {
   "attachments": {},
   "cell_type": "markdown",
   "metadata": {},
   "source": [
    "# **230424**\n",
    "I start by cropping the original TBK mesh in Meshlab. I crop conservatively, only keeping parts of the mesh that have visible archaeological features.\n",
    "<br>Before cropping, the mesh has 6.3 million vertices and 12.7 million faces\n",
    "<br>After cropping, the mesh has 3 million vertices and 6 million faces\n",
    "\n",
    ">This takes more than 10 minutes to run! So I make an even smaller crop\n",
    "\n",
    "<br>I make an even smaller mesh with 2.1 million vertices and 4.2 million faces\n",
    "\n",
    ">start time: 10:25am\n"
   ]
  },
  {
   "cell_type": "code",
   "execution_count": null,
   "metadata": {},
   "outputs": [],
   "source": []
  },
  {
   "cell_type": "code",
   "execution_count": 304,
   "metadata": {},
   "outputs": [
    {
     "data": {
      "text/plain": [
       "array([0.5, 0. , 0. ])"
      ]
     },
     "execution_count": 304,
     "metadata": {},
     "output_type": "execute_result"
    }
   ],
   "source": [
    "# input: frequency_value in [1, MAX_neighbor]\n",
    "#   frequency_value = 0 is given white color RGB = [1, 1, 1]\n",
    "# output: ndarray (3,) of RGB = [R, G, B]\n",
    "def getJetColor(frequency_value):\n",
    "    jet = cm.get_cmap('jet') # extract 'jet' colormap from matplotlib; type: matplotlib.colors.LinearSegmentedColormap\n",
    "    jet_custom = jet(np.linspace(0, 1, MAX_neighbor)) # get evenly-spaced colors, type: ndarray\n",
    "    # if frequency is 0, \n",
    "    frequency_index = frequency_value - 1\n",
    "    return jet_custom[frequency_index][0:3]\n",
    "getJetColor(10)\n"
   ]
  },
  {
   "cell_type": "code",
   "execution_count": null,
   "metadata": {},
   "outputs": [],
   "source": []
  },
  {
   "cell_type": "code",
   "execution_count": 292,
   "metadata": {},
   "outputs": [
    {
     "name": "stdout",
     "output_type": "stream",
     "text": [
      "jet.colors (12, 4)\n",
      "viridis.colors (12, 4)\n"
     ]
    },
    {
     "data": {
      "image/png": "[encoded data removed]",
      "text/plain": [
       "<Figure size 640x480 with 1 Axes>"
      ]
     },
     "metadata": {},
     "output_type": "display_data"
    },
    {
     "name": "stdout",
     "output_type": "stream",
     "text": [
      "[0.33839342 1.         0.62934851 1.        ]\n"
     ]
    }
   ],
   "source": [
    "jet = cm.get_cmap('jet')\n",
    "jet_12_colors = jet(np.linspace(0, 1, 12))\n",
    "print('jet.colors', jet_12_colors.shape)\n",
    "\n",
    "viridis = cm.get_cmap('viridis', 12)\n",
    "print('viridis.colors', viridis.colors.shape)\n",
    "\n",
    "plt.scatter(range(12), np.repeat(2, 12), color=jet_12_colors)\n",
    "plt.scatter(range(12), np.repeat(1, 12), color=viridis.colors)\n",
    "plt.xticks(range(12))\n",
    "plt.show()\n",
    "print(jet_12_colors[5])"
   ]
  },
  {
   "cell_type": "code",
   "execution_count": 293,
   "metadata": {},
   "outputs": [
    {
     "data": {
      "application/vnd.jupyter.widget-view+json": {
       "model_id": "d74b147896d143198ffc86d6023d7c16",
       "version_major": 2,
       "version_minor": 0
      },
      "text/plain": [
       "Renderer(camera=PerspectiveCamera(children=(DirectionalLight(color='white', intensity=0.6, position=(1.0, 0.5,…"
      ]
     },
     "metadata": {},
     "output_type": "display_data"
    },
    {
     "data": {
      "text/plain": [
       "<meshplot.Viewer.Viewer at 0x7f820afbb610>"
      ]
     },
     "execution_count": 293,
     "metadata": {},
     "output_type": "execute_result"
    }
   ],
   "source": [
    "V = np.array([\n",
    "    [0., 0, 0],\n",
    "    [1, 0, 0],\n",
    "    [1, 1, 1],\n",
    "    [2, 1, 0]\n",
    "])\n",
    "\n",
    "F = np.array([\n",
    "    [0, 1, 2],\n",
    "    [1, 3, 2]\n",
    "])\n",
    "\n",
    "color = np.array([\n",
    "    [1.0, 1.0, 1.0],\n",
    "    [1.0, 1.0, 1.0]\n",
    "])\n",
    "\n",
    "color1 = np.array([\n",
    "    0.33839342, 1.0, 0.62934851\n",
    "])\n",
    "\n",
    "mp.plot(V, F, c=color1)"
   ]
  },
  {
   "cell_type": "code",
   "execution_count": 249,
   "metadata": {},
   "outputs": [
    {
     "data": {
      "text/plain": [
       "array([1, 1])"
      ]
     },
     "execution_count": 249,
     "metadata": {},
     "output_type": "execute_result"
    }
   ],
   "source": [
    "test = np.array([\n",
    "    [1,1],\n",
    "    [2,2]\n",
    "])\n",
    "\n",
    "test[0]"
   ]
  },
  {
   "cell_type": "code",
   "execution_count": 188,
   "metadata": {},
   "outputs": [
    {
     "name": "stdout",
     "output_type": "stream",
     "text": [
      "Plot saved to file frequency_colorful_threshold=5.html.\n"
     ]
    }
   ],
   "source": [
    "q.save(filename=\"frequency_colorful_threshold=5\")"
   ]
  },
  {
   "cell_type": "code",
   "execution_count": 200,
   "metadata": {},
   "outputs": [
    {
     "name": "stdout",
     "output_type": "stream",
     "text": [
      "[[0. 1. 2. 0.]]\n"
     ]
    }
   ],
   "source": [
    "\"\"\"#Example# get: faces; from: face index\"\"\"\n",
    "F = np.asarray([0,1,2])\n",
    "G = np.zeros(shape=(1,4))\n",
    "G[:,0:3] = F\n",
    "print(G)\n",
    "# got: \n",
    "# [edge_u_index, edge_v_index, face_index] <- edges\n",
    "# [a_index, b_index, c_index] @ face_index\n",
    "# [x, y, z] @ a_index\n",
    "# want:\n",
    "# select faces by index\n",
    "# tally appearance count for ea face"
   ]
  },
  {
   "cell_type": "code",
   "execution_count": 198,
   "metadata": {},
   "outputs": [
    {
     "name": "stdout",
     "output_type": "stream",
     "text": [
      "[7 8]\n",
      "[[5. 6.]]\n",
      "[[7. 8.]]\n"
     ]
    }
   ],
   "source": [
    "\"\"\"#Example# get: vertices; from: vertex index\"\"\"\n",
    "A = np.asarray([[0, 1, 2]]) # edges, form: (u index, v index)\n",
    "B = np.asarray([[5,6,0],[7,8,0],[9,10,0]]) # verts, form: (x, y, z)\n",
    "# want: C = [5,6], D = [7,8] <- selected verts by indices; indices from edges\n",
    "C = np.zeros(shape=(A.shape[0],2))\n",
    "D = np.zeros(shape=(A.shape[0],2))\n",
    "for i in range(len(A)):\n",
    "    C[i] = B[A[i][0]][0:2]\n",
    "    D[i] = B[A[i][1]][0:2]\n",
    "print(B[1][0:2])\n",
    "print(C)\n",
    "print(D)"
   ]
  },
  {
   "cell_type": "code",
   "execution_count": 138,
   "metadata": {},
   "outputs": [
    {
     "data": {
      "text/plain": [
       "array([14., 13.,  3.,  0.])"
      ]
     },
     "execution_count": 138,
     "metadata": {},
     "output_type": "execute_result"
    }
   ],
   "source": [
    "(V, N, E, CL_vertices, connected_cmp, edges) = RawData(RAVINES)\n",
    "selected_faces = np.zeros((faces.shape[0],4))\n",
    "selected_faces[:,0:3] = faces\n",
    "selected_faces[1]\n",
    "\n"
   ]
  },
  {
   "cell_type": "code",
   "execution_count": 135,
   "metadata": {},
   "outputs": [
    {
     "name": "stdout",
     "output_type": "stream",
     "text": [
      "[28474. 28472. 24778.     0.]\n"
     ]
    }
   ],
   "source": [
    "triangle_indices = edges[:,2]\n",
    "for i in range(len(triangle_indices)):\n",
    "    if(i != -1):\n",
    "        selected_faces[3] += 1\n",
    "print(selected_faces[55498])"
   ]
  },
  {
   "cell_type": "code",
   "execution_count": null,
   "metadata": {},
   "outputs": [],
   "source": [
    "# show ravines (very nice)\n",
    "ravines(RAVINES, verts, faces)"
   ]
  },
  {
   "cell_type": "code",
   "execution_count": null,
   "metadata": {},
   "outputs": [],
   "source": [
    "# show entire mesh (no nothing)\n",
    "p = mp.plot(verts, faces, return_plot=True)"
   ]
  },
  {
   "cell_type": "code",
   "execution_count": 52,
   "metadata": {},
   "outputs": [
    {
     "name": "stdout",
     "output_type": "stream",
     "text": [
      "Plot saved to file FeatureLines_tbk_crop_230328_depth=12_correctNormals_crop_2_neighbor=6.html.\n"
     ]
    }
   ],
   "source": [
    "# Save\n",
    "p.save(\"FeatureLines_\" + MESHNAME + \"_neighbor=\" + str(NEIGHBOR))"
   ]
  },
  {
   "cell_type": "code",
   "execution_count": 103,
   "metadata": {},
   "outputs": [
    {
     "name": "stdout",
     "output_type": "stream",
     "text": [
      "Writing PLY: [========================================] 100%\n"
     ]
    },
    {
     "data": {
      "text/plain": [
       "True"
      ]
     },
     "execution_count": 103,
     "metadata": {},
     "output_type": "execute_result"
    }
   ],
   "source": [
    "# Reference: \n",
    "# http://www.open3d.org/docs/0.11.1/tutorial/visualization/visualization.html\n",
    "(V, N, E, vertices, connected_cmp, edges) = RawData(RAVINES)\n",
    "points = vertices[:,:3]\n",
    "lines = edges[:,:2]\n",
    "colors = [[1, 0, 0] for i in range(E)]\n",
    "line_set = o3d.geometry.LineSet(\n",
    "    points=o3d.utility.Vector3dVector(points),\n",
    "    lines=o3d.utility.Vector2iVector(lines),\n",
    ")\n",
    "line_set.colors = o3d.utility.Vector3dVector(colors)\n",
    "o3d.io.write_line_set(RAVINES + PLY, line_set, print_progress=True)\n",
    "#test"
   ]
  },
  {
   "cell_type": "code",
   "execution_count": null,
   "metadata": {},
   "outputs": [],
   "source": [
    "# all feature lines\n",
    "show(RIDGES, RAVINES, verts, faces)\n",
    "# just show ridges (not very useful)\n",
    "ridges(RIDGES, verts, faces)"
   ]
  }
 ],
 "metadata": {
  "kernelspec": {
   "display_name": "base",
   "language": "python",
   "name": "python3"
  },
  "language_info": {
   "codemirror_mode": {
    "name": "ipython",
    "version": 3
   },
   "file_extension": ".py",
   "mimetype": "text/x-python",
   "name": "python",
   "nbconvert_exporter": "python",
   "pygments_lexer": "ipython3",
   "version": "3.9.13"
  },
  "orig_nbformat": 4,
  "vscode": {
   "interpreter": {
    "hash": "965bd926a585e7a707780cf489a5aa234b5edeb61e436163a73c6bef09da54c9"
   }
  }
 },
 "nbformat": 4,
 "nbformat_minor": 2
}
