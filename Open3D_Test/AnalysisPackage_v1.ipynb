{
 "cells": [
  {
   "attachments": {},
   "cell_type": "markdown",
   "metadata": {},
   "source": [
    "# This is Version 1 of our visualization tool\n",
    "I use the following code to display feature lines (detected by CrestCODE based on curvature)"
   ]
  },
  {
   "cell_type": "code",
   "execution_count": 1,
   "metadata": {},
   "outputs": [],
   "source": [
    "import os\n",
    "import numpy as np\n",
    "import open3d as o3d\n",
    "import igl\n",
    "import meshplot as mp"
   ]
  },
  {
   "cell_type": "code",
   "execution_count": 153,
   "metadata": {},
   "outputs": [],
   "source": [
    "# extensions\n",
    "PLY = \".ply\"\n",
    "TXT = \".txt\"\n",
    "# utility\n",
    "NEIGHBOR = 6\n",
    "MESHNAME = \"StrongFeatureTester\"\n",
    "MESHFILE = \"../Open3D_Test/\" + MESHNAME + PLY\n",
    "PSEUDO_PLY2 = \"ply2\" + TXT\n",
    "NEWLINE = '\\n'\n",
    "MAX_neighbor = 6\n",
    "CRESTLINE = 1 # 0 means NO Crest line, 1 means YES Crest line\n",
    "# renaming CrestCode output!\n",
    "RIDGES = \"Ridge_\" + \"k=\" + str(NEIGHBOR) + \"_\" + MESHNAME + TXT\n",
    "RAVINES = \"Ravine_\" + \"k=\" + str(NEIGHBOR) + \"_\" + MESHNAME + TXT\n",
    "OUTPUT_rename = \"Output_\" + \"k=\" + str(NEIGHBOR) + \"_\" + MESHNAME + TXT\n",
    "PLY2_rename = \"PLY2_\" + \"k=\" + str(NEIGHBOR) + \"_\" + MESHNAME + TXT"
   ]
  },
  {
   "cell_type": "code",
   "execution_count": 128,
   "metadata": {},
   "outputs": [],
   "source": [
    "\"\"\"Functions: for raw .ply input!\"\"\"\n",
    "# input: mesh file (path)\n",
    "# output1: vertices (N, 3) array; x y z coordinates\n",
    "# output2: faces (F, 3) array, format: [a id, b id, c id]\n",
    "def get_mesh(path):\n",
    "    mesh = o3d.io.read_triangle_mesh(MESHFILE)\n",
    "    print(mesh)\n",
    "    verts = np.asarray(mesh.vertices)\n",
    "    faces = np.asarray(mesh.triangles)\n",
    "    return verts, faces\n",
    "# input: output file name, neighbor (k), crestline (1 = yes, 0 = no), vertices (array), faces (array)\n",
    "# does: txt file <- for CrestCODE\n",
    "def to_pseudo_PLY2(name, neighbor, crestline, verts, faces):\n",
    "    NEWLINE = '\\n'\n",
    "    verts_count = len(verts)\n",
    "    faces_count = len(faces)\n",
    "    with open(name, 'w') as f:\n",
    "        f.write(str(verts_count) + NEWLINE)\n",
    "        f.write(str(faces_count) + NEWLINE)\n",
    "        f.write(str(neighbor) + NEWLINE)\n",
    "        f.write(str(crestline) + NEWLINE)\n",
    "        for i in range(verts_count): # all vertices x y z coordinates\n",
    "            f.write(\" \".join(map(str, verts[i])) + NEWLINE)\n",
    "        for j in range(faces_count): # all faces a b c vertices ids\n",
    "            f.write(\" \".join(map(str, faces[j])) + NEWLINE)\n",
    "    print(f\"Success: {PSEUDO_PLY2}\")"
   ]
  },
  {
   "cell_type": "code",
   "execution_count": 154,
   "metadata": {},
   "outputs": [
    {
     "name": "stdout",
     "output_type": "stream",
     "text": [
      "TriangleMesh with 32104 points and 63500 triangles.\n",
      "Success: ply2.txt\n"
     ]
    }
   ],
   "source": [
    "mesh_verts, mesh_faces = get_mesh(MESHFILE)\n",
    "to_pseudo_PLY2(PSEUDO_PLY2, NEIGHBOR, CRESTLINE, mesh_verts, mesh_faces)"
   ]
  },
  {
   "attachments": {},
   "cell_type": "markdown",
   "metadata": {},
   "source": [
    "# BOOM! You ran CrestCODE and got your .txt outputs!\n",
    "<br>You ran command in the CrestCODE folder (through Terminal) and got .txt files for: output, ravines, ridges\n",
    ">the input: ./setCurvature ply2.txt output.txt\n",
    "><br>Note that 'ply2.txt' corresponds to (the value of) PSEUDO_PLY2\n",
    "\n",
    "<br>The .txt show up in the CrestCODE folder\n",
    "<br>You moved those files Back to Open3D_Test!"
   ]
  },
  {
   "cell_type": "code",
   "execution_count": 155,
   "metadata": {},
   "outputs": [],
   "source": [
    "#cleaning up!\n",
    "os.rename(\"ridges.txt\", RIDGES)\n",
    "os.rename(\"ravines.txt\", RAVINES)\n",
    "os.rename(\"output.txt\", OUTPUT_rename)\n",
    "os.rename(\"ply2.txt\", PLY2_rename)"
   ]
  },
  {
   "cell_type": "code",
   "execution_count": 134,
   "metadata": {},
   "outputs": [],
   "source": [
    "\"\"\"Functions: for CrestCODE output\"\"\"\n",
    "# get data from Ridges.txt OR Ravines.txt\n",
    "# input: meshfile name, mesh vertices, mesh faces\n",
    "# output1: crest line vertices (V, 4) array, format: [x coordinate, y coordinate, z coordinate, connected component]\n",
    "# output2: connected components (N, 3) array, format: [Ridgeness, Sphericalness, Cyclideness]\n",
    "# output3: crest line edges (E, 3) array, format: [u vertex index, v vertex index, triangle ID]\n",
    "def ReadCrestLine(filename):\n",
    "    f = open(filename, 'r')\n",
    "    V = int(f.readline())\n",
    "    E = int(f.readline())\n",
    "    N = int(f.readline()) # num of connected components;\n",
    "    crestline_vertices = np.zeros(shape = (V, 4)) # crest line vertices\n",
    "    for i in range(V): \n",
    "        line = f.readline()\n",
    "        crestline_vertices[i] = [float(n) for n in line.split()]\n",
    "    crestline_connected_cmp = np.zeros(shape = (N, 3)) # index = connected cmp ID\n",
    "    for j in range(N):\n",
    "        line = f.readline()\n",
    "        crestline_connected_cmp[j] = [float(n) for n in line.split()]\n",
    "    # edges (u,v): [vtx ID of u, vtx ID of v, triangle ID]\n",
    "    crestline_edges = np.zeros(shape = (E, 3), dtype=int) # index = edge ID\n",
    "    for k in range(E):\n",
    "        line = f.readline()\n",
    "        crestline_edges[k] = [n for n in line.split()]\n",
    "    return V, crestline_vertices, E, crestline_edges, N, crestline_connected_cmp\n",
    "# input1: crestline edges (E, 3) array, format: [u vertex index, v vertex index, triangle ID],\n",
    "# input2: crestline vertices (V, 4) array, format: [x coordinate, y coordinate, z coordinate, connected component]\n",
    "# output1: vertex U (E, 3) array, format: [x coordinate, y coordinate, z coordinate]\n",
    "# output2: vertex V (E, 3) array, format: [x coordinate, y coordinate, z coordinate]\n",
    "# edge E[i] = (U[i], V[i])\n",
    "def getVertex_Pairs(crestline_edges, crestline_vertices):\n",
    "    E = len(crestline_edges)\n",
    "    V = len(crestline_vertices)\n",
    "    U = np.zeros(shape=(E, 3))\n",
    "    V = np.zeros(shape=(E, 3))\n",
    "    U = np.zeros(shape = (E, 3))\n",
    "    V = np.zeros(shape = (E, 3))\n",
    "    for i in range(E): # use crestline_edges to find vertex index, only take first 3 numbers\n",
    "        # if E[i] = a b c, this means that E[i] = (U[a], v[b])\n",
    "        U[i] = crestline_vertices[crestline_edges[i][0]][0:3]\n",
    "        V[i] = crestline_vertices[crestline_edges[i][1]][0:3]\n",
    "    return U, V # can feed directly into meshplot :)\n",
    "# input1: crestline edges (E, 3) array, format: [u vertex index, v vertex index, triangle ID],\n",
    "# input2: faces frequency (F, max(k)) array, format: [face_id, frequency] <- by reference, exists outside this function\n",
    "# input3: neighbor (k)\n",
    "# does: add frequency values to: faces frequency array, in the column corresponding to k\n",
    "def getTriangles(crestline_edges, faces_frequency, neighbor):\n",
    "    # to find faces we want, we need to check edges!\n",
    "    column = neighbor - 1\n",
    "    E = len(crestline_edges)\n",
    "    for e in range(E):\n",
    "        face_id = crestline_edges[e][2]\n",
    "        if(face_id != -1):\n",
    "            faces_frequency[face_id][column] += 1    \n",
    "# input: faces_frequency (F, max(k)) array, format: [face_id, frequency] <- by reference, exists outside this function\n",
    "# output: faces_color_crestline (F, 3) array, format: [R, G, B], where each in [0, 1] float\n",
    "def colorize_by_strength(faces_frequency):\n",
    "    faces_frequency_total = np.sum(faces_frequency, axis=1)\n",
    "    faces_color_crestline = np.ones(shape=(len(mesh_faces), 3))\n",
    "    max_frequency = np.max(faces_frequency_total)\n",
    "    for f in range(len(mesh_faces)):\n",
    "        subtract = faces_frequency_total[f]/max_frequency\n",
    "        faces_color_crestline[f][0] -= subtract\n",
    "    return faces_color_crestline"
   ]
  },
  {
   "attachments": {},
   "cell_type": "markdown",
   "metadata": {},
   "source": [
    "## **Visualization**\n"
   ]
  },
  {
   "cell_type": "code",
   "execution_count": 135,
   "metadata": {},
   "outputs": [],
   "source": [
    "\"\"\"run ONCE\"\"\"\n",
    "faces_frequency = np.zeros(shape=(len(mesh_faces), 6))"
   ]
  },
  {
   "cell_type": "code",
   "execution_count": 156,
   "metadata": {},
   "outputs": [
    {
     "data": {
      "application/vnd.jupyter.widget-view+json": {
       "model_id": "201bd6a2a5c14e59838eeeda3893c21d",
       "version_major": 2,
       "version_minor": 0
      },
      "text/plain": [
       "Renderer(camera=PerspectiveCamera(children=(DirectionalLight(color='white', intensity=0.6, position=(1.6551961…"
      ]
     },
     "metadata": {},
     "output_type": "display_data"
    }
   ],
   "source": [
    "V, crestline_vertices, E, crestline_edges, N, crestline_connected_cmp = ReadCrestLine(filename=RAVINES)\n",
    "U, V = getVertex_Pairs(crestline_edges=crestline_edges, crestline_vertices=crestline_vertices)\n",
    "getTriangles(crestline_edges=crestline_edges, faces_frequency=faces_frequency, neighbor=NEIGHBOR)\n",
    "faces_color_crestline = colorize_by_strength(faces_frequency=faces_frequency)\n",
    "p = mp.plot(v=mesh_verts, f=mesh_faces, c=faces_color_crestline)\n",
    "# p.add_lines(U, V, shading={\"line_color\": \"red\", \"line_width\": 100.0})\n",
    "# p.save(\"TEST_Ravine_\" + MESHNAME)\n"
   ]
  },
  {
   "cell_type": "code",
   "execution_count": 175,
   "metadata": {},
   "outputs": [
    {
     "name": "stdout",
     "output_type": "stream",
     "text": [
      "Plot saved to file frequency_monotonic.html.\n"
     ]
    }
   ],
   "source": [
    "p.save(filename=\"frequency_monotonic\")"
   ]
  },
  {
   "cell_type": "code",
   "execution_count": 187,
   "metadata": {},
   "outputs": [
    {
     "data": {
      "application/vnd.jupyter.widget-view+json": {
       "model_id": "cbe40964aa6549378a2c726092198341",
       "version_major": 2,
       "version_minor": 0
      },
      "text/plain": [
       "Renderer(camera=PerspectiveCamera(children=(DirectionalLight(color='white', intensity=0.6, position=(1.6551961…"
      ]
     },
     "metadata": {},
     "output_type": "display_data"
    }
   ],
   "source": [
    "# input1: maximum neighbor (k)\n",
    "# input2: mesh_faces (F, 3) array\n",
    "# output: faces_frequency (F, max(k)) array, \n",
    "#   format: faces_frequency[i][j] = 1 means ith face contains crestlines for neighbor = j; 0 otherwise\n",
    "def read_ravine_multiple(max_neighbor, mesh_faces):\n",
    "    faces_freq = np.zeros(shape=(len(mesh_faces), max_neighbor))\n",
    "    for n in range(1, max_neighbor):\n",
    "        filename = RAVINES = \"Ravine_\" + \"k=\" + str(n) + \"_\" + MESHNAME + TXT\n",
    "        V, crestline_vertices, E, crestline_edges, N, crestline_connected_cmp = ReadCrestLine(filename=RAVINES)\n",
    "        getTriangles(crestline_edges=crestline_edges, faces_frequency=faces_freq, neighbor=NEIGHBOR)\n",
    "    return faces_freq\n",
    "# input: faces_frequency (F, max(k)) array\n",
    "# output: faces_colorful_crestline (F, 3) array, format: [R, G, B], where each in [0, 1] float\n",
    "#   [small, 1, 1] = turquoise\n",
    "#   [1, small, 1] = purple\n",
    "#   [1, 1, small] = yellow\n",
    "#   [1, small, small] = red\n",
    "#   [small, small, 1] = blue\n",
    "#   [small, 1, small] = green\n",
    "colors = {\n",
    "    '1': np.array([1.0, 0.1, 1.0]), # purple\n",
    "    '2': np.array([0.1, 1.0, 0.1]), # turquoise\n",
    "    '3': np.array([0.1, 0.1, 1.0]), # blue\n",
    "    '4': np.array([0.1, 1.0, 0.1]), # green\n",
    "    '5': np.array([1.0, 1.0, 0.1]), # yellow\n",
    "    '6': np.array([1.0, 0.1, 0.1]), # red\n",
    "    'threshold': np.array([0, 0, 0]) # black\n",
    "    }\n",
    "def colorful_by_strength(freq):\n",
    "    tally = np.sum(freq, axis=1)\n",
    "    faces_color = np.ones(shape=(len(freq), 3))\n",
    "    for f in range(len(freq)):\n",
    "        if(tally[f] == 6):\n",
    "            faces_color[f] = colors['6']\n",
    "        elif(tally[f] == 5):\n",
    "            faces_color[f] = colors['5']\n",
    "        elif(tally[f] == 4):\n",
    "            faces_color[f] = colors['4']\n",
    "        elif(tally[f] == 3):\n",
    "            faces_color[f] = colors['3']\n",
    "        elif(tally[f] == 2):\n",
    "            faces_color[f] = colors['2']\n",
    "        elif(tally[f] == 1):\n",
    "            faces_color[f] = colors['1']\n",
    "        else:\n",
    "            faces_color[f] = np.ones(3)\n",
    "    return faces_color\n",
    "# input1: faces_frequency (F, max(k)) array\n",
    "# input2: threshold\n",
    "# output: strongest_color (F, 3) array, format: [R, G, B], where each in [0, 1] float\n",
    "#   ONLY keep color of \n",
    "def colorful_by_strongest(freq_, threshold):\n",
    "    tally = np.sum(freq_, axis=1)\n",
    "    faces_color = np.ones(shape=(len(freq), 3))\n",
    "    for f in range(len(freq)):\n",
    "        if(tally[f] >= threshold):\n",
    "            faces_color[f] = colors['threshold']\n",
    "        else:\n",
    "            faces_color[f] = np.ones(3)\n",
    "    return faces_color\n",
    "freq = read_ravine_multiple(max_neighbor=MAX_neighbor, mesh_faces=mesh_faces)\n",
    "colorful = colorful_by_strength(freq=freq)\n",
    "color_threshold = colorful_by_strongest(freq_=freq, threshold=5)\n",
    "q = mp.plot(v=mesh_verts, f=mesh_faces, c=color_threshold)"
   ]
  },
  {
   "cell_type": "code",
   "execution_count": 188,
   "metadata": {},
   "outputs": [
    {
     "name": "stdout",
     "output_type": "stream",
     "text": [
      "Plot saved to file frequency_colorful_threshold=5.html.\n"
     ]
    }
   ],
   "source": [
    "q.save(filename=\"frequency_colorful_threshold=5\")"
   ]
  },
  {
   "cell_type": "code",
   "execution_count": 200,
   "metadata": {},
   "outputs": [
    {
     "name": "stdout",
     "output_type": "stream",
     "text": [
      "[[0. 1. 2. 0.]]\n"
     ]
    }
   ],
   "source": [
    "\"\"\"#Example# get: faces; from: face index\"\"\"\n",
    "F = np.asarray([0,1,2])\n",
    "G = np.zeros(shape=(1,4))\n",
    "G[:,0:3] = F\n",
    "print(G)\n",
    "# got: \n",
    "# [edge_u_index, edge_v_index, face_index] <- edges\n",
    "# [a_index, b_index, c_index] @ face_index\n",
    "# [x, y, z] @ a_index\n",
    "# want:\n",
    "# select faces by index\n",
    "# tally appearance count for ea face"
   ]
  },
  {
   "cell_type": "code",
   "execution_count": 198,
   "metadata": {},
   "outputs": [
    {
     "name": "stdout",
     "output_type": "stream",
     "text": [
      "[7 8]\n",
      "[[5. 6.]]\n",
      "[[7. 8.]]\n"
     ]
    }
   ],
   "source": [
    "\"\"\"#Example# get: vertices; from: vertex index\"\"\"\n",
    "A = np.asarray([[0, 1, 2]]) # edges, form: (u index, v index)\n",
    "B = np.asarray([[5,6,0],[7,8,0],[9,10,0]]) # verts, form: (x, y, z)\n",
    "# want: C = [5,6], D = [7,8] <- selected verts by indices; indices from edges\n",
    "C = np.zeros(shape=(A.shape[0],2))\n",
    "D = np.zeros(shape=(A.shape[0],2))\n",
    "for i in range(len(A)):\n",
    "    C[i] = B[A[i][0]][0:2]\n",
    "    D[i] = B[A[i][1]][0:2]\n",
    "print(B[1][0:2])\n",
    "print(C)\n",
    "print(D)"
   ]
  },
  {
   "cell_type": "code",
   "execution_count": 138,
   "metadata": {},
   "outputs": [
    {
     "data": {
      "text/plain": [
       "array([14., 13.,  3.,  0.])"
      ]
     },
     "execution_count": 138,
     "metadata": {},
     "output_type": "execute_result"
    }
   ],
   "source": [
    "(V, N, E, CL_vertices, connected_cmp, edges) = RawData(RAVINES)\n",
    "selected_faces = np.zeros((faces.shape[0],4))\n",
    "selected_faces[:,0:3] = faces\n",
    "selected_faces[1]\n",
    "\n"
   ]
  },
  {
   "cell_type": "code",
   "execution_count": 135,
   "metadata": {},
   "outputs": [
    {
     "name": "stdout",
     "output_type": "stream",
     "text": [
      "[28474. 28472. 24778.     0.]\n"
     ]
    }
   ],
   "source": [
    "triangle_indices = edges[:,2]\n",
    "for i in range(len(triangle_indices)):\n",
    "    if(i != -1):\n",
    "        selected_faces[3] += 1\n",
    "print(selected_faces[55498])"
   ]
  },
  {
   "cell_type": "code",
   "execution_count": null,
   "metadata": {},
   "outputs": [],
   "source": [
    "# show ravines (very nice)\n",
    "ravines(RAVINES, verts, faces)"
   ]
  },
  {
   "cell_type": "code",
   "execution_count": null,
   "metadata": {},
   "outputs": [],
   "source": [
    "# show entire mesh (no nothing)\n",
    "p = mp.plot(verts, faces, return_plot=True)"
   ]
  },
  {
   "cell_type": "code",
   "execution_count": 52,
   "metadata": {},
   "outputs": [
    {
     "name": "stdout",
     "output_type": "stream",
     "text": [
      "Plot saved to file FeatureLines_tbk_crop_230328_depth=12_correctNormals_crop_2_neighbor=6.html.\n"
     ]
    }
   ],
   "source": [
    "# Save\n",
    "p.save(\"FeatureLines_\" + MESHNAME + \"_neighbor=\" + str(NEIGHBOR))"
   ]
  },
  {
   "cell_type": "code",
   "execution_count": 103,
   "metadata": {},
   "outputs": [
    {
     "name": "stdout",
     "output_type": "stream",
     "text": [
      "Writing PLY: [========================================] 100%\n"
     ]
    },
    {
     "data": {
      "text/plain": [
       "True"
      ]
     },
     "execution_count": 103,
     "metadata": {},
     "output_type": "execute_result"
    }
   ],
   "source": [
    "# Reference: \n",
    "# http://www.open3d.org/docs/0.11.1/tutorial/visualization/visualization.html\n",
    "(V, N, E, vertices, connected_cmp, edges) = RawData(RAVINES)\n",
    "points = vertices[:,:3]\n",
    "lines = edges[:,:2]\n",
    "colors = [[1, 0, 0] for i in range(E)]\n",
    "line_set = o3d.geometry.LineSet(\n",
    "    points=o3d.utility.Vector3dVector(points),\n",
    "    lines=o3d.utility.Vector2iVector(lines),\n",
    ")\n",
    "line_set.colors = o3d.utility.Vector3dVector(colors)\n",
    "o3d.io.write_line_set(RAVINES + PLY, line_set, print_progress=True)\n",
    "#test"
   ]
  },
  {
   "cell_type": "code",
   "execution_count": null,
   "metadata": {},
   "outputs": [],
   "source": [
    "# all feature lines\n",
    "show(RIDGES, RAVINES, verts, faces)\n",
    "# just show ridges (not very useful)\n",
    "ridges(RIDGES, verts, faces)"
   ]
  }
 ],
 "metadata": {
  "kernelspec": {
   "display_name": "base",
   "language": "python",
   "name": "python3"
  },
  "language_info": {
   "codemirror_mode": {
    "name": "ipython",
    "version": 3
   },
   "file_extension": ".py",
   "mimetype": "text/x-python",
   "name": "python",
   "nbconvert_exporter": "python",
   "pygments_lexer": "ipython3",
   "version": "3.9.13"
  },
  "orig_nbformat": 4,
  "vscode": {
   "interpreter": {
    "hash": "965bd926a585e7a707780cf489a5aa234b5edeb61e436163a73c6bef09da54c9"
   }
  }
 },
 "nbformat": 4,
 "nbformat_minor": 2
}
