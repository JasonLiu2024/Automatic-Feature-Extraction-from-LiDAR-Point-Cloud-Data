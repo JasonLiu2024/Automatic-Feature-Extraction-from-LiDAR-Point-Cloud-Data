{
 "cells": [
  {
   "attachments": {},
   "cell_type": "markdown",
   "metadata": {},
   "source": [
    "# This is Version 1 of our visualization tool\n",
    "I use the following code to display feature lines (detected by CrestCODE based on curvature)"
   ]
  },
  {
   "cell_type": "code",
   "execution_count": 18,
   "metadata": {},
   "outputs": [],
   "source": [
    "import os\n",
    "import numpy as np\n",
    "import open3d as o3d\n",
    "import igl\n",
    "import meshplot as mp"
   ]
  },
  {
   "cell_type": "code",
   "execution_count": 82,
   "metadata": {},
   "outputs": [],
   "source": [
    "MESHNAME = \"tbk_crop_230328_depth=12_correctNormals_crop_1\"\n",
    "MESHFILE = \"../Open3D_Test/\" + MESHNAME + \".ply\"\n",
    "PSEUDO_PLY2 = 'ply2.txt'\n",
    "NEWLINE = '\\n'\n",
    "NEIGHBOR = 6\n",
    "CRESTLINE = 1 # 0 means NO Crest line, 1 means YES Crest line\n",
    "TXT = \".txt\"\n",
    "RIDGES = \"Ridge_\" + MESHNAME + TXT\n",
    "RAVINES = \"Ravine_\" + MESHNAME + TXT\n",
    "OUTPUT_rename = \"Output_\" + MESHNAME + TXT\n",
    "PLY2_rename = \"PLY2_\" + MESHNAME + TXT\n",
    "PLY = \".ply\""
   ]
  },
  {
   "cell_type": "code",
   "execution_count": 42,
   "metadata": {},
   "outputs": [],
   "source": [
    "# read in mesh file\n",
    "def get_mesh(path):\n",
    "    mesh = o3d.io.read_triangle_mesh(MESHFILE)\n",
    "    print(mesh)\n",
    "    verts = np.asarray(mesh.vertices)\n",
    "    faces = np.asarray(mesh.triangles)\n",
    "    return verts, faces\n",
    "\n",
    "# turn meshfile to Pseudo_PLY2 file\n",
    "def to_pseudo_PLY2(name, neighbor, crestline, verts, faces):\n",
    "    NEWLINE = '\\n'\n",
    "    verts_count = len(verts)\n",
    "    faces_count = len(faces)\n",
    "    with open(name, 'w') as f:\n",
    "        # num vertices\n",
    "        f.write(str(verts_count) + NEWLINE)\n",
    "        # num triangles\n",
    "        f.write(str(faces_count) + NEWLINE)\n",
    "        # neighborhood size\n",
    "        f.write(str(neighbor) + NEWLINE)\n",
    "        # Crestline Y/N\n",
    "        f.write(str(crestline) + NEWLINE)\n",
    "        # vertices (coordinates)\n",
    "        for i in range(verts_count):\n",
    "            f.write(\" \".join(map(str, verts[i])) + NEWLINE)\n",
    "        # faces (vertex IDs)\n",
    "        for j in range(faces_count):\n",
    "            f.write(\" \".join(map(str, faces[j])) + NEWLINE)\n",
    "\n",
    "# get data from Ridges.txt OR Ravines.txt\n",
    "def read_RnR(FILE):\n",
    "    f = open(FILE, 'r')\n",
    "    # num of vertices\n",
    "    V = int(f.readline())\n",
    "    # num of edges\n",
    "    E = int(f.readline())\n",
    "    # num of connected components\n",
    "    N = int(f.readline())\n",
    "    # vertices\n",
    "    \"\"\"[x, y, z, connected cmp ID]; index = vtx ID\"\"\"\n",
    "    vertices = np.zeros(shape = (V, 4))\n",
    "    for i in range(V): \n",
    "        #index = pointID\n",
    "        line = f.readline()\n",
    "        vertices[i] = [float(n) for n in line.split()]\n",
    "    \"\"\"print(\"first vtx\")\n",
    "    print(vertices[0])\n",
    "    print(\"last vtx\")\n",
    "    print(vertices[V - 1])\n",
    "    print(vertices.dtype)\"\"\"\n",
    "    # connected components\n",
    "    \"\"\"[Ridgeness, Sphericalness, Cyclideness]; index = connected cmp ID\"\"\"\n",
    "    connected_cmp = np.zeros(shape = (N, 3))\n",
    "    for j in range(N):\n",
    "        line = f.readline()\n",
    "        connected_cmp[j] = [float(n) for n in line.split()]\n",
    "    \"\"\"print(\"first connected cmp\")\n",
    "    print(connected_cmp[0])\n",
    "    print(\"last connected cmp\")\n",
    "    print(connected_cmp[N - 1])\n",
    "    print(connected_cmp.dtype)\"\"\"\n",
    "    # edges (u,v)\n",
    "    \"\"\"[vtx ID of u, vtx ID of v, triangle ID]; index = edge ID\"\"\"\n",
    "    edges = np.zeros(shape = (E, 3), dtype=int)\n",
    "    for k in range(E):\n",
    "        line = f.readline()\n",
    "        edges[k] = [n for n in line.split()]\n",
    "    \"\"\"print(\"first edge\")\n",
    "    print(edges[0])\n",
    "    print(\"last edge:\")\n",
    "    print(edges[E - 1])\n",
    "    print(edges.dtype)\"\"\"\n",
    "    return (E, vertices, edges)\n",
    "\n",
    "# get vtx pair for Crest Line edges!\n",
    "def preprop_RnR(tuple):\n",
    "    S = np.zeros(shape = (tuple[0], 3))\n",
    "    T = np.zeros(shape = (tuple[0], 3))\n",
    "    for i in range(tuple[0]):\n",
    "        S[i] = tuple[1][tuple[2][i, 0]][0:3]\n",
    "        T[i] = tuple[1][tuple[2][i, 1]][0:3]\n",
    "    return S, T\n",
    "\n",
    "def show(ridges, ravines, verts, faces):\n",
    "    p = mp.plot(verts, faces, return_plot=True)\n",
    "    RI_S, RI_T = preprop_RnR(read_RnR(ridges))\n",
    "    p.add_lines(RI_S, RI_T, shading={\"line_color\": \"red\", \"line_width\": 10.0})\n",
    "    RA_S, RA_T = preprop_RnR(read_RnR(ravines))\n",
    "    p.add_lines(RA_S, RA_T, shading={\"line_color\": \"blue\", \"line_width\": 10.0})\n",
    "    p.save(\"Ridge&Ravine_\" + MESHNAME)\n",
    "\n",
    "def ridges(ridges, verts, faces):\n",
    "    p = mp.plot(verts, faces, return_plot=True)\n",
    "    RI_S, RI_T = preprop_RnR(read_RnR(ridges))\n",
    "    p.add_lines(RI_S, RI_T, shading={\"line_color\": \"red\", \"line_width\": 10.0})\n",
    "    p.save(\"Ridge_\" + MESHNAME)\n",
    "\n",
    "def ravines(ravines, verts, faces):\n",
    "    p = mp.plot(verts, faces, return_plot=True)\n",
    "    RA_S, RA_T = preprop_RnR(read_RnR(ravines))\n",
    "    p.add_lines(RA_S, RA_T, shading={\"line_color\": \"blue\", \"line_width\": 10.0})\n",
    "    p.save(\"Ravine_\" + MESHNAME)"
   ]
  },
  {
   "cell_type": "code",
   "execution_count": 43,
   "metadata": {},
   "outputs": [
    {
     "name": "stdout",
     "output_type": "stream",
     "text": [
      "TriangleMesh with 183375 points and 364868 triangles.\n"
     ]
    }
   ],
   "source": [
    "verts, faces = get_mesh(MESHFILE)"
   ]
  },
  {
   "cell_type": "code",
   "execution_count": 44,
   "metadata": {},
   "outputs": [],
   "source": [
    "to_pseudo_PLY2(PSEUDO_PLY2, NEIGHBOR, CRESTLINE, verts, faces)"
   ]
  },
  {
   "attachments": {},
   "cell_type": "markdown",
   "metadata": {},
   "source": [
    "# BOOM! You ran CrestCODE and got your .txt outputs!\n",
    "<br>You ran command in the CrestCODE folder (through Terminal) and got .txt files for: output, ravines, ridges\n",
    ">the input: ./setCurvature ply2.txt output.txt\n",
    "><br>Note that 'ply2.txt' corresponds to (the value of) PSEUDO_PLY2\n",
    "\n",
    "<br>The .txt show up in the CrestCODE folder\n",
    "<br>You moved those files Back to Open3D_Test!"
   ]
  },
  {
   "cell_type": "code",
   "execution_count": 45,
   "metadata": {},
   "outputs": [],
   "source": [
    "#cleaning up!\n",
    "os.rename(\"ridges.txt\", RIDGES)\n",
    "os.rename(\"ravines.txt\", RAVINES)\n",
    "os.rename(\"output.txt\", OUTPUT_rename)\n",
    "os.rename(\"ply2.txt\", PLY2_rename)"
   ]
  },
  {
   "cell_type": "code",
   "execution_count": null,
   "metadata": {},
   "outputs": [],
   "source": [
    "# all feature lines\n",
    "show(RIDGES, RAVINES, verts, faces)"
   ]
  },
  {
   "cell_type": "code",
   "execution_count": null,
   "metadata": {},
   "outputs": [],
   "source": [
    "# just show ridges (not very useful)\n",
    "ridges(RIDGES, verts, faces)"
   ]
  },
  {
   "cell_type": "code",
   "execution_count": null,
   "metadata": {},
   "outputs": [],
   "source": [
    "# show ravines (very nice)\n",
    "ravines(RAVINES, verts, faces)"
   ]
  },
  {
   "cell_type": "code",
   "execution_count": null,
   "metadata": {},
   "outputs": [],
   "source": [
    "# show entire mesh (no nothing)\n",
    "p = mp.plot(verts, faces, return_plot=True)"
   ]
  },
  {
   "cell_type": "code",
   "execution_count": 52,
   "metadata": {},
   "outputs": [
    {
     "name": "stdout",
     "output_type": "stream",
     "text": [
      "Plot saved to file FeatureLines_tbk_crop_230328_depth=12_correctNormals_crop_2_neighbor=6.html.\n"
     ]
    }
   ],
   "source": [
    "# Save\n",
    "p.save(\"FeatureLines_\" + MESHNAME + \"_neighbor=\" + str(NEIGHBOR))"
   ]
  },
  {
   "cell_type": "code",
   "execution_count": 83,
   "metadata": {},
   "outputs": [
    {
     "name": "stdout",
     "output_type": "stream",
     "text": [
      "Writing PLY: [========================================] 100%\n"
     ]
    },
    {
     "data": {
      "text/plain": [
       "True"
      ]
     },
     "execution_count": 83,
     "metadata": {},
     "output_type": "execute_result"
    }
   ],
   "source": [
    "# Reference: \n",
    "# http://www.open3d.org/docs/0.11.1/tutorial/visualization/visualization.html\n",
    "(edge_ct, edge_vertices, edge_indices) = read_RnR(RAVINES)\n",
    "points = edge_vertices[:,:3]\n",
    "lines = edge_indices[:,:2]\n",
    "colors = [[1, 0, 0] for i in range(edge_ct)]\n",
    "line_set = o3d.geometry.LineSet(\n",
    "    points=o3d.utility.Vector3dVector(points),\n",
    "    lines=o3d.utility.Vector2iVector(lines),\n",
    ")\n",
    "line_set.colors = o3d.utility.Vector3dVector(colors)\n",
    "o3d.io.write_line_set(RAVINES + PLY, line_set, print_progress=True)\n",
    "#test"
   ]
  }
 ],
 "metadata": {
  "kernelspec": {
   "display_name": "base",
   "language": "python",
   "name": "python3"
  },
  "language_info": {
   "codemirror_mode": {
    "name": "ipython",
    "version": 3
   },
   "file_extension": ".py",
   "mimetype": "text/x-python",
   "name": "python",
   "nbconvert_exporter": "python",
   "pygments_lexer": "ipython3",
   "version": "3.9.13"
  },
  "orig_nbformat": 4,
  "vscode": {
   "interpreter": {
    "hash": "965bd926a585e7a707780cf489a5aa234b5edeb61e436163a73c6bef09da54c9"
   }
  }
 },
 "nbformat": 4,
 "nbformat_minor": 2
}
