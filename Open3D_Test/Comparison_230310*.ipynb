{
 "cells": [
  {
   "attachments": {},
   "cell_type": "markdown",
   "metadata": {},
   "source": [
    "# Comparing CrestCODE output at different scales to identify feature loss\n",
    ">In this report, I compare CrestCODE's output for the same meshes, reconstructed from point cloud at different scales. \n",
    "><br>From this comparison, I aim to identify whether some feature is loss when we 'zoom out' to include a larger area in our analysis."
   ]
  },
  {
   "attachments": {},
   "cell_type": "markdown",
   "metadata": {},
   "source": [
    "## I compare Region A and Region B \n",
    ">Region A: the entirety of the archeological site of interest; reconstructed at path = 10\n",
    "<table>\n",
    "<tr>\n",
    "    <td style=\"width: 480px;\"><img src=\"../Open3D_Test/Phase_2_EntireRegion/Comparison_230310/v4_path=10_k=3_base.png\"/></td>\n",
    "</tr>\n",
    "</table>\n",
    "<br>\n",
    "\n",
    ">Region B: a small part of Region A; reconstructed at path = 8\n",
    "<table>\n",
    "<tr>\n",
    "    <td style = \"text_aligh:left\">Location, relative to Region A (grey box)</td>\n",
    "    <td style = \"text_aligh:left\">Top view, Orthogonal</td>\n",
    "    <td style = \"text_aligh:left\">Rotated, Orthogonal (to show features)</td>\n",
    "</tr>\n",
    "<tr>\n",
    "    <td style=\"width: 240px;\"><img src=\"../Open3D_Test/Phase_2_EntireRegion/Comparison_230310/where.png\"/></td>\n",
    "    <td style=\"width: 240px;\"><img src=\"../Open3D_Test/Phase_2_EntireRegion/Comparison_230310/region_B.png\"/></td>\n",
    "    <td style=\"width: 240px;\"><img src=\"../Open3D_Test/Phase_2_EntireRegion/Comparison_230310/region_B_rotated.png\"/></td>\n",
    "</tr>\n",
    "</table>"
   ]
  },
  {
   "attachments": {},
   "cell_type": "markdown",
   "metadata": {},
   "source": [
    "# Region A vs Region B, close-up CrestCODE output\n",
    ">I vary the 'k' value in CrestCODE's k-link method for curvature analysis\n",
    "\n",
    "Note: Region A images are roughly cropped out by hand, so the boundaries may not match exactly with the Region B counterparts\n",
    "<table>\n",
    "<tr>\n",
    "    <td style = \"text_aligh:left\">Region B, k=3</td>\n",
    "    <td style = \"text_aligh:left\">Region A, k=3</td>\n",
    "</tr>\n",
    "<tr>\n",
    "    <td style=\"width: 360px;\"><img src=\"../Open3D_Test/Phase_2_EntireRegion/Comparison_230310/neighbor=3.png\"/></td>\n",
    "    <td style=\"width: 360px;\"><img src=\"../Open3D_Test/Phase_2_EntireRegion/Comparison_230310/v4_path=10_k=3_lines_closeup.png\"/></td>\n",
    "</tr>\n",
    "</table>\n",
    "<table>\n",
    "<tr>\n",
    "    <td style = \"text_aligh:left\">Region B, k=6</td>\n",
    "    <td style = \"text_aligh:left\">Region A, k=6</td>\n",
    "</tr>\n",
    "<tr>\n",
    "    <td style=\"width: 360px;\"><img src=\"../Open3D_Test/Phase_2_EntireRegion/Comparison_230310/neighbor=6.png\"/></td>\n",
    "    <td style=\"width: 360px;\"><img src=\"../Open3D_Test/Phase_2_EntireRegion/Comparison_230310/v4_path=10_k=6_lines_closeup.png\"/></td>\n",
    "</tr>\n",
    "</table>"
   ]
  },
  {
   "attachments": {},
   "cell_type": "markdown",
   "metadata": {},
   "source": [
    "# Observations\n",
    "It seems that to a large extent, Region A captures all details observed in Region B. However:\n",
    "<br>1. Region A's CrestCODE output traces the contours of some features in **Less** detail \n",
    "<br>2. Region A's output is also **more continuous**"
   ]
  },
  {
   "attachments": {},
   "cell_type": "markdown",
   "metadata": {},
   "source": [
    "# Complete Region A CrestCODE output\n",
    "<table>\n",
    "<tr>\n",
    "    <td style = \"text_aligh:left\">k=3</td>\n",
    "</tr>\n",
    "<tr>\n",
    "    <td style=\"width: 720px;\"><img src=\"../Open3D_Test/Phase_2_EntireRegion/Comparison_230310/v4_path=10_k=3_lines.png\"/></td>\n",
    "</tr>\n",
    "</table>\n",
    "<br>\n",
    "<table>\n",
    "<tr>\n",
    "    <td style = \"text_aligh:left\">k=6</td>\n",
    "</tr>\n",
    "<tr>\n",
    "    <td style=\"width: 720px;\"><img src=\"../Open3D_Test/Phase_2_EntireRegion/Comparison_230310/v4_path=10_k=6_lines.png\"/></td>\n",
    "</tr>\n",
    "</table>\n",
    "<br>\n",
    "test"
   ]
  }
 ],
 "metadata": {
  "language_info": {
   "name": "python"
  },
  "orig_nbformat": 4
 },
 "nbformat": 4,
 "nbformat_minor": 2
}
