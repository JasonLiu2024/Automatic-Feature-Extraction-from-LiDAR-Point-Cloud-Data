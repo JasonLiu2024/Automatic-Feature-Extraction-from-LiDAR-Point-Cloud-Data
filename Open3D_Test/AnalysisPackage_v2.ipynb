{
 "cells": [
  {
   "cell_type": "code",
   "execution_count": 2,
   "metadata": {},
   "outputs": [],
   "source": [
    "import os\n",
    "import numpy as np\n",
    "import open3d as o3d\n",
    "import igl\n",
    "import meshplot as mp\n",
    "from matplotlib import pyplot as plt\n",
    "from matplotlib import cm\n",
    "import math\n",
    "import json"
   ]
  },
  {
   "cell_type": "code",
   "execution_count": 24,
   "metadata": {},
   "outputs": [],
   "source": [
    "\"\"\"Functions: for raw .ply input!\"\"\"\n",
    "# input: mesh file (path)\n",
    "# output1: vertices (N, 3) array; x y z coordinates\n",
    "# output2: faces (F, 3) array, format: [a id, b id, c id]\n",
    "def get_mesh(path):\n",
    "    mesh = o3d.io.read_triangle_mesh(path)\n",
    "    print(mesh)\n",
    "    verts = np.asarray(mesh.vertices)\n",
    "    faces = np.asarray(mesh.triangles)\n",
    "    return verts, faces\n",
    "# input: output file name, neighbor (k), crestline (1 = yes, 0 = no), vertices (array), faces (array)\n",
    "# does: txt file <- for CrestCODE\n",
    "def to_pseudo_PLY2(name, neighbor, verts, faces, crestline=1):\n",
    "    NEWLINE = '\\n'\n",
    "    verts_count = len(verts)\n",
    "    faces_count = len(faces)\n",
    "    with open(name, 'w') as f:\n",
    "        f.write(str(verts_count) + NEWLINE)\n",
    "        f.write(str(faces_count) + NEWLINE)\n",
    "        f.write(str(neighbor) + NEWLINE)\n",
    "        f.write(str(crestline) + NEWLINE)\n",
    "        for i in range(verts_count): # all vertices x y z coordinates\n",
    "            f.write(\" \".join(map(str, verts[i])) + NEWLINE)\n",
    "        for j in range(faces_count): # all faces a b c vertices ids\n",
    "            f.write(\" \".join(map(str, faces[j])) + NEWLINE)\n",
    "    print(f\"Success: {name}\")\n",
    "\"\"\"Functions: for CrestCODE output\"\"\"\n",
    "# get data from Ridges.txt OR Ravines.txt\n",
    "# input: meshfile name, mesh vertices, mesh faces\n",
    "# output1: crest line vertices (V, 4) array, format: [x coordinate, y coordinate, z coordinate, connected component]\n",
    "# output2: connected components (N, 3) array, format: [Ridgeness, Sphericalness, Cyclideness]\n",
    "# output3: crest line edges (E, 3) array, format: [u vertex index, v vertex index, triangle ID]\n",
    "def ReadCrestLine(filename):\n",
    "    f = open(filename, 'r')\n",
    "    V = int(f.readline())\n",
    "    E = int(f.readline())\n",
    "    N = int(f.readline()) # num of connected components;\n",
    "    crestline_vertices = np.zeros(shape = (V, 4)) # crest line vertices\n",
    "    for i in range(V): \n",
    "        line = f.readline()\n",
    "        crestline_vertices[i] = [float(n) for n in line.split()]\n",
    "    crestline_connected_cmp = np.zeros(shape = (N, 3)) # index = connected cmp ID\n",
    "    for j in range(N):\n",
    "        line = f.readline()\n",
    "        crestline_connected_cmp[j] = [float(n) for n in line.split()]\n",
    "    # edges (u,v): [vtx ID of u, vtx ID of v, triangle ID]\n",
    "    crestline_edges = np.zeros(shape = (E, 3), dtype=int) # index = edge ID\n",
    "    for k in range(E):\n",
    "        line = f.readline()\n",
    "        crestline_edges[k] = [n for n in line.split()]\n",
    "    return crestline_vertices[:,0:3], crestline_edges"
   ]
  },
  {
   "cell_type": "code",
   "execution_count": 33,
   "metadata": {},
   "outputs": [],
   "source": [
    "\"\"\"Display utility\"\"\"\n",
    "purple = np.array([1.0, 0.1, 1.0]) # purple\n",
    "turquoise = np.array([0.1, 1.0, 0.1]) # turquoise\n",
    "blue = np.array([0.1, 0.1, 1.0]) # blue\n",
    "green = np.array([0.1, 1.0, 0.1]) # green\n",
    "yellow = np.array([1.0, 1.0, 0.1]) # yellow\n",
    "red = np.array([1.0, 0.1, 0.1]) # red\n",
    "black = np.array([0, 0, 0]) # black\n",
    "def mesh_lines(vertices, faces, plot, color):\n",
    "    plot.add_lines(vertices[faces[:, 0]], \n",
    "                    vertices[faces[:, 1]], \n",
    "                    shading={\"line_color\": color})\n",
    "    plot.add_lines(vertices[faces[:, 0]], \n",
    "                    vertices[faces[:, 2]], \n",
    "                    shading={\"line_color\": color})\n",
    "    plot.add_lines(vertices[faces[:, 1]], \n",
    "                    vertices[faces[:, 2]], \n",
    "                    shading={\"line_color\": color})"
   ]
  },
  {
   "cell_type": "code",
   "execution_count": 65,
   "metadata": {},
   "outputs": [],
   "source": [
    "\"\"\"deform\"\"\"\n",
    "def Handles(mesh_vertices, mesh_faces, affected_vertex_ids, target_positions, iterations):\n",
    "    mesh = o3d.geometry.TriangleMesh(o3d.utility.Vector3dVector(mesh_vertices),\n",
    "                                 o3d.utility.Vector3iVector(mesh_faces))\n",
    "    # constraint_ids = o3d.utility.IntVector(affected_vertex_ids)\n",
    "    # constraint_pos = o3d.utility.Vector3dVector(target_positions)\n",
    "    deform = mesh.deform_as_rigid_as_possible(\n",
    "        constraint_vertex_indices=o3d.utility.IntVector(affected_vertex_ids), \n",
    "        constraint_vertex_positions=o3d.utility.Vector3dVector(target_positions), \n",
    "        max_iter=iterations)\n",
    "    return np.asarray(deform.vertices)"
   ]
  },
  {
   "cell_type": "code",
   "execution_count": 76,
   "metadata": {},
   "outputs": [],
   "source": [
    "\"\"\"flatten\"\"\"\n",
    "def write_TLC_input(filename, restVert, initVert, triangles, handles):\n",
    "\t\"\"\"write data (numpy array) as TLC program input format\"\"\"\n",
    "\twith open(filename, 'w') as file:\n",
    "\t\t# rest vertices\n",
    "\t\tnV, nDim = restVert.shape\n",
    "\t\tfile.write(f'{nV} {nDim}\\n')\n",
    "\t\tnp.savetxt(file, restVert)\n",
    "\t\t# init vertices\n",
    "\t\tnV, nDim = initVert.shape\n",
    "\t\tfile.write(f'{nV} {nDim}\\n')\n",
    "\t\tnp.savetxt(file, initVert)\n",
    "\t\t# simplex cells <- triangles\n",
    "\t\tnF, simplex_size = triangles.shape\n",
    "\t\tfile.write(f'{nF} {simplex_size}\\n')\n",
    "\t\tnp.savetxt(file, triangles, \"%d\")\n",
    "\t\t# handles\n",
    "\t\tnhdls = handles.size\n",
    "\t\tfile.write(f'{nhdls}\\n')\n",
    "\t\tnp.savetxt(file, handles, \"%d\")\n",
    "def read_TLC_result(filename):\n",
    "\t\"\"\"read TLC program results into a dictionary\"\"\"\n",
    "\tresult_dict = {}\n",
    "\twith open(filename) as file:\n",
    "\t\twhile True:\n",
    "\t\t\tline = file.readline()\n",
    "\t\t\tif line.strip() == \"\":\n",
    "\t\t\t\tbreak\n",
    "\t\t\thead = line.split()\n",
    "\t\t\tdata_name = head[0]\n",
    "\t\t\t# print(f\"data_name: {data_name}\")\n",
    "\t\t\tarray_shape = [int(i) for i in head[1:]]\n",
    "\t\t\t# print(f\"head: {head}\")\n",
    "\t\t\t# print(file)\n",
    "\t\t\t# if head[0] == \"energy\":\n",
    "\t\t\t# \tbreak\n",
    "\t\t\tdata = np.loadtxt(file, dtype=np.float64, max_rows=1)\n",
    "\t\t\tif len(array_shape) == 1:\n",
    "\t\t\t\tresult_dict[data_name] = data\n",
    "\t\t\telse:\n",
    "\t\t\t\tresult_dict[data_name] = np.reshape(data, array_shape)\n",
    "\treturn result_dict\n"
   ]
  },
  {
   "cell_type": "code",
   "execution_count": 101,
   "metadata": {},
   "outputs": [],
   "source": [
    "class crestline_mover:\n",
    "    def __init__(self, mesh_3d_vertices, mesh_faces, \n",
    "                 mesh_3d_crestlines_vertices, crestline_edges, \n",
    "                 mesh_2d_vertices, color):\n",
    "        self.mesh_3d_vertices = mesh_3d_vertices\n",
    "        self.mesh_faces = mesh_faces\n",
    "        self.mesh_3d_crestlines_vertices = mesh_3d_crestlines_vertices[:,0:3]\n",
    "        self.mesh_2d_vertices = mesh_2d_vertices\n",
    "        self.color = color\n",
    "        self.crestline_edges = crestline_edges\n",
    "        self.V = mesh_3d_vertices.shape[0]\n",
    "        self.F = mesh_faces.shape[0]\n",
    "        self.crestline_V = mesh_3d_crestlines_vertices.shape[0]\n",
    "        self.crestline_E = crestline_edges.shape[0]\n",
    "        self.mesh_2d_crestlines_vertices = self.Move_3D_vertices_to_2D() # want to find\n",
    "    def collinear(self, a, b, c):\n",
    "        # use matrix rank to determine colinearity (no work, needs exact equal)\n",
    "        # Reference: https://stackoverflow.com/questions/9608148/python-script-to-determine-if-x-y-coordinates-are-colinear\n",
    "        # -getting-some-e#:~:text=You%20can%20use%20the%20rank,i.e.%20any%20number%20of%20points).\n",
    "\n",
    "        # added tolerance\n",
    "        vector_ab = a - b\n",
    "        vector_ac = a - c\n",
    "        cross_product = np.cross(vector_ab, vector_ac)\n",
    "        edge_length_ab = np.sqrt(vector_ab.dot(vector_ab))\n",
    "        return np.sqrt(cross_product.dot(cross_product)) < edge_length_ab/10000\n",
    "    # v can be on line (a, b), (a, c), or (b, c)\n",
    "    def FindVertexIndex(self, a, b, c, a_index, b_index, c_index, v):\n",
    "        #print(f\"checking colinearity of: {a, b} and {v}\") \n",
    "        if(self.collinear(a, b, v)): \n",
    "            return a_index, b_index\n",
    "        #print(f\"checking colinearity of: {a, c} and {v}\") \n",
    "        if(self.collinear(a, c, v)): \n",
    "            return a_index, c_index\n",
    "        #print(f\"checking colinearity of: {b, c} and {v}\") \n",
    "        if(self.collinear(b, c, v)): \n",
    "            return b_index, c_index\n",
    "        #print(\"no colinearity found!\")\n",
    "    # input: mesh vertices a and b; vertex v that lies on edge (a, b)\n",
    "    # return alpha: from a to v on edge (a, b)\n",
    "    def getAlpha(self, a, b, v):\n",
    "        va = a - v\n",
    "        ab = b - a\n",
    "        va_length = np.sqrt(va.dot(va))\n",
    "        ab_length = np.sqrt(ab.dot(ab))\n",
    "        alpha = va_length / ab_length\n",
    "        return alpha\n",
    "    def LinearInterpolate(self):\n",
    "        augmentation = np.zeros(shape=(self.crestline_V, 3))\n",
    "        for e in range(self.crestline_E): # consider crestline edge (u, v)\n",
    "            u_index, v_index, face_index = self.crestline_edges[e]\n",
    "            #print(f\"edge information: {u_index} {v_index} {face_index}\")\n",
    "            if(face_index != -1): # when face_index == -1, there's NO triangle associated w/ crestline edge\n",
    "                face_vertex_a_index, face_vertex_b_index, face_vertex_c_index = self.mesh_faces[face_index]\n",
    "                #print(f\"checking face: {face_vertex_a_index} {face_vertex_b_index} {face_vertex_c_index}\")\n",
    "                # edge lies on triangle (a, b, c) <- these are MESH vertices\n",
    "                a = self.mesh_3d_vertices[face_vertex_a_index]\n",
    "                b = self.mesh_3d_vertices[face_vertex_b_index]\n",
    "                c = self.mesh_3d_vertices[face_vertex_c_index]\n",
    "                #print(f\"which are: \\n{a}, \\n{b}, \\n{c}\")\n",
    "                \n",
    "                \"\"\"for the two vertices in (u, v), do:\"\"\" # <- u, v are CRESTLINE vertices\n",
    "                # u is on edge (u1, u2)\n",
    "                u = self.mesh_3d_crestlines_vertices[u_index] # u can be on any of the 3 edges of the face\n",
    "                #print(f\"checking crestline vertex: {u} at index {u_index}\")\n",
    "                u1, u2 = self.FindVertexIndex(a, b, c, \n",
    "                                              face_vertex_a_index, \n",
    "                                              face_vertex_b_index, \n",
    "                                              face_vertex_c_index, u)\n",
    "                alpha_u = self.getAlpha(a=self.mesh_3d_vertices[u1], \n",
    "                                        b=self.mesh_3d_vertices[u2], v=u)\n",
    "                # for mesh vertex index@ u1, write down it's: (index) u2, alpha value\n",
    "                augmentation[u_index][0] = u1\n",
    "                augmentation[u_index][1] = u2\n",
    "                augmentation[u_index][2] = alpha_u\n",
    "\n",
    "                # v is on edge (v1, v2)\n",
    "                v = self.mesh_3d_crestlines_vertices[v_index] # u can be on any of the 3 edges of the face\n",
    "                v1, v2 = self.FindVertexIndex(a, b, c, \n",
    "                                              face_vertex_a_index, \n",
    "                                              face_vertex_b_index, \n",
    "                                              face_vertex_c_index, v)\n",
    "                alpha_v = self.getAlpha(a=self.mesh_3d_vertices[v1], \n",
    "                                        b=self.mesh_3d_vertices[v2], v=v)\n",
    "                # for mesh vertex index@ v1, write down its: (index) v2, alpha value\n",
    "                augmentation[v_index][0] = v1\n",
    "                augmentation[v_index][1] = v2\n",
    "                augmentation[v_index][2] = alpha_v\n",
    "        return augmentation\n",
    "    # input: mesh vertices a, b\n",
    "    # return: point v, which lies on edge (a, b)\n",
    "    # assumption: alpha refers to: length of edge (v, a) / lendth of edge (b, a)\n",
    "    def Recover(self, a, b, alpha):\n",
    "        v = alpha * (b - a) + a\n",
    "        return v\n",
    "    def Move_3D_vertices_to_2D(self):\n",
    "        augmentation = self.LinearInterpolate()\n",
    "        crestline_V_2d = np.zeros(shape=(self.mesh_3d_crestlines_vertices.shape))\n",
    "        for e in range(self.crestline_E): # for all mesh vertices:\n",
    "            # use 3d crestline vertices + augmentation to find 2d creatline vertices\n",
    "            u_index, v_index, face_index = self.crestline_edges[e]\n",
    "\n",
    "            u1_index = augmentation[u_index][0].astype(int)\n",
    "            u2_index = augmentation[u_index][1].astype(int)\n",
    "            u_alpha = augmentation[u_index][2]\n",
    "            u1 = self.mesh_2d_vertices[u1_index]\n",
    "            u2 = self.mesh_2d_vertices[u2_index]\n",
    "            u_2d = self.Recover(u1, u2, u_alpha)\n",
    "            crestline_V_2d[u_index] = u_2d\n",
    "            # print(f\"processing point number {u_index + 1}, alpha: {u_alpha}, output: {u_2d}\")\n",
    "            # print(f\"    this vertex lies on edge between {u1} and {u2}\")\n",
    "\n",
    "            v1_index = augmentation[v_index][0].astype(int)\n",
    "            v2_index = augmentation[v_index][1].astype(int)\n",
    "            v_alpha = augmentation[v_index][2]\n",
    "            v1 = self.mesh_2d_vertices[v1_index]\n",
    "            v2 = self.mesh_2d_vertices[v2_index]\n",
    "            v_2d = self.Recover(v1, v2, v_alpha)\n",
    "            crestline_V_2d[v_index] = v_2d \n",
    "            # print(f\"processing point number {v_index + 1}, alpha: {v_alpha}, output: {v_2d}\")\n",
    "            # print(f\"    this vertex lies on edge between {v1} and {v2}\")\n",
    "        return crestline_V_2d"
   ]
  },
  {
   "cell_type": "code",
   "execution_count": 18,
   "metadata": {},
   "outputs": [
    {
     "name": "stdout",
     "output_type": "stream",
     "text": [
      "TriangleMesh with 13419 points and 26382 triangles.\n",
      "Success: test_230613.ply_ply2.txt\n",
      "in CrestCODE, enter: ./setCurvature test_230613.ply_ply2.txt output.txt\n"
     ]
    }
   ],
   "source": [
    "mesh_name = \"test_230613.ply\"\n",
    "ply2_name = f\"{mesh_name}_ply2.txt\"\n",
    "V, F = get_mesh(\"test_230613.ply\")\n",
    "to_pseudo_PLY2(name=ply2_name, verts=V, faces=F, neighbor=6)\n",
    "crestcode_input = f\"./setCurvature {ply2_name} output.txt\"\n",
    "print(f\"in CrestCODE, enter: {crestcode_input}\")"
   ]
  },
  {
   "cell_type": "code",
   "execution_count": 32,
   "metadata": {},
   "outputs": [
    {
     "data": {
      "application/vnd.jupyter.widget-view+json": {
       "model_id": "3c50910dbcc14b16af0f37428758bfb9",
       "version_major": 2,
       "version_minor": 0
      },
      "text/plain": [
       "Renderer(camera=PerspectiveCamera(children=(DirectionalLight(color='white', intensity=0.6, position=(1.5431385…"
      ]
     },
     "metadata": {},
     "output_type": "display_data"
    }
   ],
   "source": [
    "crestline_V_3d, crestline_E = ReadCrestLine(\"ravines.txt\")\n",
    "plot_3d = mp.plot(v=V, f=F)\n",
    "plot_3d.add_lines(beginning=crestline_V_3d[crestline_E[:,0]], \n",
    "                  ending=crestline_V_3d[crestline_E[:,1]], \n",
    "                  shading={\"line_color\": \"black\", \"line_width\": 1000.0})\n",
    "mesh_lines(vertices=V, faces=F, plot=plot_3d, color=\"red\")\n"
   ]
  },
  {
   "cell_type": "code",
   "execution_count": 79,
   "metadata": {},
   "outputs": [
    {
     "name": "stdout",
     "output_type": "stream",
     "text": [
      "current handle positions: \n",
      "[[ 1.30028415  2.58257699 -0.2368753 ]\n",
      " [ 1.24768305  2.35543323 -0.22349977]\n",
      " [ 1.20675421  2.20177722 -0.22293329]\n",
      " [ 1.66772246  2.59593844 -0.21469522]\n",
      " [ 1.50738573  1.961272   -0.19170189]]\n",
      "target handle positions: \n",
      "[[1.24 2.6  0.  ]\n",
      " [1.22 2.32 0.  ]\n",
      " [1.18 2.18 0.  ]\n",
      " [1.7  2.6  0.  ]\n",
      " [1.5  2.02 0.  ]]\n"
     ]
    },
    {
     "data": {
      "application/vnd.jupyter.widget-view+json": {
       "model_id": "51d9ae819f834c17a5069b0bfede01a4",
       "version_major": 2,
       "version_minor": 0
      },
      "text/plain": [
       "Renderer(camera=PerspectiveCamera(children=(DirectionalLight(color='white', intensity=0.6, position=(1.5431385…"
      ]
     },
     "metadata": {},
     "output_type": "display_data"
    },
    {
     "data": {
      "application/vnd.jupyter.widget-view+json": {
       "model_id": "7557f5a916d74a87b97687595ab1c571",
       "version_major": 2,
       "version_minor": 0
      },
      "text/plain": [
       "Renderer(camera=PerspectiveCamera(children=(DirectionalLight(color='white', intensity=0.6, position=(1.5296539…"
      ]
     },
     "metadata": {},
     "output_type": "display_data"
    }
   ],
   "source": [
    "mesh_color = np.zeros(shape=V.shape)\n",
    "mesh_color[:, :] = yellow\n",
    "mesh_color[0] = turquoise\n",
    "\n",
    "handle_ids = [0, 1000, 2000, 3000, 6000]\n",
    "handle_current_pos = V[handle_ids]\n",
    "print(f\"current handle positions: \\n{handle_current_pos}\")\n",
    "handle_color = np.asarray([\n",
    "    green, blue, black, purple, red\n",
    "])\n",
    "handle_pos = np.asarray([\n",
    "                [1.24, 2.60, 0], \n",
    "                [1.22, 2.32, 0], \n",
    "                [1.18, 2.18, 0], \n",
    "                [1.70, 2.60, 0],\n",
    "                [1.50, 2.02, 0]\n",
    "                ])\n",
    "print(f\"target handle positions: \\n{handle_pos}\")\n",
    "arap_before = mp.plot(v=V, \n",
    "                        f=F,\n",
    "                        c=mesh_color)\n",
    "arap_before.add_points(points=handle_current_pos + np.asarray([0, 0, 0.005]), # <- small points: where the handles refer to\n",
    "                          c=handle_color,\n",
    "                          shading={\"point_size\": 0.1})\n",
    "arap_before.add_points(points=handle_pos + np.asarray([0, 0, -0.15]), # <- big points: where the small points WILL BE\n",
    "                          c=handle_color,\n",
    "                          shading={\"point_size\": 1})\n",
    "mesh_lines(vertices=V, faces=F, plot=arap_before, color=\"red\")\n",
    "\n",
    "V_deform = Handles(\n",
    "    mesh_vertices=V,\n",
    "    mesh_faces=F,\n",
    "    affected_vertex_ids=handle_ids,\n",
    "    target_positions=handle_pos,\n",
    "    iterations=10\n",
    ")\n",
    "\n",
    "arap_after = mp.plot(v=V_deform, \n",
    "                        f=F,\n",
    "                        c=mesh_color)\n",
    "arap_after.add_points(points=handle_pos + np.asarray([0, 0, 0.005]), # <- small points: where the handles refer to\n",
    "                          c=handle_color,\n",
    "                          shading={\"point_size\": 0.5})\n",
    "mesh_lines(vertices=V_deform, faces=F, plot=arap_after, color=\"red\")"
   ]
  },
  {
   "cell_type": "code",
   "execution_count": null,
   "metadata": {},
   "outputs": [],
   "source": [
    "./SEA_QN test_230613.ply_tlc.txt solver_options.txt test_230613.ply_2d_100.txt\n"
   ]
  },
  {
   "cell_type": "code",
   "execution_count": 74,
   "metadata": {},
   "outputs": [
    {
     "name": "stdout",
     "output_type": "stream",
     "text": [
      "the TLC file is: test_230613.ply_tlc.txt\n",
      "in SEA, enter: ./SEA_QN test_230613.ply_tlc.txt solver_options.txt test_230613.ply_2d.txt\n"
     ]
    }
   ],
   "source": [
    "TLC_filename = f\"{mesh_name}_tlc.txt\"\n",
    "flat_filename = f\"{mesh_name}_2d.txt\"\n",
    "write_TLC_input(\n",
    "    filename=TLC_filename,\n",
    "    restVert=V,\n",
    "    initVert=V_deform[:,0:2],\n",
    "    triangles=F,\n",
    "    handles=np.asarray(handle_ids))\n",
    "print(f\"the TLC file is: {TLC_filename}\")\n",
    "print(f\"in SEA, enter: ./SEA_QN {TLC_filename} solver_options.txt {flat_filename}\")"
   ]
  },
  {
   "cell_type": "code",
   "execution_count": 111,
   "metadata": {},
   "outputs": [],
   "source": [
    "flat_filename_100 = f\"{mesh_name}_2d_100.txt\"\n",
    "flat_filename_200 = f\"{mesh_name}_2d_200.txt\"\n",
    "flat_filename_300 = f\"{mesh_name}_2d_300.txt\"\n",
    "flat_filename_400 = f\"{mesh_name}_2d_400.txt\"\n",
    "flat_filename_500 = f\"{mesh_name}_2d_500.txt\""
   ]
  },
  {
   "cell_type": "code",
   "execution_count": 114,
   "metadata": {},
   "outputs": [
    {
     "data": {
      "application/vnd.jupyter.widget-view+json": {
       "model_id": "d76bd835bd0f47de95d5fd8a20836198",
       "version_major": 2,
       "version_minor": 0
      },
      "text/plain": [
       "Renderer(camera=PerspectiveCamera(children=(DirectionalLight(color='white', intensity=0.6, position=(1.5296238…"
      ]
     },
     "metadata": {},
     "output_type": "display_data"
    }
   ],
   "source": [
    "dictionary = read_TLC_result(flat_filename_300)\n",
    "V_2d = np.zeros(V.shape)\n",
    "V_2d[:,0:2] = dictionary[\"resV\"]\n",
    "\n",
    "flat_plot = mp.plot(v=V_2d, \n",
    "                                 f=F, \n",
    "                                 c=mesh_color)\n",
    "flat_plot.add_points(\n",
    "  points=V_2d[handle_ids] + [0, 0, 0.005], # <- big points: where the small points WILL BE\n",
    "  c=handle_color,\n",
    "  shading={\"point_size\": 2})\n",
    "mesh_lines(vertices=V_2d, faces=F, plot=flat_plot, color=\"red\")"
   ]
  },
  {
   "cell_type": "code",
   "execution_count": 115,
   "metadata": {},
   "outputs": [
    {
     "data": {
      "application/vnd.jupyter.widget-view+json": {
       "model_id": "576994ce87074d9aab9ef31137a8b6f2",
       "version_major": 2,
       "version_minor": 0
      },
      "text/plain": [
       "Renderer(camera=PerspectiveCamera(children=(DirectionalLight(color='white', intensity=0.6, position=(1.5296238…"
      ]
     },
     "metadata": {},
     "output_type": "display_data"
    }
   ],
   "source": [
    "mover = crestline_mover(\n",
    "            mesh_3d_vertices=V, mesh_faces=F, \n",
    "            mesh_3d_crestlines_vertices=crestline_V_3d, \n",
    "            crestline_edges=crestline_E, \n",
    "            mesh_2d_vertices=V_2d, color=mesh_color)\n",
    "flat_plot_lines = mp.plot(v=V_2d, f=F, c=mesh_color)\n",
    "\n",
    "# flat_plot_lines.add_edges(vertices=mover.mesh_2d_crestlines_vertices, \n",
    "#                           edges=crestline_E, \n",
    "#                           shading={\"line_color\": \"green\"})\n",
    "flat_plot_lines.add_lines(\n",
    "                  beginning=mover.mesh_2d_crestlines_vertices[crestline_E[:,0]], \n",
    "                  ending=mover.mesh_2d_crestlines_vertices[crestline_E[:,1]], \n",
    "                  shading={\"line_color\": \"black\", \"line_width\": 1000.0})\n",
    "\n",
    "flat_plot_lines.add_points(\n",
    "  points=V_2d[handle_ids] + [0, 0, 0.005], # <- big points: where the small points WILL BE\n",
    "  c=handle_color,\n",
    "  shading={\"point_size\": 2})\n",
    "mesh_lines(vertices=V_2d, faces=F, plot=flat_plot_lines, color=\"red\")"
   ]
  },
  {
   "cell_type": "code",
   "execution_count": 116,
   "metadata": {},
   "outputs": [
    {
     "name": "stdout",
     "output_type": "stream",
     "text": [
      "1.9301993095155727\n",
      "1.9283377798560348\n",
      "2.7095214780269594\n",
      "2.615633848561146\n"
     ]
    }
   ],
   "source": [
    "print(max(V_2d[:,0]))\n",
    "print(max(mover.mesh_2d_crestlines_vertices[:,0]))\n",
    "print(max(V_2d[:,1]))\n",
    "print(max(mover.mesh_2d_crestlines_vertices[:,1]))"
   ]
  }
 ],
 "metadata": {
  "kernelspec": {
   "display_name": "base",
   "language": "python",
   "name": "python3"
  },
  "language_info": {
   "codemirror_mode": {
    "name": "ipython",
    "version": 3
   },
   "file_extension": ".py",
   "mimetype": "text/x-python",
   "name": "python",
   "nbconvert_exporter": "python",
   "pygments_lexer": "ipython3",
   "version": "3.9.13"
  },
  "orig_nbformat": 4
 },
 "nbformat": 4,
 "nbformat_minor": 2
}
