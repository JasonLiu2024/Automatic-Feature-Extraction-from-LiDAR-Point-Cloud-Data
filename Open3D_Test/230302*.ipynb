{
 "cells": [
  {
   "cell_type": "code",
   "execution_count": 1,
   "metadata": {},
   "outputs": [],
   "source": [
    "import open3d as o3d\n",
    "import numpy as np"
   ]
  },
  {
   "cell_type": "code",
   "execution_count": 2,
   "metadata": {},
   "outputs": [],
   "source": [
    "cloud = o3d.io.read_point_cloud(\"Full_Point_Cloud.ply\")"
   ]
  },
  {
   "cell_type": "code",
   "execution_count": 18,
   "metadata": {},
   "outputs": [
    {
     "name": "stdout",
     "output_type": "stream",
     "text": [
      "Bounding box:\n",
      "OrientedBoundingBox: center: (-140, -90, 0), extent: 96, 96, 960)\n",
      "Point cloud vtx count:\n",
      "PointCloud with 5027604 points.\n"
     ]
    },
    {
     "data": {
      "text/plain": [
       "True"
      ]
     },
     "execution_count": 18,
     "metadata": {},
     "output_type": "execute_result"
    }
   ],
   "source": [
    "scale = 96 # scale factor for the size of the box\n",
    "# location of center (x, y, z)\n",
    "x = -140\n",
    "y = -90\n",
    "z = 0 # for the mesh, Z direction is 'UP'\n",
    "R = np.identity(3)\n",
    "extent = np.array([1, 1, 10])*scale\n",
    "center = np.array([x, y, z])\n",
    "vol = o3d.geometry.OrientedBoundingBox(center,R,extent) # construct Oriented BoundingBox object\n",
    "print(\"Bounding box:\")\n",
    "print(vol)\n",
    "crop = cloud.crop(vol) # Crop point cloud 'p1', using bounding box 'vol'\n",
    "print(\"Point cloud vtx count:\")\n",
    "print(crop)\n",
    "o3d.io.write_point_cloud(\"Crop_(\" + str(x) + \",\" + str(y) + \",\"+ str(z) + \")_scale=\" + str(scale) + \".ply\", crop)"
   ]
  },
  {
   "attachments": {},
   "cell_type": "markdown",
   "metadata": {},
   "source": [
    "LargeArea_1 (80, 0, 0)"
   ]
  },
  {
   "attachments": {},
   "cell_type": "markdown",
   "metadata": {},
   "source": [
    "LargeArea_2 (176, 48, 0)"
   ]
  },
  {
   "attachments": {},
   "cell_type": "markdown",
   "metadata": {},
   "source": [
    "LargeArea_3 "
   ]
  },
  {
   "cell_type": "code",
   "execution_count": null,
   "metadata": {},
   "outputs": [],
   "source": []
  }
 ],
 "metadata": {
  "kernelspec": {
   "display_name": "generalPurpose",
   "language": "python",
   "name": "python3"
  },
  "language_info": {
   "codemirror_mode": {
    "name": "ipython",
    "version": 3
   },
   "file_extension": ".py",
   "mimetype": "text/x-python",
   "name": "python",
   "nbconvert_exporter": "python",
   "pygments_lexer": "ipython3",
   "version": "3.9.13"
  },
  "orig_nbformat": 4
 },
 "nbformat": 4,
 "nbformat_minor": 2
}
