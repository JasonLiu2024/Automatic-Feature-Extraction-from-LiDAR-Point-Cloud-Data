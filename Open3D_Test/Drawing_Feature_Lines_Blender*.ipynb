{
 "cells": [
  {
   "attachments": {},
   "cell_type": "markdown",
   "metadata": {},
   "source": [
    "# Drawing Feature Lines on Mesh in Blender\n",
    "Date: Monday March 20th, 2023"
   ]
  }
 ],
 "metadata": {
  "language_info": {
   "name": "python"
  },
  "orig_nbformat": 4
 },
 "nbformat": 4,
 "nbformat_minor": 2
}
