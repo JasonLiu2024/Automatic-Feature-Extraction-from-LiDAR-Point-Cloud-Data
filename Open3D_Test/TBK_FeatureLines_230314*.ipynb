{
 "cells": [
  {
   "attachments": {},
   "cell_type": "markdown",
   "metadata": {},
   "source": [
    "# Feature Lines for Tashbulak\n",
    "Date: Tuesday March 14, 2023\n",
    "<br>Tool: AnalysisPackage_v1.ipynb"
   ]
  },
  {
   "attachments": {},
   "cell_type": "markdown",
   "metadata": {},
   "source": [
    "Mesh file: TBK_mesh_all_3_14.ply\n",
    "<br>Reconstruction setting: path = 10\n",
    "\n",
    ">k = 3\n",
    "\n",
    "<img src=\"../Open3D_Test/Phase_2_EntireRegion/TBK_230314/k=3.png\" style=\"width: 800px\">\n",
    "\n",
    ">k = 4\n",
    "\n",
    "<img src=\"../Open3D_Test/Phase_2_EntireRegion/TBK_230314/k=4.png\" style=\"width: 800px\">\n",
    "\n",
    ">k = 6\n",
    "\n",
    "<img src=\"../Open3D_Test/Phase_2_EntireRegion/TBK_230314/k=6.png\" style=\"width: 800px\">"
   ]
  }
 ],
 "metadata": {
  "language_info": {
   "name": "python"
  },
  "orig_nbformat": 4
 },
 "nbformat": 4,
 "nbformat_minor": 2
}
