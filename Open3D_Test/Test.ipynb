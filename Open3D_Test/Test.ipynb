{
 "cells": [
  {
   "attachments": {},
   "cell_type": "markdown",
   "metadata": {},
   "source": [
    "# I use this file to testout Jupyter Notebook's functions! (interaction with github)"
   ]
  },
  {
   "cell_type": "code",
   "execution_count": 1,
   "metadata": {},
   "outputs": [],
   "source": [
    "import numpy as np\n",
    "import open3d as o3d\n",
    "import igl\n",
    "import meshplot as mp"
   ]
  },
  {
   "cell_type": "code",
   "execution_count": 12,
   "metadata": {},
   "outputs": [],
   "source": [
    "MESHFILE = \"../Open3D_Test/v4_path=10.ply\"\n",
    "PSEUDO_PLY2 = 'ply2.txt'\n",
    "NEWLINE = '\\n'\n",
    "NEIGHBOR = 6\n",
    "CRESTLINE = 1 # 0 means NO Crest line, 1 means YES Crest line"
   ]
  },
  {
   "cell_type": "code",
   "execution_count": 2,
   "metadata": {},
   "outputs": [],
   "source": [
    "# read in mesh file\n",
    "def get_mesh(path):\n",
    "    mesh = o3d.io.read_triangle_mesh(MESHFILE)\n",
    "    print(mesh)\n",
    "    verts = np.asarray(mesh.vertices)\n",
    "    faces = np.asarray(mesh.triangles)\n",
    "    return verts, faces"
   ]
  },
  {
   "cell_type": "code",
   "execution_count": 4,
   "metadata": {},
   "outputs": [],
   "source": [
    "# turn meshfile to Pseudo_PLY2 file\n",
    "def to_pseudo_PLY2(name, neighbor, crestline, verts, faces):\n",
    "    NEWLINE = '\\n'\n",
    "    verts_count = len(verts)\n",
    "    faces_count = len(faces)\n",
    "    with open(name, 'w') as f:\n",
    "        # num vertices\n",
    "        f.write(str(verts_count) + NEWLINE)\n",
    "        # num triangles\n",
    "        f.write(str(faces_count) + NEWLINE)\n",
    "        # neighborhood size\n",
    "        f.write(str(neighbor) + NEWLINE)\n",
    "        # Crestline Y/N\n",
    "        f.write(str(crestline) + NEWLINE)\n",
    "        # vertices (coordinates)\n",
    "        for i in range(verts_count):\n",
    "            f.write(\" \".join(map(str, verts[i])) + NEWLINE)\n",
    "        # faces (vertex IDs)\n",
    "        for j in range(faces_count):\n",
    "            f.write(\" \".join(map(str, faces[j])) + NEWLINE)"
   ]
  },
  {
   "cell_type": "code",
   "execution_count": 5,
   "metadata": {},
   "outputs": [],
   "source": [
    "# get data from Ridges.txt OR Ravines.txt\n",
    "def read_RnR(FILE):\n",
    "    f = open(FILE, 'r')\n",
    "    # num of vertices\n",
    "    V = int(f.readline())\n",
    "    # num of edges\n",
    "    E = int(f.readline())\n",
    "    # num of connected components\n",
    "    N = int(f.readline())\n",
    "    # vertices\n",
    "    \"\"\"[x, y, z, connected cmp ID]; index = vtx ID\"\"\"\n",
    "    vertices = np.zeros(shape = (V, 4))\n",
    "    for i in range(V): \n",
    "        #index = pointID\n",
    "        line = f.readline()\n",
    "        vertices[i] = [float(n) for n in line.split()]\n",
    "    \"\"\"print(\"first vtx\")\n",
    "    print(vertices[0])\n",
    "    print(\"last vtx\")\n",
    "    print(vertices[V - 1])\n",
    "    print(vertices.dtype)\"\"\"\n",
    "    # connected components\n",
    "    \"\"\"[Ridgeness, Sphericalness, Cyclideness]; index = connected cmp ID\"\"\"\n",
    "    connected_cmp = np.zeros(shape = (N, 3))\n",
    "    for j in range(N):\n",
    "        line = f.readline()\n",
    "        connected_cmp[j] = [float(n) for n in line.split()]\n",
    "    \"\"\"print(\"first connected cmp\")\n",
    "    print(connected_cmp[0])\n",
    "    print(\"last connected cmp\")\n",
    "    print(connected_cmp[N - 1])\n",
    "    print(connected_cmp.dtype)\"\"\"\n",
    "    # edges (u,v)\n",
    "    \"\"\"[vtx ID of u, vtx ID of v, triangle ID]; index = edge ID\"\"\"\n",
    "    edges = np.zeros(shape = (E, 3), dtype=int)\n",
    "    for k in range(E):\n",
    "        line = f.readline()\n",
    "        edges[k] = [n for n in line.split()]\n",
    "    \"\"\"print(\"first edge\")\n",
    "    print(edges[0])\n",
    "    print(\"last edge:\")\n",
    "    print(edges[E - 1])\n",
    "    print(edges.dtype)\"\"\"\n",
    "    return (E, vertices, edges)"
   ]
  },
  {
   "cell_type": "code",
   "execution_count": 6,
   "metadata": {},
   "outputs": [],
   "source": [
    "# get vtx pair for Crest Line edges!\n",
    "def preprop_RnR(tuple):\n",
    "    S = np.zeros(shape = (tuple[0], 3))\n",
    "    T = np.zeros(shape = (tuple[0], 3))\n",
    "    for i in range(tuple[0]):\n",
    "        S[i] = tuple[1][tuple[2][i, 0]][0:3]\n",
    "        T[i] = tuple[1][tuple[2][i, 1]][0:3]\n",
    "    return S, T"
   ]
  },
  {
   "cell_type": "code",
   "execution_count": 7,
   "metadata": {},
   "outputs": [],
   "source": [
    "def show(ridges, ravines, verts, faces):\n",
    "    p = mp.plot(verts, faces, return_plot=True)\n",
    "    RI_S, RI_T = preprop_RnR(read_RnR(ridges))\n",
    "    p.add_lines(RI_S, RI_T, shading={\"line_color\": \"red\", \"line_width\": 10.0})\n",
    "    RA_S, RA_T = preprop_RnR(read_RnR(ravines))\n",
    "    p.add_lines(RA_S, RA_T, shading={\"line_color\": \"blue\", \"line_width\": 10.0})"
   ]
  },
  {
   "cell_type": "code",
   "execution_count": 17,
   "metadata": {},
   "outputs": [
    {
     "name": "stdout",
     "output_type": "stream",
     "text": [
      "TriangleMesh with 411439 points and 822647 triangles.\n"
     ]
    }
   ],
   "source": [
    "verts, faces = get_mesh(MESHFILE)\n",
    "to_pseudo_PLY2(PSEUDO_PLY2, NEIGHBOR, CRESTLINE, verts, faces)"
   ]
  },
  {
   "attachments": {},
   "cell_type": "markdown",
   "metadata": {},
   "source": [
    "# BOOM! You ran CrestCODE and got your .txt outputs!\n",
    "<br>You ran command in the CrestCODE folder (through Terminal) and got .txt files for: output, ravines, ridges\n",
    ">the input: ./setCurvature ply2.txt output.txt\n",
    "><br>Note that 'ply2.txt' corresponds to (the value of) PSEUDO_PLY2\n",
    "\n",
    "<br>The .txt show up in the CrestCODE folder\n",
    "<br>You moved those files Back to Open3D_Test!"
   ]
  },
  {
   "cell_type": "code",
   "execution_count": 14,
   "metadata": {},
   "outputs": [],
   "source": [
    "RIDGES = \"ridges.txt\"\n",
    "RAVINES = \"ravines.txt\""
   ]
  },
  {
   "cell_type": "code",
   "execution_count": 19,
   "metadata": {},
   "outputs": [
    {
     "data": {
      "application/vnd.jupyter.widget-view+json": {
       "model_id": "cbb8d91296be47f39fc3c7adbaffb29b",
       "version_major": 2,
       "version_minor": 0
      },
      "text/plain": [
       "Renderer(camera=PerspectiveCamera(children=(DirectionalLight(color='white', intensity=0.6, position=(-23.11145…"
      ]
     },
     "metadata": {},
     "output_type": "display_data"
    }
   ],
   "source": [
    "show(RIDGES, RAVINES, verts, faces)"
   ]
  },
  {
   "cell_type": "code",
   "execution_count": 20,
   "metadata": {},
   "outputs": [
    {
     "data": {
      "application/vnd.jupyter.widget-view+json": {
       "model_id": "8c310499d5374850a523734ef04532ea",
       "version_major": 2,
       "version_minor": 0
      },
      "text/plain": [
       "Renderer(camera=PerspectiveCamera(children=(DirectionalLight(color='white', intensity=0.6, position=(-23.11145…"
      ]
     },
     "metadata": {},
     "output_type": "display_data"
    }
   ],
   "source": [
    "p = mp.plot(verts, faces, return_plot=True)"
   ]
  }
 ],
 "metadata": {
  "kernelspec": {
   "display_name": "base",
   "language": "python",
   "name": "python3"
  },
  "language_info": {
   "codemirror_mode": {
    "name": "ipython",
    "version": 3
   },
   "file_extension": ".py",
   "mimetype": "text/x-python",
   "name": "python",
   "nbconvert_exporter": "python",
   "pygments_lexer": "ipython3",
   "version": "3.9.13"
  },
  "orig_nbformat": 4,
  "vscode": {
   "interpreter": {
    "hash": "965bd926a585e7a707780cf489a5aa234b5edeb61e436163a73c6bef09da54c9"
   }
  }
 },
 "nbformat": 4,
 "nbformat_minor": 2
}
