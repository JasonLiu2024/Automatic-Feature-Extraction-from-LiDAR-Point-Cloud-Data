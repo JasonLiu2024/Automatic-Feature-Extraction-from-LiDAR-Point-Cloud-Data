{
 "cells": [
  {
   "cell_type": "code",
   "execution_count": 1,
   "metadata": {},
   "outputs": [],
   "source": [
    "import open3d as o3d\n",
    "import numpy as np"
   ]
  },
  {
   "attachments": {},
   "cell_type": "markdown",
   "metadata": {},
   "source": [
    "# Example for reading point cloud"
   ]
  },
  {
   "cell_type": "code",
   "execution_count": 13,
   "metadata": {},
   "outputs": [
    {
     "name": "stdout",
     "output_type": "stream",
     "text": [
      "PointCloud with 56569957 points.\n"
     ]
    }
   ],
   "source": [
    "# I open point cloud file called Full_Point_Cloud.ply\n",
    "# This is the original file from SAIE Lab\n",
    "# Trying to crop it!\n",
    "cloud = o3d.io.read_point_cloud(\"Full_Point_Cloud.ply\")\n",
    "# tell us about this file!\n",
    "print(cloud)"
   ]
  },
  {
   "attachments": {},
   "cell_type": "markdown",
   "metadata": {},
   "source": [
    "# Example for writing point cloud"
   ]
  },
  {
   "cell_type": "code",
   "execution_count": 14,
   "metadata": {},
   "outputs": [
    {
     "data": {
      "text/plain": [
       "True"
      ]
     },
     "execution_count": 14,
     "metadata": {},
     "output_type": "execute_result"
    }
   ],
   "source": [
    "# I copy the contents of Full_Point_Cloud.ply to a new file called Part_1.ply\n",
    "o3d.io.write_point_cloud(\"Part_1.ply\", cloud)"
   ]
  },
  {
   "cell_type": "code",
   "execution_count": 4,
   "metadata": {},
   "outputs": [
    {
     "name": "stdout",
     "output_type": "stream",
     "text": [
      "PointCloud with 56569957 points.\n"
     ]
    }
   ],
   "source": [
    "# I read Part_1.ply\n",
    "p1 = o3d.io.read_point_cloud(\"Part_1.ply\")\n",
    "print(p1)"
   ]
  },
  {
   "attachments": {},
   "cell_type": "markdown",
   "metadata": {},
   "source": [
    "# Notes about the point cloud\n",
    "W.r.t the .TIFF file, the .PLY file is rotated about 30 degrees"
   ]
  },
  {
   "attachments": {},
   "cell_type": "markdown",
   "metadata": {},
   "source": [
    "# Crop Method 1: (good method so far)\n",
    "part1 = p1_crop_(0,-30,0).ply\n",
    "<br>part2 = p1_crop_(-200,-130,0).ply\n",
    "<br>part3 = p1_crop_(300,-50,0).ply\n",
    "\n",
    "# Mesh output: (week 3, Jan 30 ~ Feb 5, 2023)\n",
    "Software: Meshlab\n",
    "\n",
    "part1 = part1_Mesh.ply\n",
    "<br>part2 = part2_Mesh.ply (normals are flipped w.r.t. view)\n",
    "<br>part3 = part3_Mesh.ply (normals are flipped w.r.t. view)\n",
    "\n",
    "Note: using 'flip normals w.r.t. view' option in normal calculation results in Bad (self-intersecting & Not abiding to point cloud) poisson mesh!\n",
    "\n",
    "# Findings:\n",
    "It's Faster to 'navigate' the mesh using Crop Method 1, because if I open the entire point cloud in Meshlab, the software slows down so much I canNot do operations (e.g. cropping) quickly because of lag"
   ]
  },
  {
   "attachments": {},
   "cell_type": "markdown",
   "metadata": {},
   "source": [
    "# 230209\n",
    "Today I need crop out Smaller parts from p1_crop_(0,-30,0).ply\n",
    "Size: 24\n"
   ]
  },
  {
   "cell_type": "code",
   "execution_count": 12,
   "metadata": {},
   "outputs": [
    {
     "name": "stdout",
     "output_type": "stream",
     "text": [
      "OrientedBoundingBox: center: (20, -30, 0), extent: 24, 24, 48)\n"
     ]
    },
    {
     "data": {
      "text/plain": [
       "True"
      ]
     },
     "execution_count": 12,
     "metadata": {},
     "output_type": "execute_result"
    }
   ],
   "source": [
    "# Crop method 1\n",
    "# I learn from code @ https://stackoverflow.com/questions/70449880/how-to-crop-a-point-cloud-in-open3d-by-using-a-polygon-volume\n",
    "# it's by: SFA\n",
    "# scale factor for the size of the box\n",
    "scale = 24\n",
    "# location of center\n",
    "x = 20\n",
    "y = -30\n",
    "z = 0 # for the mesh, Z direction is 'UP'\n",
    "# R is an identity matrix. 3 is argument, so dimemsion of R is (3 x 3)\n",
    "R = np.identity(3)\n",
    "extent = np.array([1, 1, 2])*scale\n",
    "center = np.array([x, y, z])\n",
    "# construct Oriented BoundingBox object\n",
    "vol = o3d.geometry.OrientedBoundingBox(center,R,extent) # or you can use axis aligned bounding box class\n",
    "print(vol)\n",
    "# Crop point cloud 'p1', using bounding box 'vol'\n",
    "p1_crop = p1.crop(vol)\n",
    "o3d.io.write_point_cloud(\"small_crop_(\" + str(x) + \",\" + str(y) + \",\"+ str(z) + \").ply\", p1_crop)"
   ]
  },
  {
   "attachments": {},
   "cell_type": "markdown",
   "metadata": {},
   "source": [
    "# Crop method 2: (not good, yet to figure out how bounding box location)"
   ]
  },
  {
   "cell_type": "code",
   "execution_count": 57,
   "metadata": {},
   "outputs": [
    {
     "name": "stdout",
     "output_type": "stream",
     "text": [
      "[[    0.     0.     0.]\n",
      " [    0. 10000.     0.]\n",
      " [10000.     0.     0.]\n",
      " [10000. 10000.     0.]\n",
      " [    0.     0. 10000.]\n",
      " [    0. 10000. 10000.]\n",
      " [10000.     0. 10000.]\n",
      " [10000. 10000.     0.]]\n",
      "\u001b[1;33m[Open3D WARNING] Write PLY failed: point cloud has 0 points.\u001b[0;m\n"
     ]
    },
    {
     "data": {
      "text/plain": [
       "False"
      ]
     },
     "execution_count": 57,
     "metadata": {},
     "output_type": "execute_result"
    }
   ],
   "source": [
    "# CROP method 2 (not working atm, cropped result has 0 points, I think)\n",
    "# I learn from code @ https://stackoverflow.com/questions/61269980/open3d-crop-pointcloud-with-polygon-volume\n",
    "# it's by: Eric Wiener\n",
    "# define volume manually: one cube = 4 vertices total\n",
    "start_x = 0.0\n",
    "start_y = 0.0\n",
    "start_z = 0.0\n",
    "cubeSize = 10000.0\n",
    "corners = np.array(\n",
    "        [[start_x,             start_y,             start_z],\n",
    "        [start_x,             start_y + cubeSize,  start_z],\n",
    "        [start_x + cubeSize,  start_y,             start_z],\n",
    "        [start_x + cubeSize,  start_y + cubeSize,  start_z],\n",
    "        [start_x,             start_y,            start_z + cubeSize],\n",
    "        [start_x,             start_y + cubeSize,  start_z + cubeSize],\n",
    "        [start_x + cubeSize,  start_y,             start_z + cubeSize],\n",
    "        [start_x + cubeSize,  start_y + cubeSize,  start_z]])\n",
    "print(corners)\n",
    "# convert to type float64\n",
    "box = corners.astype(\"float64\")\n",
    "# initialize SelectionPolygonVolume object\n",
    "vol = o3d.visualization.SelectionPolygonVolume()\n",
    "# I choose the \"Y\" axis. I made the max value the maximum Y of\n",
    "# the polygon vertices and the min value the minimum Y of the\n",
    "# polygon vertices.\n",
    "vol.orthogonal_axis = \"Y\" # orientation for the box\n",
    "vol.axis_max = np.max(box[:, 1])\n",
    "vol.axis_min = np.min(box[:, 1])\n",
    "# Set all the Y values to 0 (they aren't needed since we specified what they\n",
    "# should be using just vol.axis_max and vol.axis_min).\n",
    "box[:, 1] = 0\n",
    "# Convert the np.array to a Vector3dVector\n",
    "vol.bounding_polygon = o3d.utility.Vector3dVector(box)\n",
    "# Crop w/ variable 'box'\n",
    "p1_crop = vol.crop_point_cloud(p1)\n",
    "o3d.io.write_point_cloud(\"p1_crop.ply\", p1_crop)"
   ]
  },
  {
   "attachments": {},
   "cell_type": "markdown",
   "metadata": {},
   "source": [
    "# .PLY point cloud to .PLY mesh\n",
    "Software used: Meshlab\n",
    "<br>Method: Poisson\n",
    "<br>1. Calculate Normals\n",
    "<br>&emsp;Filters -> Normals, Curvatures, and Orientation -> Compute Normals for point sets\n",
    "<br>2. Turn point cloud to mesh\n",
    "<br>&emsp;Filters -> Remeshing, Simplification, and Reconstruction -> Surface Reconstruction: Screened Poisson (Here, I use Default values from Feb 2023)\n",
    "\n",
    "<br>Note: I use \"&emsp;\" (open markdown to see what's between the quotes!) to insert Tab (here, it inserts 4x spaces, which equals 1x tab)"
   ]
  },
  {
   "attachments": {},
   "cell_type": "markdown",
   "metadata": {},
   "source": [
    "# Turn .PLY Mesh into .PLY2 Mesh\n",
    "We need .PLY2 file to use Shin Yoshizawa (et al.)'s Crest Line code (http://www2.riken.jp/brict/Yoshizawa/Research/Crest.html)\n",
    "<br>The .PLY2 file is made of 4 parts (http://www2.riken.jp/brict/Yoshizawa/Research/PLYformat/PLYformat.html)\n",
    "<br>&emsp;this file format is good for: \"approximation of the smooth surfaces\" (quote from website)\n",
    "<br>1. Line 1: # of vertices (Integer)\n",
    "<br>2. Line 2: # of triangles (Integer)\n",
    "<br>3. Set of vertex coordinates\n",
    "<br>&emsp;1x vertex per line\n",
    "<br>&emsp;Format: (Double x, Double y, Double z) <-Remove comma!\n",
    "<br>4. Set of face information\n",
    "<br>&emsp;face = triangle\n",
    "<br>&emsp;Format: (3, Int x, Int y, Int z) <-Remove comma!\n",
    "<br>&emsp;here, x, y, and z are vertex ID, which are integers"
   ]
  },
  {
   "cell_type": "code",
   "execution_count": 2,
   "metadata": {},
   "outputs": [],
   "source": [
    "mesh = o3d.io.read_triangle_mesh(\"part1_Mesh.ply\")\n"
   ]
  },
  {
   "cell_type": "code",
   "execution_count": 3,
   "metadata": {},
   "outputs": [
    {
     "name": "stdout",
     "output_type": "stream",
     "text": [
      "Vertices: 76027 Total\n",
      "[[-51.52429581 -80.11437988 -24.4055233 ]\n",
      " [-52.20049667 -79.86222076 -24.4055233 ]\n",
      " [-49.86222076 -81.09666443 -24.4055233 ]\n",
      " ...\n",
      " [ 10.38796234  -3.82233429  -0.16961479]\n",
      " [ 10.80348206  -3.82233429  -0.20088959]\n",
      " [ 11.21900177  -3.82233429  -0.24428368]]\n",
      "Faces(Triangles): 151765 Total\n",
      "[[    0    17     1]\n",
      " [    9    19     2]\n",
      " [    2    19     0]\n",
      " ...\n",
      " [76022 76015 71673]\n",
      " [73411 76022 71673]\n",
      " [71673 71674 73411]]\n"
     ]
    }
   ],
   "source": [
    "verts = np.asarray(mesh.vertices)\n",
    "verts_count = len(verts)\n",
    "print(\"Vertices: \" + str(verts_count) + \" Total\")\n",
    "print(verts)\n",
    "faces = np.asarray(mesh.triangles)\n",
    "faces_count = len(faces)\n",
    "print(\"Faces(Triangles): \" + str(faces_count) + \" Total\")\n",
    "print(faces)"
   ]
  },
  {
   "cell_type": "code",
   "execution_count": 4,
   "metadata": {},
   "outputs": [],
   "source": [
    "PLY2 = 'ply2.txt'\n",
    "NEWLINE = '\\n'"
   ]
  },
  {
   "cell_type": "code",
   "execution_count": 15,
   "metadata": {},
   "outputs": [
    {
     "name": "stdout",
     "output_type": "stream",
     "text": [
      "3.1 4.0 7.0\n"
     ]
    }
   ],
   "source": [
    "arr = np.array([[1.1,2,4],[3.1,4,7]])\n",
    "print(\" \".join(map(str, arr[1]))) # prints out array WITHOUT brackets\n"
   ]
  },
  {
   "cell_type": "code",
   "execution_count": 17,
   "metadata": {},
   "outputs": [],
   "source": [
    "with open(PLY2, 'w') as f:\n",
    "    f.write(str(verts_count) + NEWLINE)\n",
    "    f.write(str(faces_count) + NEWLINE)\n",
    "    for i in range(verts_count):\n",
    "        f.write(\" \".join(map(str, verts[i])) + NEWLINE)\n",
    "    for j in range(faces_count):\n",
    "        f.write('3 ' + \" \".join(map(str, faces[i])) + NEWLINE)"
   ]
  }
 ],
 "metadata": {
  "kernelspec": {
   "display_name": "base",
   "language": "python",
   "name": "python3"
  },
  "language_info": {
   "codemirror_mode": {
    "name": "ipython",
    "version": 3
   },
   "file_extension": ".py",
   "mimetype": "text/x-python",
   "name": "python",
   "nbconvert_exporter": "python",
   "pygments_lexer": "ipython3",
   "version": "3.9.13"
  },
  "orig_nbformat": 4,
  "vscode": {
   "interpreter": {
    "hash": "965bd926a585e7a707780cf489a5aa234b5edeb61e436163a73c6bef09da54c9"
   }
  }
 },
 "nbformat": 4,
 "nbformat_minor": 2
}
