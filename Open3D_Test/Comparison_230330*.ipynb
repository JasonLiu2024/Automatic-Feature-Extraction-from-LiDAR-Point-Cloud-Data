{
 "cells": [
  {
   "attachments": {},
   "cell_type": "markdown",
   "metadata": {},
   "source": [
    "# Comparing Geometry-based Feature Lines to GPR Data\n",
    "Date: Thursday March 30, 2023"
   ]
  },
  {
   "attachments": {},
   "cell_type": "markdown",
   "metadata": {},
   "source": [
    "# Motivation"
   ]
  },
  {
   "attachments": {},
   "cell_type": "markdown",
   "metadata": {},
   "source": [
    "# **Feature Lines and Curvature Colorization**\n",
    "\n",
    "<img src=\"../Open3D_Test/Phase_3_verification/where_230330.png\"/>\n",
    "<table>\n",
    "<tr>\n",
    "    <td style = \"text_aligh:left\">Feature Lines, k = 6</td>\n",
    "    <td style = \"text_aligh:left\">K1 colorization, MLS Scale = 12</td>\n",
    "</tr>\n",
    "<tr>\n",
    "    <td style=\"width: 480px;\"><img src=\"../Open3D_Test/Phase_3_verification/tbk_crop_230328_depth=12_correctNormals_crop_1/ravines.png\"/></td>\n",
    "    <td style=\"width: 480px;\"><img src=\"../Open3D_Test/Phase_3_verification/tbk_crop_230328_depth=12_correctNormals_crop_1/s=12_k1.png\"/></td>\n",
    "</tr>\n",
    "</table>\n",
    "<table>\n",
    "<tr>\n",
    "    <td style = \"text_aligh:left\">Feature Lines, k = 6</td>\n",
    "    <td style = \"text_aligh:left\">K1 colorization, MLS Scale = 12</td>\n",
    "</tr>\n",
    "<tr>\n",
    "    <td style=\"width: 480px;\"><img src=\"../Open3D_Test/Phase_3_verification/tbk_crop_230328_depth=12_correctNormals_crop_2/ravines.png\"/></td>\n",
    "    <td style=\"width: 480px;\"><img src=\"../Open3D_Test/Phase_3_verification/tbk_crop_230328_depth=12_correctNormals_crop_2/s=12_k1.png\"/></td>\n",
    "</tr>\n",
    "</table>"
   ]
  },
  {
   "attachments": {},
   "cell_type": "markdown",
   "metadata": {},
   "source": [
    "# **Verifying Feature Lines, using Radar data as ground truth**\n",
    "Date: Friday March 31, 2023\n",
    "### Method\n",
    "I manually aligned the radar data (exported image) against the mesh.\n",
    "<br>The problem is, the radar data's size does not match that of the mesh\n",
    "<br>Since feature lines are generated based on the geometry of the mesh, I did not modify the mesh in any way for this comparison\n",
    "<br>Instead, I had to rotate the radar data and scale it down to 0.714 of the original size.\n",
    "<br>I relied on contour-like structures at the bottom left of the radar data.\n",
    "<br>The problem is, the features of interests (indication of rooms and buildings) would not line up\n",
    "<br>I could also use the river running vertically across the area as geographical reference\n",
    "<br>But the river's shape as it appears on the mesh does not precisely correspond to its occurence on the mesh, so I could not use this geography effectively\n",
    "\n",
    "<table>\n",
    "<tr>\n",
    "    <td style = \"text_aligh:left\">Raw mesh</td>\n",
    "</tr>\n",
    "<tr>\n",
    "    <td style=\"width: 960px;\"><img src=\"../Open3D_Test/Phase_3_verification/230331_ManualAlign/mesh.png\"/></td>\n",
    "</tr>\n",
    "<tr>\n",
    "    <td style = \"text_aligh:left\">Mesh and Radar data</td>\n",
    "</tr>\n",
    "<tr>\n",
    "    <td style=\"width: 960px;\"><img src=\"../Open3D_Test/Phase_3_verification/230331_ManualAlign/radar&mesh.png\"/></td>\n",
    "</tr>\n",
    "<tr>\n",
    "    <td style = \"text_aligh:left\">Mesh and Feature Lines</td>\n",
    "</tr>\n",
    "<tr>\n",
    "    <td style=\"width: 960px;\"><img src=\"../Open3D_Test/Phase_3_verification/230331_ManualAlign/lines&mesh.png\"/></td>\n",
    "</tr>\n",
    "<tr>\n",
    "    <td style = \"text_aligh:left\">Mesh,Feature Lines, and Radar data</td>\n",
    "</tr>\n",
    "<tr>\n",
    "    <td style=\"width: 960px;\"><img src=\"../Open3D_Test/Phase_3_verification/230331_ManualAlign/lines&radar&mesh.png\"/></td>\n",
    "</tr>\n",
    "</table>\n",
    "test"
   ]
  }
 ],
 "metadata": {
  "kernelspec": {
   "display_name": "base",
   "language": "python",
   "name": "python3"
  },
  "language_info": {
   "codemirror_mode": {
    "name": "ipython",
    "version": 3
   },
   "file_extension": ".py",
   "mimetype": "text/x-python",
   "name": "python",
   "nbconvert_exporter": "python",
   "pygments_lexer": "ipython3",
   "version": "3.9.13"
  },
  "orig_nbformat": 4
 },
 "nbformat": 4,
 "nbformat_minor": 2
}
