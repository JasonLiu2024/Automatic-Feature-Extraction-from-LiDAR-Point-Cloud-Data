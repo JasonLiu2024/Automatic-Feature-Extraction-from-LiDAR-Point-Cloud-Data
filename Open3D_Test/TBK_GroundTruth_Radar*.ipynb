{
 "cells": [
  {
   "attachments": {},
   "cell_type": "markdown",
   "metadata": {},
   "source": [
    "# Comparing Radar Ground Truth with Feature Lines\n",
    "Date: March 28, 2023"
   ]
  },
  {
   "attachments": {},
   "cell_type": "markdown",
   "metadata": {},
   "source": [
    "# Motivation"
   ]
  },
  {
   "attachments": {},
   "cell_type": "markdown",
   "metadata": {},
   "source": [
    "# Radar Ground Truth\n",
    "\n",
    "<img src=\"../Open3D_Test/Phase_3_EntireRegion/TBK_Radar_GroundTruth/Export_230328.png\" style=\"width: 800px\">"
   ]
  }
 ],
 "metadata": {
  "language_info": {
   "name": "python"
  },
  "orig_nbformat": 4
 },
 "nbformat": 4,
 "nbformat_minor": 2
}
