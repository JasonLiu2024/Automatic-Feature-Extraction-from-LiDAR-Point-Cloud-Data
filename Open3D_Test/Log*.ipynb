{
 "cells": [
  {
   "attachments": {},
   "cell_type": "markdown",
   "metadata": {},
   "source": [
    "# Log\n",
    "This files records progress I made in this project!"
   ]
  },
  {
   "attachments": {},
   "cell_type": "markdown",
   "metadata": {},
   "source": [
    "# Friday February 17, 2023\n",
    "Did\n",
    "1. \n",
    ">Additional analysis to areas 5~11"
   ]
  },
  {
   "attachments": {},
   "cell_type": "markdown",
   "metadata": {},
   "source": [
    "# Monday February 20, 2023\n",
    "Did\n",
    "1. Mesh analysis\n",
    ">1. Analyzed Enlarged versions for Areas 6, 8, and 11.\n",
    ">2. Reconstructed mesh from point cloud, with varied 'Reconstruction Depth' values from 8 to 5\n",
    ">3. <br>Added curvature colorization (APSS, K1)"
   ]
  },
  {
   "attachments": {},
   "cell_type": "markdown",
   "metadata": {},
   "source": [
    "# Monday March 20, 2023\n",
    "Items I worked on\n",
    "1. GroundTruth_Blender.ipynb\n",
    ">Completed sections: Motivation and Process, Obtaining Ground Truth based on Human Visual Recognition in Blender, \n",
    "><br>Started section: Observations, Drawing Feature Lines in Blender\n",
    "2. Comparison_230310.ipynb\n",
    ">Fixed image display errors\n",
    "3. Drawing_Feature_Lines_Blender.ipynb\n",
    ">Started\n",
    "\n",
    "ALSO: Reorganized folders"
   ]
  },
  {
   "attachments": {},
   "cell_type": "markdown",
   "metadata": {},
   "source": [
    "# Tuesday March 21, 2023\n",
    "Did\n",
    "1. Submitted application to Undergraduate Research Symposium\n",
    ">Project title: Feature Extraction from LiDAR Data\n",
    "\n",
    "Items I worked on\n",
    "1. Cropping.blend\n",
    ">obtained shaded images of crop_remote_230314 (tugunbulak)\n",
    "2. GroundTruth_Blender.ipynb\n",
    ">updated image showing my hand-drawn feature lines on the shaded mesh from 1.\n",
    "><br>added observations from comparing hand-drawn feature lines against calculated feature lines and shaded mesh"
   ]
  },
  {
   "attachments": {},
   "cell_type": "markdown",
   "metadata": {},
   "source": [
    "# Friday March 24, 2023\n",
    "Did\n",
    "1. Met with Professor Ju to report progress and discuss ideas\n",
    ">Analyzed and evaluated hand-drawn fearture lines from GroundTruth_Blender.ipynb\n",
    "><br>I need to zoom in more to the mesh to delineate smaller features\n",
    "><br>Tasks:\n",
    ">1. Redo hand-drawn feature lines.\n",
    ">2. Work with Professor Frachetti to evaluate my hand-drawn feature lines.\n",
    "><br>&emsp;Learn how to identify and evaluate features\n",
    ">3. Get familiarized with CrestCODE code base\n",
    "><br>&emsp;Possible edits on the base code to introduce additional parameters\n",
    ">4. Try out exaggerated shading tool to investigate features I might miss from the 3D view\n",
    "\n",
    "Items I worked on\n",
    "1. Drawing_Feature_Lines_Blender.ipynb\n"
   ]
  },
  {
   "attachments": {},
   "cell_type": "markdown",
   "metadata": {},
   "source": [
    "# Monday March 27, 2023\n",
    "Did\n",
    "1. GroundTruth_Blender.ipynb\n",
    ">Drew updated feature lines!\n",
    "><br>I examined the mesh more closely and drew updated feature lines!\n",
    "><br>I found that Blender's clay_muddy.exr option for MATCAP shows a lot more details other options missed"
   ]
  }
 ],
 "metadata": {
  "language_info": {
   "name": "python"
  },
  "orig_nbformat": 4
 },
 "nbformat": 4,
 "nbformat_minor": 2
}
