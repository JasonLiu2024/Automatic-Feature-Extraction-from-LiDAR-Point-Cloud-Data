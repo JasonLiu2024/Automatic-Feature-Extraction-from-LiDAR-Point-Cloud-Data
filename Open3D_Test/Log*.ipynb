{
 "cells": [
  {
   "attachments": {},
   "cell_type": "markdown",
   "metadata": {},
   "source": [
    "# Log\n",
    "This files records progress I made in this project!"
   ]
  },
  {
   "attachments": {},
   "cell_type": "markdown",
   "metadata": {},
   "source": [
    "# Monday March 20, 2023\n",
    "Items I worked on\n",
    "1. GroundTruth_Blender.ipynb\n",
    ">Completed sections: Motivation and Process, Obtaining Ground Truth based on Human Visual Recognition in Blender, \n",
    "><br>Started section: Observations, Drawing Feature Lines in Blender\n",
    "2. Comparison_230310.ipynb\n",
    ">Fixed image display errors\n",
    "3. Drawing_Feature_Lines_Blender.ipynb\n",
    ">Started\n",
    "\n",
    "ALSO: Reorganized folders"
   ]
  }
 ],
 "metadata": {
  "language_info": {
   "name": "python"
  },
  "orig_nbformat": 4
 },
 "nbformat": 4,
 "nbformat_minor": 2
}
