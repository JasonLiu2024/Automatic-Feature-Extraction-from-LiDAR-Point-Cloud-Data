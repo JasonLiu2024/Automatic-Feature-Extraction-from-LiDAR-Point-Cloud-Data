{
 "cells": [
  {
   "attachments": {},
   "cell_type": "markdown",
   "metadata": {},
   "source": [
    "# Log\n",
    "This files records progress I made in this project!"
   ]
  },
  {
   "attachments": {},
   "cell_type": "markdown",
   "metadata": {},
   "source": [
    "# Monday March 20, 2023\n",
    "Items I worked on\n",
    "1. GroundTruth_Blender.ipynb\n",
    ">Completed sections: Motivation and Process, Obtaining Ground Truth based on Human Visual Recognition in Blender, \n",
    "><br>Started section: Observations, Drawing Feature Lines in Blender\n",
    "2. Comparison_230310.ipynb\n",
    ">Fixed image display errors\n",
    "3. Drawing_Feature_Lines_Blender.ipynb\n",
    ">Started\n",
    "\n",
    "ALSO: Reorganized folders"
   ]
  },
  {
   "attachments": {},
   "cell_type": "markdown",
   "metadata": {},
   "source": [
    "# Tuesday March 21, 2023\n",
    "Did\n",
    "1. Submitted application to Undergraduate Research Symposium\n",
    ">Project title: Feature Extraction from LiDAR Data\n",
    "\n",
    "Items I worked on\n",
    "1. Cropping.blend\n",
    ">obtained shaded images of crop_remote_230314 (tugunbulak)\n",
    "2. GroundTruth_Blender.ipynb\n",
    ">updated image showing my hand-drawn feature lines on the shaded mesh from 1.\n",
    "><br>added observations from comparing hand-drawn feature lines against calculated feature lines and shaded mesh\n",
    "3. Drawing_Feature_Lines_Blender.ipynb\n",
    ">"
   ]
  }
 ],
 "metadata": {
  "language_info": {
   "name": "python"
  },
  "orig_nbformat": 4
 },
 "nbformat": 4,
 "nbformat_minor": 2
}
