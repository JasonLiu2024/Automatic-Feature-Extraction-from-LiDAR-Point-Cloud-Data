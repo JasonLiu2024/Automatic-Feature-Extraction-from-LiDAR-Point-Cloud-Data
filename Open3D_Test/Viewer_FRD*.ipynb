{
 "cells": [
  {
   "cell_type": "code",
   "execution_count": 87,
   "metadata": {},
   "outputs": [],
   "source": [
    "import numpy as np\n",
    "import open3d as o3d\n",
    "import igl\n",
    "import meshplot as mp"
   ]
  },
  {
   "attachments": {},
   "cell_type": "markdown",
   "metadata": {},
   "source": [
    "# Turn .PLY Mesh into .PLY2 Mesh\n",
    "We need .PLY2 file to use Shin Yoshizawa (et al.)'s Crest Line code (http://www2.riken.jp/brict/Yoshizawa/Research/Crest.html)\n",
    "<br>The .PLY2 file is made of 4 parts (http://www2.riken.jp/brict/Yoshizawa/Research/PLYformat/PLYformat.html)\n",
    "<br>&emsp;this file format is good for: \"approximation of the smooth surfaces\" (quote from website)\n",
    "<br>1. Line 1: # of vertices (Integer)\n",
    "<br>2. Line 2: # of triangles (Integer)\n",
    "<br>3. Set of vertex coordinates\n",
    "<br>&emsp;1x vertex per line\n",
    "<br>&emsp;Format: (Double x, Double y, Double z) <-Remove comma!\n",
    "<br>4. Set of face information\n",
    "<br>&emsp;face = triangle\n",
    "<br>&emsp;Format: (3, Int x, Int y, Int z) <-Remove comma!\n",
    "<br>&emsp;here, x, y, and z are vertex ID, which are integers\n",
    "\n",
    "The PSEUDO_PLY is:\n",
    "1st line is a number of vertices. \n",
    "2nd line is a number of triangles. \n",
    "3rd line is a neighborhood size (Integer) for fitting. \n",
    "4th line is 0 (no crest line tracing) or 1 (with crest line tracing). After these four lines, there are vertex coordinates and face information as PLY2 format but there is no 3 for face line (only three vertex IDs)."
   ]
  },
  {
   "cell_type": "code",
   "execution_count": null,
   "metadata": {},
   "outputs": [],
   "source": [
    "MESHFILE = \"../Open3D_Test/LargeAreas/LargeArea_3/3_path=8.ply\"\n",
    "mesh = o3d.io.read_triangle_mesh(MESHFILE)\n",
    "verts = np.asarray(mesh.vertices)\n",
    "verts_count = len(verts)\n",
    "print(\"Vertices: \" + str(verts_count) + \" Total\")\n",
    "print(verts)\n",
    "faces = np.asarray(mesh.triangles)\n",
    "faces_count = len(faces)\n",
    "print(\"Faces(Triangles): \" + str(faces_count) + \" Total\")\n",
    "print(faces)"
   ]
  },
  {
   "cell_type": "code",
   "execution_count": 38,
   "metadata": {},
   "outputs": [],
   "source": [
    "PSEUDO_PLY2 = 'ply2.txt'\n",
    "NEWLINE = '\\n'\n",
    "NEIGHBOR = 3\n",
    "CRESTLINE = 1 # 0 means NO Crest line, 1 means YES Crest line\n",
    "with open(PSEUDO_PLY2, 'w') as f:\n",
    "    # num vertices\n",
    "    f.write(str(verts_count) + NEWLINE)\n",
    "    # num triangles\n",
    "    f.write(str(faces_count) + NEWLINE)\n",
    "    # neighborhood size\n",
    "    f.write(str(NEIGHBOR) + NEWLINE)\n",
    "    # Crestline Y/N\n",
    "    f.write(str(1) + NEWLINE)\n",
    "    # vertices (coordinates)\n",
    "    for i in range(verts_count):\n",
    "        f.write(\" \".join(map(str, verts[i])) + NEWLINE)\n",
    "    # faces (vertex IDs)\n",
    "    for j in range(faces_count):\n",
    "        f.write(\" \".join(map(str, faces[j])) + NEWLINE)"
   ]
  },
  {
   "attachments": {},
   "cell_type": "markdown",
   "metadata": {},
   "source": [
    "1st line is a number of convex/concave crest line points (Integer). \n",
    "2nd line is a number of convex/concave crest line edges. \n",
    "3rd line is a number of crest line connected components (Integer).\n",
    "Let us notate V, E, and N for above numbers, respectively. \n",
    "Starting from 4th line: \n",
    "there are V lines which include three Double and one Integer values in one line as \"%lf %lf %lf %d\": x,y,z of crest line point and the connected component ID. The line number of the file minus 4 represents a crest point ID. \n",
    "Next, there are N lines which include three Double values in one line: Ridgeness, Sphericalness and Cyclideness for each corresponded connected component ID (ex. 1st line of this section corresponds ID 0 of the connected component, 2nd line of them represents ID 1 and so on). \n",
    "Finally, there are E lines which include three Integer values: pair of crest points ID (edge) and the triangle ID of original mesh which includes this edge (if there is -1 of that triangle ID then that edge is a connecting edge)"
   ]
  },
  {
   "cell_type": "code",
   "execution_count": null,
   "metadata": {},
   "outputs": [],
   "source": [
    "RIDGES = \"ridges.txt\"\n",
    "RI_V, RI_E, RI_N, RI_vtx, RI_edg, RI_cmp = read_RnR(RIDGES)\n",
    "RAVINES = \"ravines.txt\"\n",
    "RA_V, RA_E, RA_N, RA_vtx, RA_edg, RA_cmp = read_RnR(RAVINES)"
   ]
  },
  {
   "cell_type": "code",
   "execution_count": 117,
   "metadata": {},
   "outputs": [
    {
     "data": {
      "application/vnd.jupyter.widget-view+json": {
       "model_id": "eb6f9a8b857445f88d36acbb82b7a63a",
       "version_major": 2,
       "version_minor": 0
      },
      "text/plain": [
       "Renderer(camera=PerspectiveCamera(children=(DirectionalLight(color='white', intensity=0.6, position=(-140.0000…"
      ]
     },
     "metadata": {},
     "output_type": "display_data"
    },
    {
     "data": {
      "text/plain": [
       "1"
      ]
     },
     "execution_count": 117,
     "metadata": {},
     "output_type": "execute_result"
    }
   ],
   "source": [
    "p = mp.plot(verts, faces, return_plot=True)\n",
    "RI_s = np.zeros(shape = (RI_E, 3))\n",
    "RI_t = np.zeros(shape = (RI_E, 3))\n",
    "for i in range(RI_E):\n",
    "    RI_s[i] = RI_vtx[RI_edg[i, 0]][0:3]\n",
    "    RI_t[i] = RI_vtx[RI_edg[i, 1]][0:3]\n",
    "p.add_lines(RI_s, RI_t, shading={\"line_color\": \"red\", \"line_width\": 10.0})\n",
    "# p.add_lines(verts[RA_edg[:,0]], verts[RA_edg[:,1]], shading={\"line_color\": \"blue\", \"line_width\": 10.0})"
   ]
  },
  {
   "cell_type": "code",
   "execution_count": 42,
   "metadata": {},
   "outputs": [
    {
     "name": "stdout",
     "output_type": "stream",
     "text": [
      "[[0. 0.]\n",
      " [0. 0.]\n",
      " [0. 0.]]\n"
     ]
    }
   ],
   "source": [
    "V = 4\n",
    "vertices = np.zeros(shape = (3, 2))\n",
    "print(vertices)"
   ]
  },
  {
   "cell_type": "code",
   "execution_count": 69,
   "metadata": {},
   "outputs": [
    {
     "name": "stdout",
     "output_type": "stream",
     "text": [
      "(2, 2)\n",
      "[3 4]\n",
      "2\n",
      "[[1 2]\n",
      " [3 4]]\n"
     ]
    }
   ],
   "source": [
    "vertices = np.array([\n",
    "    [1,2],\n",
    "    [3,4]\n",
    "    ])\n",
    "print(vertices.shape)\n",
    "print(vertices[1])\n",
    "print(vertices[0, 1])\n",
    "print(vertices)"
   ]
  },
  {
   "cell_type": "code",
   "execution_count": null,
   "metadata": {},
   "outputs": [],
   "source": []
  }
 ],
 "metadata": {
  "kernelspec": {
   "display_name": "generalPurpose",
   "language": "python",
   "name": "python3"
  },
  "language_info": {
   "codemirror_mode": {
    "name": "ipython",
    "version": 3
   },
   "file_extension": ".py",
   "mimetype": "text/x-python",
   "name": "python",
   "nbconvert_exporter": "python",
   "pygments_lexer": "ipython3",
   "version": "3.9.13"
  },
  "orig_nbformat": 4
 },
 "nbformat": 4,
 "nbformat_minor": 2
}
