{
 "cells": [
  {
   "cell_type": "code",
   "execution_count": 87,
   "metadata": {},
   "outputs": [],
   "source": [
    "import numpy as np\n",
    "import open3d as o3d\n",
    "import igl\n",
    "import meshplot as mp"
   ]
  },
  {
   "attachments": {},
   "cell_type": "markdown",
   "metadata": {},
   "source": [
    "# Turn .PLY Mesh into .PLY2 Mesh\n",
    "We need .PLY2 file to use Shin Yoshizawa (et al.)'s Crest Line code (http://www2.riken.jp/brict/Yoshizawa/Research/Crest.html)\n",
    "<br>The .PLY2 file is made of 4 parts (http://www2.riken.jp/brict/Yoshizawa/Research/PLYformat/PLYformat.html)\n",
    "<br>&emsp;this file format is good for: \"approximation of the smooth surfaces\" (quote from website)\n",
    "<br>1. Line 1: # of vertices (Integer)\n",
    "<br>2. Line 2: # of triangles (Integer)\n",
    "<br>3. Set of vertex coordinates\n",
    "<br>&emsp;1x vertex per line\n",
    "<br>&emsp;Format: (Double x, Double y, Double z) <-Remove comma!\n",
    "<br>4. Set of face information\n",
    "<br>&emsp;face = triangle\n",
    "<br>&emsp;Format: (3, Int x, Int y, Int z) <-Remove comma!\n",
    "<br>&emsp;here, x, y, and z are vertex ID, which are integers\n",
    "\n",
    "The PSEUDO_PLY is:\n",
    "1st line is a number of vertices. \n",
    "2nd line is a number of triangles. \n",
    "3rd line is a neighborhood size (Integer) for fitting. \n",
    "4th line is 0 (no crest line tracing) or 1 (with crest line tracing). After these four lines, there are vertex coordinates and face information as PLY2 format but there is no 3 for face line (only three vertex IDs)."
   ]
  },
  {
   "cell_type": "code",
   "execution_count": 29,
   "metadata": {},
   "outputs": [
    {
     "name": "stdout",
     "output_type": "stream",
     "text": [
      "Vertices: 71060 Total\n",
      "[[ -88.71260834 -139.15951538  -32.98026276]\n",
      " [ -91.72106934 -144.24497986  -32.98026276]\n",
      " [ -89.14536285 -139.76264954  -32.98026276]\n",
      " ...\n",
      " [-189.27557373  -93.81411743   -7.54122734]\n",
      " [-189.27392578  -92.96653748   -7.54092979]\n",
      " [-189.21330261  -92.32481384   -7.5490818 ]]\n",
      "Faces(Triangles): 141827 Total\n",
      "[[    1    15    14]\n",
      " [    1     3    15]\n",
      " [    3     7    15]\n",
      " ...\n",
      " [71059 70265 70301]\n",
      " [71059 70301 68275]\n",
      " [71059 68275 69732]]\n"
     ]
    }
   ],
   "source": [
    "MESHFILE = \"../Open3D_Test/LargeAreas/LargeArea_3/3_path=8.ply\"\n",
    "mesh = o3d.io.read_triangle_mesh(MESHFILE)\n",
    "verts = np.asarray(mesh.vertices)\n",
    "verts_count = len(verts)\n",
    "print(\"Vertices: \" + str(verts_count) + \" Total\")\n",
    "print(verts)\n",
    "faces = np.asarray(mesh.triangles)\n",
    "faces_count = len(faces)\n",
    "print(\"Faces(Triangles): \" + str(faces_count) + \" Total\")\n",
    "print(faces)"
   ]
  },
  {
   "cell_type": "code",
   "execution_count": 37,
   "metadata": {},
   "outputs": [
    {
     "name": "stdout",
     "output_type": "stream",
     "text": [
      "[-189.21330261  -92.32481384   -7.5490818 ]\n",
      "[71059 68275 69732]\n"
     ]
    }
   ],
   "source": [
    "print(verts[verts_count - 1])\n",
    "print(faces[faces_count - 1])"
   ]
  },
  {
   "cell_type": "code",
   "execution_count": 38,
   "metadata": {},
   "outputs": [],
   "source": [
    "PSEUDO_PLY2 = 'ply2.txt'\n",
    "NEWLINE = '\\n'\n",
    "NEIGHBOR = 3\n",
    "CRESTLINE = 0 # 0 means NO Crest line, 1 means YES Crest line\n",
    "with open(PSEUDO_PLY2, 'w') as f:\n",
    "    # num vertices\n",
    "    f.write(str(verts_count) + NEWLINE)\n",
    "    # num triangles\n",
    "    f.write(str(faces_count) + NEWLINE)\n",
    "    # neighborhood size\n",
    "    f.write(str(NEIGHBOR) + NEWLINE)\n",
    "    # Crestline Y/N\n",
    "    f.write(str(1) + NEWLINE)\n",
    "    # vertices (coordinates)\n",
    "    for i in range(verts_count):\n",
    "        f.write(\" \".join(map(str, verts[i])) + NEWLINE)\n",
    "    # faces (vertex IDs)\n",
    "    for j in range(faces_count):\n",
    "        f.write(\" \".join(map(str, faces[j])) + NEWLINE)"
   ]
  },
  {
   "cell_type": "markdown",
   "metadata": {},
   "source": []
  },
  {
   "attachments": {},
   "cell_type": "markdown",
   "metadata": {},
   "source": [
    "1st line is a number of convex/concave crest line points (Integer). \n",
    "2nd line is a number of convex/concave crest line edges. \n",
    "3rd line is a number of crest line connected components (Integer).\n",
    "Let us notate V, E, and N for above numbers, respectively. \n",
    "Starting from 4th line: \n",
    "there are V lines which include three Double and one Integer values in one line as \"%lf %lf %lf %d\": x,y,z of crest line point and the connected component ID. The line number of the file minus 4 represents a crest point ID. \n",
    "Next, there are N lines which include three Double values in one line: Ridgeness, Sphericalness and Cyclideness for each corresponded connected component ID (ex. 1st line of this section corresponds ID 0 of the connected component, 2nd line of them represents ID 1 and so on). \n",
    "Finally, there are E lines which include three Integer values: pair of crest points ID (edge) and the triangle ID of original mesh which includes this edge (if there is -1 of that triangle ID then that edge is a connecting edge)"
   ]
  },
  {
   "cell_type": "code",
   "execution_count": 62,
   "metadata": {},
   "outputs": [
    {
     "name": "stdout",
     "output_type": "stream",
     "text": [
      "111111\n",
      "222222\n",
      "333333\n",
      "[[ 0.1   0.2   0.3   9.  ]\n",
      " [ 0.4   0.5   0.6  10.  ]\n",
      " [ 0.11  0.12  0.13 11.  ]]\n"
     ]
    }
   ],
   "source": [
    "f = open(\"test.txt\", 'r')\n",
    "line1 = int(f.readline())\n",
    "print(line1)\n",
    "line2 = int(f.readline())\n",
    "print(line2)\n",
    "line3 = int(f.readline())\n",
    "print(line3)\n",
    "vertices = np.zeros(shape = (3, 4))\n",
    "for i in range(3):\n",
    "    line = f.readline()\n",
    "    vertices[i] = [float(n) for n in line.split()]\n",
    "print(vertices)"
   ]
  },
  {
   "cell_type": "code",
   "execution_count": 85,
   "metadata": {},
   "outputs": [],
   "source": [
    "def read_RnR(FILE):\n",
    "    f = open(FILE, 'r')\n",
    "    # num of vertices\n",
    "    V = int(f.readline())\n",
    "    # num of edges\n",
    "    E = int(f.readline())\n",
    "    # num of connected components\n",
    "    N = int(f.readline())\n",
    "    # vertices\n",
    "    \"\"\"[x, y, z, connected cmp ID]; index = vtx ID\"\"\"\n",
    "    vertices = np.zeros(shape = (V, 4))\n",
    "    for i in range(V): \n",
    "        #index = pointID\n",
    "        line = f.readline()\n",
    "        vertices[i] = [float(n) for n in line.split()]\n",
    "    \"\"\"print(\"first vtx\")\n",
    "    print(vertices[0])\n",
    "    print(\"last vtx\")\n",
    "    print(vertices[V - 1])\n",
    "    print(vertices.dtype)\"\"\"\n",
    "    # connected components\n",
    "    \"\"\"[Ridgeness, Sphericalness, Cyclideness]; index = connected cmp ID\"\"\"\n",
    "    connected_cmp = np.zeros(shape = (N, 3))\n",
    "    for j in range(N):\n",
    "        line = f.readline()\n",
    "        connected_cmp[j] = [float(n) for n in line.split()]\n",
    "    \"\"\"print(\"first connected cmp\")\n",
    "    print(connected_cmp[0])\n",
    "    print(\"last connected cmp\")\n",
    "    print(connected_cmp[N - 1])\n",
    "    print(connected_cmp.dtype)\"\"\"\n",
    "    # edges (u,v)\n",
    "    \"\"\"[vtx ID of u, vtx ID of v, triangle ID]; index = edge ID\"\"\"\n",
    "    edges = np.zeros(shape = (E, 3), dtype=int)\n",
    "    for k in range(E):\n",
    "        line = f.readline()\n",
    "        edges[k] = [n for n in line.split()]\n",
    "    \"\"\"print(\"first edge\")\n",
    "    print(edges[0])\n",
    "    print(\"last edge:\")\n",
    "    print(edges[E - 1])\n",
    "    print(edges.dtype)\"\"\"\n",
    "    return V, E, N, vertices, edges, connected_cmp"
   ]
  },
  {
   "cell_type": "code",
   "execution_count": null,
   "metadata": {},
   "outputs": [],
   "source": [
    "RIDGES = \"ridges.txt\"\n",
    "RI_V, RI_E, RI_N, RI_vtx, RI_edg, RI_cmp = read_RnR(RIDGES)\n",
    "RAVINES = \"ravines.txt\"\n",
    "RA_V, RA_E, RA_N, RA_vtx, RA_edg, RA_cmp = read_RnR(RAVINES)"
   ]
  },
  {
   "cell_type": "code",
   "execution_count": 114,
   "metadata": {},
   "outputs": [
    {
     "data": {
      "text/plain": [
       "array([ -85.755051, -127.727608,  -29.660699])"
      ]
     },
     "execution_count": 114,
     "metadata": {},
     "output_type": "execute_result"
    }
   ],
   "source": [
    "RI_vtx[RI_edg[i, 0]][0:3]\n"
   ]
  },
  {
   "cell_type": "code",
   "execution_count": null,
   "metadata": {},
   "outputs": [],
   "source": [
    "def show_RnR(FILE):\n",
    "# reading from file\n",
    "    f = open(FILE, 'r')\n",
    "    # num of vertices\n",
    "    V = int(f.readline())\n",
    "    # num of edges\n",
    "    E = int(f.readline())\n",
    "    # num of connected components\n",
    "    N = int(f.readline())\n",
    "    # vertices\n",
    "    \"\"\"[x, y, z, connected cmp ID]; index = vtx ID\"\"\"\n",
    "    vertices = np.zeros(shape = (V, 4))\n",
    "    for i in range(V): \n",
    "        #index = pointID\n",
    "        line = f.readline()\n",
    "        vertices[i] = [float(n) for n in line.split()]\n",
    "    # connected components\n",
    "    \"\"\"[Ridgeness, Sphericalness, Cyclideness]; index = connected cmp ID\"\"\"\n",
    "    connected_cmp = np.zeros(shape = (N, 3))\n",
    "    for j in range(N):\n",
    "        line = f.readline()\n",
    "        connected_cmp[j] = [float(n) for n in line.split()]\n",
    "    # edges (u,v)\n",
    "    \"\"\"[vtx ID of u, vtx ID of v, triangle ID]; index = edge ID\"\"\"\n",
    "    edges = np.zeros(shape = (E, 3), dtype=int)\n",
    "    for k in range(E):\n",
    "        line = f.readline()\n",
    "        edges[k] = [n for n in line.split()]\n",
    "# plot base mesh\n",
    "p = mp.plot(verts, faces, return_plot=True)\n"
   ]
  },
  {
   "cell_type": "code",
   "execution_count": 117,
   "metadata": {},
   "outputs": [
    {
     "data": {
      "application/vnd.jupyter.widget-view+json": {
       "model_id": "eb6f9a8b857445f88d36acbb82b7a63a",
       "version_major": 2,
       "version_minor": 0
      },
      "text/plain": [
       "Renderer(camera=PerspectiveCamera(children=(DirectionalLight(color='white', intensity=0.6, position=(-140.0000…"
      ]
     },
     "metadata": {},
     "output_type": "display_data"
    },
    {
     "data": {
      "text/plain": [
       "1"
      ]
     },
     "execution_count": 117,
     "metadata": {},
     "output_type": "execute_result"
    }
   ],
   "source": [
    "p = mp.plot(verts, faces, return_plot=True)\n",
    "RI_s = np.zeros(shape = (RI_E, 3))\n",
    "RI_t = np.zeros(shape = (RI_E, 3))\n",
    "for i in range(RI_E):\n",
    "    RI_s[i] = RI_vtx[RI_edg[i, 0]][0:3]\n",
    "    RI_t[i] = RI_vtx[RI_edg[i, 1]][0:3]\n",
    "p.add_lines(RI_s, RI_t, shading={\"line_color\": \"red\", \"line_width\": 10.0})\n",
    "# p.add_lines(verts[RA_edg[:,0]], verts[RA_edg[:,1]], shading={\"line_color\": \"blue\", \"line_width\": 10.0})"
   ]
  },
  {
   "cell_type": "code",
   "execution_count": 42,
   "metadata": {},
   "outputs": [
    {
     "name": "stdout",
     "output_type": "stream",
     "text": [
      "[[0. 0.]\n",
      " [0. 0.]\n",
      " [0. 0.]]\n"
     ]
    }
   ],
   "source": [
    "V = 4\n",
    "vertices = np.zeros(shape = (3, 2))\n",
    "print(vertices)"
   ]
  },
  {
   "cell_type": "code",
   "execution_count": 69,
   "metadata": {},
   "outputs": [
    {
     "name": "stdout",
     "output_type": "stream",
     "text": [
      "(2, 2)\n",
      "[3 4]\n",
      "2\n",
      "[[1 2]\n",
      " [3 4]]\n"
     ]
    }
   ],
   "source": [
    "vertices = np.array([\n",
    "    [1,2],\n",
    "    [3,4]\n",
    "    ])\n",
    "print(vertices.shape)\n",
    "print(vertices[1])\n",
    "print(vertices[0, 1])\n",
    "print(vertices)"
   ]
  },
  {
   "cell_type": "code",
   "execution_count": null,
   "metadata": {},
   "outputs": [],
   "source": []
  }
 ],
 "metadata": {
  "kernelspec": {
   "display_name": "generalPurpose",
   "language": "python",
   "name": "python3"
  },
  "language_info": {
   "codemirror_mode": {
    "name": "ipython",
    "version": 3
   },
   "file_extension": ".py",
   "mimetype": "text/x-python",
   "name": "python",
   "nbconvert_exporter": "python",
   "pygments_lexer": "ipython3",
   "version": "3.9.13"
  },
  "orig_nbformat": 4
 },
 "nbformat": 4,
 "nbformat_minor": 2
}
